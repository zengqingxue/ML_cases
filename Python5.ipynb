{
 "cells": [
  {
   "cell_type": "markdown",
   "metadata": {},
   "source": [
    "<img src='data:image/png;base64,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'>\n",
    "\n",
    "\n",
    "# 七月在线 《Python基础入门 第三期》 第五课 函数（下）\n",
    "\n",
    "\n",
    "> [七月在线](https://www.julyedu.com) David@2018-12-15"
   ]
  },
  {
   "cell_type": "markdown",
   "metadata": {},
   "source": [
    "## 本节课程目标\n",
    "### 复习上节课内容\n",
    "### 函数式编程思想\n",
    "### 匿名函数\n",
    "### 高阶函数与内置高阶函数map,reduce,filter,sorted\n",
    "### 嵌套函数与函数闭包，函数对象\n",
    "### Python名字访问规则：LEGB\n",
    "### 装饰器\n",
    "### 完成课后作业："
   ]
  },
  {
   "cell_type": "markdown",
   "metadata": {},
   "source": [
    "## 函数式编程思想"
   ]
  },
  {
   "cell_type": "markdown",
   "metadata": {},
   "source": [
    "- 函数是第一等公民First Class\n",
    "  - 函数式编程是一种编程范式，是如何编写程度的方法论。\n",
    "  - 把运算过程尽量变成一系列函数的调用。属于结构化编程\n",
    "   \n",
    "  \n",
    "- 特点：\n",
    "  - 允许函数作为参数，传入另一个函数\n",
    "  - 返回一个函数"
   ]
  },
  {
   "cell_type": "code",
   "execution_count": 2,
   "metadata": {},
   "outputs": [],
   "source": [
    "%config ZMQInteractiveShell.ast_node_interactivity='all'"
   ]
  },
  {
   "cell_type": "markdown",
   "metadata": {},
   "source": [
    "## 匿名函数"
   ]
  },
  {
   "cell_type": "code",
   "execution_count": null,
   "metadata": {},
   "outputs": [],
   "source": [
    "type(lambda a,b:a-b)\n",
    "#定义，lambda\n",
    "#函数体不用写return\n",
    "\n",
    "a=5\n",
    "b=7\n",
    "lambda1=lambda name1:name1**2\n",
    "lambda1(a)"
   ]
  },
  {
   "cell_type": "markdown",
   "metadata": {},
   "source": [
    "## 高阶函数"
   ]
  },
  {
   "cell_type": "code",
   "execution_count": 8,
   "metadata": {},
   "outputs": [],
   "source": [
    "#一切皆object\n",
    "#function is a object,or not?\n",
    "#给已有的函数添加功能\n",
    "def myfun1():\n",
    "    pass\n",
    "\n",
    "\n",
    "#什么是高阶函数:能接近其它函数作用参数函数"
   ]
  },
  {
   "cell_type": "markdown",
   "metadata": {},
   "source": [
    "### Python内置高阶函数"
   ]
  },
  {
   "cell_type": "code",
   "execution_count": null,
   "metadata": {},
   "outputs": [],
   "source": [
    "#map,reduce,filter\n",
    "l1=[1,2,3,4,5,6,7]\n",
    "l2=[7,8,9,10,11,12,13]\n",
    "\n",
    "list(map(lambda x:x**3,l1))\n",
    "\n",
    "list(map(lambda x,y:x+y,l1,l2))\n",
    "\n",
    "a=list(map(lambda x,y:x+y,l1,l1))\n",
    "print(\"a:\",a)\n",
    "\n",
    "\n",
    "list(map(lambda x,y:x+y,l1,l2))\n",
    "\n",
    "#Reduce\n",
    "from functools import reduce\n",
    "def func1(a,b):\n",
    "    return a-b\n",
    "\n",
    "reduce(func1,l1)\n",
    "\n",
    "\n",
    "## filter\n",
    "\n",
    "list(filter(lambda x:True if x<3 else False,l1))"
   ]
  },
  {
   "cell_type": "markdown",
   "metadata": {},
   "source": [
    "## 嵌套函数与函数闭包"
   ]
  },
  {
   "cell_type": "code",
   "execution_count": null,
   "metadata": {},
   "outputs": [],
   "source": [
    "#__closure__#新建闭包函数等于新建函数+附加自由变量\n",
    "#函数编译过程中内部函数会有一个闭包的特殊属性__closure__(func_closure)。__closure__属性是一个由cell对象组成的元组，包含了由多个作用域引用的变量\n",
    "def outter():\n",
    "    name='jack'#定义了，被下层函数使用\n",
    "    age=24#定义了，被下层函数使用\n",
    "    address='BJ'#定义了，被下层函数做返回值\n",
    "    hobbie='fishing'#定义了但未被本函数和下层函数使用\n",
    "    \n",
    "    def inner1():\n",
    "        new_name=name[0:3]\n",
    "        new_age+=age\n",
    "        inner1_l=locals()\n",
    "        inner1_g=globals()\n",
    "        return address,inner1_l#使用outer的\n",
    "    return inner1\n",
    "inner1 = outter()"
   ]
  },
  {
   "cell_type": "markdown",
   "metadata": {},
   "source": [
    "##### 延伸阅读:函数对象PyFunctionObject与代码对象PyCodeObject，与PyFrameObject\n",
    "\n",
    "```\n",
    "__code__#字节码对象\n",
    "__closure__#函数对象，___closure__属性是一个由cell对象组成的元组，包含了由多个作用域引用的变量,涉及闭包\n",
    "```"
   ]
  },
  {
   "cell_type": "code",
   "execution_count": 10,
   "metadata": {},
   "outputs": [
    {
     "data": {
      "text/plain": [
       "'inner1'"
      ]
     },
     "execution_count": 10,
     "metadata": {},
     "output_type": "execute_result"
    },
    {
     "data": {
      "text/plain": [
       "(('address', 'age', 'name'),\n",
       " (<cell at 0x000001BC7A0E6048: str object at 0x000001BC7A0DFDC0>,\n",
       "  <cell at 0x000001BC7A0E62B8: int object at 0x0000000062116F20>,\n",
       "  <cell at 0x000001BC7A0E6378: str object at 0x000001BC7A0DF688>),\n",
       " 4)"
      ]
     },
     "execution_count": 10,
     "metadata": {},
     "output_type": "execute_result"
    }
   ],
   "source": [
    "inner1=outter()\n",
    "\n",
    "inner1.__name__\n",
    "inner1.__code__.co_freevars,inner1.__closure__,inner1.__code__.co_nlocals # inner1函数内局部变量数"
   ]
  },
  {
   "cell_type": "markdown",
   "metadata": {},
   "source": [
    "## Python名字访问规则：LEGB"
   ]
  },
  {
   "cell_type": "markdown",
   "metadata": {},
   "source": [
    "<img src='data:image/jpeg;base64,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'>"
   ]
  },
  {
   "cell_type": "code",
   "execution_count": null,
   "metadata": {},
   "outputs": [],
   "source": [
    "#而每当进入一个函数时，就会新产生一个locals()\n",
    "g_1='global value in Global'\n",
    "\n",
    "def func1():\n",
    "    print(locals() is globals())#此时的loclas()就仅指func1内\n",
    "    func1_name='local values in func1'\n",
    "    print('locals in func1: ', locals())\n",
    "    return locals() is globals()\n",
    "\n",
    "# func1()\n"
   ]
  },
  {
   "cell_type": "code",
   "execution_count": null,
   "metadata": {},
   "outputs": [],
   "source": [
    "#分别定义位于LEGB四个不同作用的，相同名字value1的变量\n",
    "\n",
    "__builtins__.value1='B value stored in __builtins__'#B\n",
    "value1='G value stored in Global'#G\n",
    "del value1\n",
    "\n",
    "\n",
    "#而当出现嵌套函数inner时，也会新产生一个locals()，而如果inner此时还引用了在outter这个函数作用域内出现的变量时，就是闭包\n",
    "def outter():\n",
    "    \n",
    "    value1='E value stored in enclosure'#Values store in Enclosure\n",
    "\n",
    "    \n",
    "    def inner():\n",
    "        value1='L value stored in locals'\n",
    "        # Can't find value1 in local\n",
    "        print(value1,' referenced from outter')#此时的value1是inner1这个函数外层函数的变量\n",
    "    return inner\n",
    "\n",
    "outter()()"
   ]
  },
  {
   "cell_type": "markdown",
   "metadata": {},
   "source": [
    "## 装饰器"
   ]
  },
  {
   "cell_type": "code",
   "execution_count": null,
   "metadata": {},
   "outputs": [],
   "source": [
    "def fun1():\n",
    "    print ('this is foo1 function')\n",
    "\n",
    "def fun2():\n",
    "    print ('this is foo2 function')\n",
    "\n",
    "def fun3():\n",
    "    print ('this is foo3 function')\n",
    "    \n",
    "\n",
    "#为以上三个函数添加报时功能    \n",
    "import datetime\n",
    "\n",
    "#设计一个能接收函数的函数，功能是打印时间后，然后返回接收到的函数\n",
    "def outer_fun(func):\n",
    "    print(datetime.datetime.now())\n",
    "    return func\n",
    "\n",
    "outer_fun(fun2)()"
   ]
  },
  {
   "cell_type": "code",
   "execution_count": null,
   "metadata": {},
   "outputs": [],
   "source": [
    "# 使用 @ 语法糖\n",
    "# @是python装饰器的简便写法，是Python的语法糖\n",
    "\n",
    "import datetime\n",
    "\n",
    "def outer_fun(fun):\n",
    "    #do something you want here\n",
    "    str1='This is string from outer'\n",
    "  \n",
    "    def inner():\n",
    "        print(2)\n",
    "        print(str1)\n",
    "        print('from inner to execute:',fun.__name__)\n",
    "        print('the',fun.__name__,'result:',fun())\n",
    "        print('extra:',datetime.datetime.now())\n",
    "      \n",
    "    return inner\n",
    "\n",
    "#装饰器语法糖在要被包裹的函数前声明。\n",
    "#@后面的函数名，是把下边函数进行包裹的函数的名字outer_fun\n",
    "@outer_fun#为fun1函数添加一个装饰器函数叫outer_fun\n",
    "def fun1():\n",
    "    return 'this is fun1 function--'\n",
    "\n",
    "@outer_fun#为fun1函数添加一个装饰器函数，叫outer_fun\n",
    "def fun2():\n",
    "    return 'this is fun2 function--'\n",
    "\n",
    "# 装饰器在Python使用如此方便都要归因于\n",
    "# Python的函数能像普通的对象一样能作为参数传递给其他函数\n",
    "# 可以被赋值给其他变量，可以作为返回值，可以被定义在另外一个函数内\n",
    "\n",
    "#装饰器是AOP思想的体现。Aspect Oriented Programming（面向切面编程）\n",
    "fun1()\n",
    "dd=9\n",
    "print(dd)\n",
    "# fun2()"
   ]
  },
  {
   "cell_type": "code",
   "execution_count": null,
   "metadata": {},
   "outputs": [],
   "source": [
    "def outer(func):\n",
    "    def inner():\n",
    "        print('executed:',func())\n",
    "        print('shijian')\n",
    "    return inner\n",
    "\n",
    "@outer\n",
    "def fun1():\n",
    "    return 'this is fun1 function--'\n",
    "\n",
    "fun1()\n",
    "print(type(fun1))"
   ]
  },
  {
   "cell_type": "markdown",
   "metadata": {},
   "source": [
    "## 课后作业："
   ]
  },
  {
   "cell_type": "markdown",
   "metadata": {},
   "source": [
    "### 使用reduce函数实现找出一组数字列表中的最大值\n",
    "- 注意：reduce 是两两进行比较"
   ]
  },
  {
   "cell_type": "code",
   "execution_count": null,
   "metadata": {},
   "outputs": [],
   "source": []
  },
  {
   "cell_type": "markdown",
   "metadata": {},
   "source": [
    "### 求1000以内能同时被3和7整除的数有哪些。要求使用map与filter函数"
   ]
  },
  {
   "cell_type": "code",
   "execution_count": null,
   "metadata": {},
   "outputs": [],
   "source": []
  },
  {
   "cell_type": "markdown",
   "metadata": {},
   "source": [
    "### 要求使用map与filter函数，输出一个输入字符串里每个字符出现的次数"
   ]
  },
  {
   "cell_type": "code",
   "execution_count": null,
   "metadata": {},
   "outputs": [],
   "source": []
  },
  {
   "cell_type": "markdown",
   "metadata": {},
   "source": [
    "### 体现闭包的思想，创建一个三层嵌套的函数，并调用。"
   ]
  },
  {
   "cell_type": "code",
   "execution_count": null,
   "metadata": {},
   "outputs": [],
   "source": []
  },
  {
   "cell_type": "markdown",
   "metadata": {},
   "source": [
    "### 创建一个能接收不定长位置参数（数字）函数，返回是所有参数的和。\n",
    "- 现要求在这个函数每次调用时都有进行屏幕打印（该函数被调用）。\n",
    "- 请在不改动这个函数内部及调用的前提下实现(使用装饰器)"
   ]
  },
  {
   "cell_type": "code",
   "execution_count": null,
   "metadata": {},
   "outputs": [],
   "source": []
  }
 ],
 "metadata": {
  "kernelspec": {
   "display_name": "Python 3",
   "language": "python",
   "name": "python3"
  },
  "language_info": {
   "codemirror_mode": {
    "name": "ipython",
    "version": 3
   },
   "file_extension": ".py",
   "mimetype": "text/x-python",
   "name": "python",
   "nbconvert_exporter": "python",
   "pygments_lexer": "ipython3",
   "version": "3.6.5"
  },
  "latex_envs": {
   "LaTeX_envs_menu_present": true,
   "autoclose": false,
   "autocomplete": true,
   "bibliofile": "biblio.bib",
   "cite_by": "apalike",
   "current_citInitial": 1,
   "eqLabelWithNumbers": true,
   "eqNumInitial": 1,
   "hotkeys": {
    "equation": "Ctrl-E",
    "itemize": "Ctrl-I"
   },
   "labels_anchors": false,
   "latex_user_defs": false,
   "report_style_numbering": false,
   "user_envs_cfg": false
  },
  "toc": {
   "base_numbering": 1,
   "nav_menu": {},
   "number_sections": true,
   "sideBar": true,
   "skip_h1_title": false,
   "title_cell": "Table of Contents",
   "title_sidebar": "Contents",
   "toc_cell": false,
   "toc_position": {
    "height": "calc(100% - 180px)",
    "left": "10px",
    "top": "150px",
    "width": "349px"
   },
   "toc_section_display": true,
   "toc_window_display": false
  }
 },
 "nbformat": 4,
 "nbformat_minor": 2
}
