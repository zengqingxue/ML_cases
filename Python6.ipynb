{
 "cells": [
  {
   "cell_type": "markdown",
   "metadata": {},
   "source": [
    "<img src='data:image/png;base64,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'>\n",
    "\n",
    "\n",
    "# 七月在线 《Python基础入门 第三期》 第六课 面向对象基础\n",
    "\n",
    "\n",
    "> [七月在线](https://www.julyedu.com) David@2018-12-16"
   ]
  },
  {
   "cell_type": "markdown",
   "metadata": {},
   "source": [
    "## 本节课程目标\n",
    "### 复习上节课内容\n",
    "### 面向对象思想\n",
    "### 类的设计与创建\n",
    "### 类实例化对象并使用\n",
    "### 类成员一览\n",
    "### 类中的关键字与装饰器\n",
    "### 完成课后作业："
   ]
  },
  {
   "cell_type": "markdown",
   "metadata": {},
   "source": [
    "## 面向对象思想"
   ]
  },
  {
   "cell_type": "markdown",
   "metadata": {},
   "source": [
    "### 面向对象编程\n",
    "\n",
    "- 类class与对象object \n",
    "> - 对属于同一类事物的抽象叫类class\n",
    ">   - 比如汽车，门，猫。 \n",
    ">   - 之前学习使用的都是Python自带的数据类，这节课我们学习自己定义类class\n",
    "> - 某类事物中的一个具体的实例叫对象Object\n",
    ">   - 比如我家的那辆汽车，张伟办公室的大门，隔壁丽丽家的那只小花猫。\n",
    "\n",
    "- 类与对象的关系\n",
    "> - 类定义封装了数据与方法，类就是对象的模板，可以批量生产出许多的对象。\n",
    ">   - 比如`a=7`,7其实是整形数字int类的一个实例。那int这个类还可以’复刻’出许许多多的整形对象。这些对象共有的特征就是：整数性。\n",
    "> - 类(class)的变量是所有对象共享使用, 只有一个拷贝, 所有对象修改, 都可以被其他对象所见; \n",
    "> - 对象(object)的变量由类的每个对象所拥有, 每个对象都包含自己的一份拷贝, 不会影响其他对象;"
   ]
  },
  {
   "cell_type": "markdown",
   "metadata": {},
   "source": [
    "### Python中一切皆对象"
   ]
  },
  {
   "cell_type": "code",
   "execution_count": 2,
   "metadata": {},
   "outputs": [],
   "source": [
    "#Python中的一切对象都可以使用type查看它的类"
   ]
  },
  {
   "cell_type": "code",
   "execution_count": 4,
   "metadata": {},
   "outputs": [],
   "source": [
    "#isinstance,issubclass的使用"
   ]
  },
  {
   "cell_type": "markdown",
   "metadata": {},
   "source": [
    "## 类的设计与创建"
   ]
  },
  {
   "cell_type": "code",
   "execution_count": 2,
   "metadata": {},
   "outputs": [],
   "source": [
    "#学生类设计\n",
    "#总学生的人数，全部学生的姓名，已经毕业的学生的数量\n",
    "#考试功能，分数大于60分，pass,，计入总分，否则 fail\n",
    "#查分功能，如果考试次数\n",
    "#查所有已经毕业学员的姓名。\n",
    "\n",
    "\n",
    "class Student():\n",
    "    student_total = 0\n",
    "    student_graduated=0\n",
    "    student_namelist=[]\n",
    "    student_graduated_name_list=[]\n",
    "    \n",
    "    def __init__(self,name,age,gender):\n",
    "        self.name=name\n",
    "        self.age=age\n",
    "        self.gender=gender\n",
    "        self.__score=0\n",
    "        self.times=0#考试次数\n",
    "        Student.student_total+=1\n",
    "        Student.student_namelist.append(name)\n",
    "\n",
    "    def exam(self,examscore):#def函数在类中定义叫方法method,以和类外部定义的函数区分\n",
    "        if self.times==8:\n",
    "            return 'you already qualified,winner,no need to take exam again'\n",
    "        \n",
    "        if examscore<60:        \n",
    "            print('sorry,better luck next time!')\n",
    "        elif examscore>100:\n",
    "            print('you are cheating!')\n",
    "        else:\n",
    "            self.__score+=examscore\n",
    "            self.times+=1\n",
    "            print('OK!')\n",
    "            if self.times==8 and self.__score/self.times>80:#如果参加了八次考试，且平均分数大于80分，即可毕业\n",
    "                Student.student_graduated+=1\n",
    "                Student.student_graduated_name_list.append(self.name)\n",
    "                \n",
    "            \n",
    "    \n",
    "    def check(self,):\n",
    "        if self.times<8:\n",
    "            return 'you need to do more {8-self.times} tests to graduate!'\n",
    "        elif self.__score/self.times<80:\n",
    "            return 'sorry，you are not qualified in julyedu.com，your mean score is {self.__score/self.times}'            \n",
    "        else:\n",
    "            return 'you alreay graduated,winner!'\n",
    "\n",
    "    @classmethod\n",
    "    def get_graducated_student(cls,):\n",
    "        return Student.student_graduated\n",
    "    \n",
    "    @classmethod\n",
    "    def get_graducated_student_list(cls,):\n",
    "        return Student.student_graduated_name_list"
   ]
  },
  {
   "cell_type": "markdown",
   "metadata": {},
   "source": [
    "## 类实例化对象并使用"
   ]
  },
  {
   "cell_type": "code",
   "execution_count": 3,
   "metadata": {},
   "outputs": [],
   "source": [
    "#实例化并使用上面创建的类，并使用"
   ]
  },
  {
   "cell_type": "markdown",
   "metadata": {},
   "source": [
    "##  类成员一览"
   ]
  },
  {
   "cell_type": "markdown",
   "metadata": {},
   "source": [
    "- 数据成员\n",
    "  - 类变量与实例变量\n",
    "- 方法成员\n",
    "  - 类方法与实例方法"
   ]
  },
  {
   "cell_type": "markdown",
   "metadata": {},
   "source": [
    "###### 扩展阅读：私有成员"
   ]
  },
  {
   "cell_type": "code",
   "execution_count": null,
   "metadata": {},
   "outputs": [],
   "source": [
    "#私有成员：对类内部的属性及方法，通过在在标识符前加双 下划线__来实现的私有化\n",
    "#即使是在成员名面前加了__，依旧可以访问到。\n",
    " #因为python使用一种 name mangling 技术，将 __membername替换成 _classname__membername\n",
    "no2._Student__score\n",
    "### dir(no22)"
   ]
  },
  {
   "cell_type": "markdown",
   "metadata": {},
   "source": [
    "## 类中的关键字与装饰器详解"
   ]
  },
  {
   "cell_type": "markdown",
   "metadata": {},
   "source": [
    "### 类中的关键字"
   ]
  },
  {
   "cell_type": "code",
   "execution_count": null,
   "metadata": {},
   "outputs": [],
   "source": [
    "#关键字\n",
    "# cls\n",
    "# cls是指向类的指针，在类方法中第一个形参要命名为cls.\n",
    "\n",
    "# self\n",
    "# self是指向每个独立对象的指针.在实例方法中第一个形参被命名为self,以区别其它函数。 \n",
    "#对象方法以self参数，类方法以cls参数来传递。"
   ]
  },
  {
   "cell_type": "markdown",
   "metadata": {},
   "source": [
    "### 类中的装饰器"
   ]
  },
  {
   "cell_type": "code",
   "execution_count": null,
   "metadata": {},
   "outputs": [],
   "source": [
    "\n",
    "#装饰器\n",
    "#@staticmethod：类静态方法\n",
    "#@classmethod：类方法\n",
    "\n",
    "\n",
    "#@property—把函数调用伪装成对属性的访问,数据描述符属性的优先级高于实例名称空间中的同名成员。\n",
    "# 使用@property，不用再像java中使用getter,setter方法去设置和访问类变量   \n",
    "# 这时，也只有通过@property，才能对实例变量进行访问或设置，实现了对变量访问的控制，\n",
    "\n",
    "class Student1():\n",
    "    def __init__(self,name,age):  ###__init__实例初始化\n",
    "        self.name = name       ####self:实例变量，变量的名字叫name\n",
    "        self.__age=age\n",
    "        \n",
    "    @property #getter\n",
    "    def name1(self):\n",
    "        return self.name\n",
    "    \n",
    "    @name1.setter  # setter\n",
    "    def name1(self,newname):\n",
    "        self.name = newname\n",
    "        \n",
    "    @property #getter\n",
    "    def age(self):\n",
    "        return 0\n",
    "    @age.setter  # setter\n",
    "    def age(self,newage):\n",
    "        self.__age = newage\n",
    "        \n",
    "# 上面这样设置的是类变量可以被类实例随意访问，修改。\n",
    "# 注意，这里的name1，如果和实例变量name重名会导致，无限递归！！！\n",
    "# RecursionError: maximum recursion depth exceeded while calling a Python object\n",
    "\n",
    "# 但如果想让@property和类实例变量同名呢？  \n",
    "# 将实例变量设置为私有(像age一样)就不会导致重名引发递归死机了\n",
    "s1=Student1('jack',33)\n",
    "s1.name1\n",
    "\n",
    "s1.age#getter\n",
    "s1.age=22#setter\n",
    "\n",
    "s1.age"
   ]
  },
  {
   "cell_type": "markdown",
   "metadata": {},
   "source": [
    "##### 扩展阅读 魔术方法,`__*__`\n",
    "- 魔法方法就是可以给你的类增加魔力的特殊方法，如果你的对象实现（重载）了这些方法中的某一个，那么这个方法就会在特殊的情况下被 Python 所调用，\n",
    "- 你可以定义自己想要的行为，这些会自动发生。\n",
    "- 它们经常是两个下划线包围来命名的"
   ]
  },
  {
   "cell_type": "markdown",
   "metadata": {},
   "source": [
    "## 课后作业："
   ]
  },
  {
   "cell_type": "markdown",
   "metadata": {},
   "source": [
    "### 完成公司类的设计\n",
    "- 设计以下公司类，并实例化不同对象进行检查\n",
    "- 类成员\n",
    "  - 类下公司的总个数\n",
    "- 类方法\n",
    "  - 返回公司类共有多少个公司实例\n",
    "- 实例变量\n",
    "  - 公司名，简介，利润，销售额，总成本，雇员姓名，雇员人员。\n",
    "- 实例方法要求有：\n",
    "  - 招聘人才（每招一个人会有成本产生，影响雇员列表，人数，总成本）\n",
    "  - 解雇人员（每解雇一个人会有成本产生，影响雇员列表，人数 ，总成本）\n",
    "  - 公司广告推广 ( 影响总成本 )\n",
    "  - 交社保 ( 按公司雇员总人数计算，影响总成本 )\n",
    "  - 交税 ( 按公司雇员总人数计算，影响总成本 )\n",
    "  - 销售（按销售件数 * 价格计算销售额，利润按销售额 * 利润率进行计算利润。）\n",
    "  - 获取公司雇员列表\n",
    "  - 获取公司净利润"
   ]
  },
  {
   "cell_type": "code",
   "execution_count": null,
   "metadata": {},
   "outputs": [],
   "source": []
  }
 ],
 "metadata": {
  "kernelspec": {
   "display_name": "Python 3",
   "language": "python",
   "name": "python3"
  },
  "language_info": {
   "codemirror_mode": {
    "name": "ipython",
    "version": 3
   },
   "file_extension": ".py",
   "mimetype": "text/x-python",
   "name": "python",
   "nbconvert_exporter": "python",
   "pygments_lexer": "ipython3",
   "version": "3.6.5"
  },
  "latex_envs": {
   "LaTeX_envs_menu_present": true,
   "autoclose": false,
   "autocomplete": true,
   "bibliofile": "biblio.bib",
   "cite_by": "apalike",
   "current_citInitial": 1,
   "eqLabelWithNumbers": true,
   "eqNumInitial": 1,
   "hotkeys": {
    "equation": "Ctrl-E",
    "itemize": "Ctrl-I"
   },
   "labels_anchors": false,
   "latex_user_defs": false,
   "report_style_numbering": false,
   "user_envs_cfg": false
  },
  "toc": {
   "base_numbering": 1,
   "nav_menu": {},
   "number_sections": true,
   "sideBar": true,
   "skip_h1_title": false,
   "title_cell": "Table of Contents",
   "title_sidebar": "Contents",
   "toc_cell": false,
   "toc_position": {
    "height": "calc(100% - 180px)",
    "left": "10px",
    "top": "150px",
    "width": "349px"
   },
   "toc_section_display": true,
   "toc_window_display": false
  }
 },
 "nbformat": 4,
 "nbformat_minor": 2
}
