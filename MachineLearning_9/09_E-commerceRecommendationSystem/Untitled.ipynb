{
 "cells": [
  {
   "cell_type": "code",
   "execution_count": 3,
   "metadata": {
    "ExecuteTime": {
     "end_time": "2020-05-18T12:40:17.185016Z",
     "start_time": "2020-05-18T12:40:17.175041Z"
    },
    "scrolled": true
   },
   "outputs": [],
   "source": [
    "import numpy as np # linear algebra\n",
    "import pandas as pd # data processing, CSV file I/O (e.g. pd.read_csv)\n",
    "\n",
    "from subprocess import check_output\n",
    "import ml_metrics as metrics"
   ]
  },
  {
   "cell_type": "code",
   "execution_count": 35,
   "metadata": {
    "ExecuteTime": {
     "end_time": "2020-05-18T12:45:43.516553Z",
     "start_time": "2020-05-18T12:45:43.507577Z"
    }
   },
   "outputs": [
    {
     "name": "stdout",
     "output_type": "stream",
     "text": [
      "Answer= [1] predicted= [1, 2, 3, 4, 5, 6]\n",
      "AP@5 = 1.0\n",
      "Answer= [1] predicted= [2, 1, 3, 4, 5, 6]\n",
      "AP@5 = 0.5\n",
      "Answer= [1] predicted= [3, 2, 1, 4, 5, 6]\n",
      "AP@6 = 0.3333333333333333\n",
      "Answer= [1] predicted= [4, 2, 3, 1, 5, 6]\n",
      "AP@5 = 0.25\n",
      "Answer= [1] predicted= [4, 2, 3, 5, 1, 6]\n",
      "AP@5 = 0.2\n"
     ]
    }
   ],
   "source": [
    "actual = [1]\n",
    "\n",
    "predicted = [1,2,3,4,5,6]\n",
    "\n",
    "print('Answer=',actual,'predicted=',predicted)\n",
    "print('AP@5 =',metrics.apk(actual,predicted,6) )\n",
    "\n",
    "predicted = [2,1,3,4,5,6]\n",
    "print('Answer=',actual,'predicted=',predicted)\n",
    "print('AP@5 =',metrics.apk(actual,predicted,6) )\n",
    "\n",
    "predicted = [3,2,1,4,5,6]\n",
    "print('Answer=',actual,'predicted=',predicted)\n",
    "print('AP@6 =',metrics.apk(actual,predicted,6) )\n",
    "\n",
    "predicted = [4,2,3,1,5,6]\n",
    "print('Answer=',actual,'predicted=',predicted)\n",
    "print('AP@5 =',metrics.apk(actual,predicted,4) )\n",
    "\n",
    "predicted = [4,2,3,5,1,6]\n",
    "print('Answer=',actual,'predicted=',predicted)\n",
    "print('AP@5 =',metrics.apk(actual,predicted,) )"
   ]
  }
 ],
 "metadata": {
  "kernelspec": {
   "display_name": "Python 3",
   "language": "python",
   "name": "python3"
  },
  "language_info": {
   "codemirror_mode": {
    "name": "ipython",
    "version": 3
   },
   "file_extension": ".py",
   "mimetype": "text/x-python",
   "name": "python",
   "nbconvert_exporter": "python",
   "pygments_lexer": "ipython3",
   "version": "3.7.6"
  },
  "toc": {
   "base_numbering": 1,
   "nav_menu": {},
   "number_sections": true,
   "sideBar": true,
   "skip_h1_title": false,
   "title_cell": "Table of Contents",
   "title_sidebar": "Contents",
   "toc_cell": false,
   "toc_position": {},
   "toc_section_display": true,
   "toc_window_display": false
  }
 },
 "nbformat": 4,
 "nbformat_minor": 4
}
