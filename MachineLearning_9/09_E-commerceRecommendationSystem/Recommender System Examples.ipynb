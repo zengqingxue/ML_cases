{
 "cells": [
  {
   "cell_type": "markdown",
   "metadata": {
    "ExecuteTime": {
     "end_time": "2020-05-12T14:54:33.087695Z",
     "start_time": "2020-05-12T14:54:33.083707Z"
    }
   },
   "source": [
    "## 仅基于相似度(距离度量)的用户推荐简单示例代码\n",
    "思考其在scala中的matrix中如何实现？"
   ]
  },
  {
   "cell_type": "code",
   "execution_count": 1,
   "metadata": {
    "ExecuteTime": {
     "end_time": "2020-05-13T12:13:45.429913Z",
     "start_time": "2020-05-13T12:13:45.420934Z"
    }
   },
   "outputs": [],
   "source": [
    "#寒小阳(hanxiaoyang.ml@gmail.com)\n",
    "#构造一份打分数据集，可以去movielens下载真实的数据做实验\n",
    "users = {\"小明\": {\"中国合伙人\": 5.0, \"太平轮\": 3.0, \"荒野猎人\": 4.5, \"老炮儿\": 5.0, \"我的少女时代\": 3.0, \"肖洛特烦恼\": 4.5, \"火星救援\": 5.0},\n",
    "         \"小红\":{\"小时代4\": 4.0, \"荒野猎人\": 3.0, \"我的少女时代\": 5.0, \"肖洛特烦恼\": 5.0, \"火星救援\": 3.0, \"后会无期\": 3.0},\n",
    "         \"小阳\": {\"小时代4\": 2.0, \"中国合伙人\": 5.0, \"我的少女时代\": 3.0, \"老炮儿\": 5.0, \"肖洛特烦恼\": 4.5, \"速度与激情7\": 5.0},\n",
    "         \"小四\": {\"小时代4\": 5.0, \"中国合伙人\": 3.0, \"我的少女时代\": 4.0, \"匆匆那年\": 4.0, \"速度与激情7\": 3.5, \"火星救援\": 3.5, \"后会无期\": 4.5},\n",
    "         \"六爷\": {\"小时代4\": 2.0, \"中国合伙人\": 4.0, \"荒野猎人\": 4.5, \"老炮儿\": 5.0, \"我的少女时代\": 2.0},\n",
    "         \"小李\":  {\"荒野猎人\": 5.0, \"盗梦空间\": 5.0, \"我的少女时代\": 3.0, \"速度与激情7\": 5.0, \"蚁人\": 4.5, \"老炮儿\": 4.0, \"后会无期\": 3.5},\n",
    "         \"隔壁老王\": {\"荒野猎人\": 5.0, \"中国合伙人\": 4.0, \"我的少女时代\": 1.0, \"Phoenix\": 5.0, \"甄嬛传\": 4.0, \"The Strokes\": 5.0},\n",
    "         \"邻村小芳\": {\"小时代4\": 4.0, \"我的少女时代\": 4.5, \"匆匆那年\": 4.5, \"甄嬛传\": 2.5, \"The Strokes\": 3.0}\n",
    "        }"
   ]
  },
  {
   "cell_type": "markdown",
   "metadata": {},
   "source": [
    "### 定义几种距离计算函数"
   ]
  },
  {
   "cell_type": "markdown",
   "metadata": {},
   "source": [
    "#### 欧氏距离的计算"
   ]
  },
  {
   "cell_type": "code",
   "execution_count": 17,
   "metadata": {
    "ExecuteTime": {
     "end_time": "2020-05-13T13:18:45.480224Z",
     "start_time": "2020-05-13T13:18:45.475209Z"
    }
   },
   "outputs": [],
   "source": [
    "#更高效的方式为把得分向量化之后使用scipy中定义的distance方法\n",
    "# 根据目标用户与其他用户的物品评分列表，计算两种的相似度（距离）\n",
    "from math import sqrt\n",
    "def euclidean_dis(rating1, rating2):    # 根据目标用户与其他用户的物品评分列表，计算两种的相似度（距离）\n",
    "    \"\"\"计算2个打分序列间的欧式距离. 输入的rating1和rating2都是打分dict\n",
    "       格式为{'小时代4': 1.0, '疯狂动物城': 5.0}\"\"\"\n",
    "    distance = 0\n",
    "    commonRatings = False \n",
    "    for key in rating1:     # 遍历目标用户物品评分列表中的物品，拿着其评分过的物品去其他用户的物品评分列表中找到到相同的评分物品，计算距离\n",
    "        if key in rating2:\n",
    "            distance += (rating1[key] - rating2[key])^2\n",
    "            commonRatings = True\n",
    "    #两个打分序列之间有公共打分电影\n",
    "    if commonRatings:\n",
    "        return distance\n",
    "    #无公共打分电影\n",
    "    else:\n",
    "        return -1"
   ]
  },
  {
   "cell_type": "markdown",
   "metadata": {},
   "source": [
    "#### 曼哈顿距离的计算"
   ]
  },
  {
   "cell_type": "code",
   "execution_count": null,
   "metadata": {},
   "outputs": [],
   "source": [
    "\n",
    "def manhattan_dis(rating1, rating2):\n",
    "    \"\"\"计算2个打分序列间的曼哈顿距离. 输入的rating1和rating2都是打分dict\n",
    "       格式为{'小时代4': 1.0, '疯狂动物城': 5.0}\"\"\"\n",
    "    distance = 0\n",
    "    commonRatings = False \n",
    "    for key in rating1:\n",
    "        if key in rating2:\n",
    "            distance += abs(rating1[key] - rating2[key]) # 曼哈顿距离是p=1的情况\n",
    "            commonRatings = True\n",
    "    #两个打分序列之间有公共打分电影\n",
    "    if commonRatings:\n",
    "        return distance\n",
    "    #无公共打分电影\n",
    "    else:\n",
    "        return -1"
   ]
  },
  {
   "cell_type": "markdown",
   "metadata": {},
   "source": [
    "#### 余弦相似度的计算"
   ]
  },
  {
   "cell_type": "code",
   "execution_count": 18,
   "metadata": {
    "ExecuteTime": {
     "end_time": "2020-05-13T13:19:46.585484Z",
     "start_time": "2020-05-13T13:19:46.579497Z"
    }
   },
   "outputs": [],
   "source": [
    "def cos_dis(rating1, rating2):\n",
    "    \"\"\"计算2个打分序列间的cos距离. 输入的rating1和rating2都是打分dict\n",
    "       格式为{'小时代4': 1.0, '疯狂动物城': 5.0}\"\"\"\n",
    "    distance = 0\n",
    "    dot_product_1 = 0\n",
    "    dot_product_2 = 0\n",
    "    commonRatings = False\n",
    "    \n",
    "    # 计算余弦相似度的分母部分： 各自物品评分的平方和累加\n",
    "    for score in rating1.values():\n",
    "        dot_product_1 += score^2\n",
    "    for score in rating2.values():\n",
    "        dot_product_2 += score^2\n",
    "    \n",
    "    # 计算余弦相似度的分子部分： 两者共同打分物品评分对应相乘（即之积）的累加和\n",
    "    for key in rating1:\n",
    "        if key in rating2:\n",
    "            distance += rating1[key] * rating2[key]\n",
    "            commonRatings = True\n",
    "    #两个打分序列之间有公共打分电影   # 相似度=1-距离\n",
    "    if commonRatings:\n",
    "        return 1-distance/sqrt(dot_product_1*dot_product_2)\n",
    "    #无公共打分电影\n",
    "    else:\n",
    "        return -1"
   ]
  },
  {
   "cell_type": "markdown",
   "metadata": {},
   "source": [
    "#### 皮尔逊相似度的计算"
   ]
  },
  {
   "cell_type": "code",
   "execution_count": 19,
   "metadata": {
    "ExecuteTime": {
     "end_time": "2020-05-13T13:20:14.067500Z",
     "start_time": "2020-05-13T13:20:14.060517Z"
    }
   },
   "outputs": [],
   "source": [
    "def pearson_dis(rating1, rating2):\n",
    "    \"\"\"计算2个打分序列间的pearson距离. 输入的rating1和rating2都是打分dict\n",
    "       格式为{'小时代4': 1.0, '疯狂动物城': 5.0}\"\"\"\n",
    "    sum_xy = 0  #初始化xy和累加和，\n",
    "    sum_x = 0   # 初始化x的累加，以方便计算其评分评分\n",
    "    sum_y = 0   # 初始化y的累加，以方便计算其评分评分\n",
    "    sum_x2 = 0  # 初始化x2的累加，以方便计算其评分评分\n",
    "    sum_y2 = 0  # 初始化y2的累加，以方便计算其评分评分\n",
    "    n = 0\n",
    "    for key in rating1:\n",
    "        if key in rating2:\n",
    "            n += 1\n",
    "            x = rating1[key]\n",
    "            y = rating2[key]\n",
    "            sum_xy += x * y\n",
    "            sum_x += x\n",
    "            sum_y += y\n",
    "            sum_x2 += pow(x, 2)\n",
    "            sum_y2 += pow(y, 2)\n",
    "    # now compute denominator  计算皮尔逊相似度的分母部分（需判断分母是否为0）\n",
    "    denominator = sqrt(sum_x2 - pow(sum_x, 2) / n) * sqrt(sum_y2 - pow(sum_y, 2) / n)\n",
    "    if denominator == 0:\n",
    "        return 0\n",
    "    else:\n",
    "        return (sum_xy - (sum_x * sum_y) / n) / denominator\n",
    "    \n",
    "    # 注：(x1-x`)(y1-y`)+(x2-x`)(y2-y`)+......=x1^2+x2^2.....+(x`y`+x`y`+x`y`......)n个=sum_xy+(sum_x/n * sum_y/n)*n=sum_xy - (sum_x * sum_y) / n"
   ]
  },
  {
   "cell_type": "markdown",
   "metadata": {
    "ExecuteTime": {
     "end_time": "2020-05-12T14:55:46.205826Z",
     "start_time": "2020-05-12T14:55:46.202801Z"
    }
   },
   "source": [
    "### 查找近邻"
   ]
  },
  {
   "cell_type": "code",
   "execution_count": 9,
   "metadata": {
    "ExecuteTime": {
     "end_time": "2020-05-13T12:21:23.522711Z",
     "start_time": "2020-05-13T12:21:23.509708Z"
    }
   },
   "outputs": [],
   "source": [
    "#查找最近邻\n",
    "def computeNearestNeighbor(username, users): # 从users中给username用户找到其最近邻用户列表\n",
    "    \"\"\"在给定username的情况下，计算其他用户和它的距离并排序\"\"\"\n",
    "   # 最近邻方法返回的数据结构形式元素单元应该是tuple(nearestUser,sim),方便通过sim进行排序，找到topN最近邻\n",
    "    distances = []\n",
    "    for user in users: #遍历users,将不是目标用户本身的用户找出来，计算目标用户与该用户的相似度（即距离）\n",
    "        if user != username:\n",
    "            #distance = manhattan_dis(users[user], users[username])  \n",
    "            distance = pearson_dis(users[user], users[username])  # 计算用户相似度方法返回的数据单元形式是tuple(distance,user)\n",
    "            distances.append((distance, user))                    # distance的作用是为了根据距离排序，得到前topN的user\n",
    "    # 根据距离排序，距离越近，排得越靠前\n",
    "    distances.sort()\n",
    "    return distances"
   ]
  },
  {
   "cell_type": "markdown",
   "metadata": {},
   "source": [
    "### 将最近邻用户评分最高的（前topN）物品推荐给目标用户"
   ]
  },
  {
   "cell_type": "code",
   "execution_count": 11,
   "metadata": {
    "ExecuteTime": {
     "end_time": "2020-05-13T12:46:37.817363Z",
     "start_time": "2020-05-13T12:46:37.808389Z"
    }
   },
   "outputs": [],
   "source": [
    "#推荐\n",
    "def recommend(username, users):  # 从users中给username用户推荐物品\n",
    "    \"\"\"对指定的user推荐电影\"\"\"\n",
    "    # 找到最近邻\n",
    "    nearest = computeNearestNeighbor(username, users)[0][1] \n",
    "    # 找到最近邻。最近邻方法返回的数据结构形式元素单元应该是tuple(nearestUser,sim),方便通过sim进行排序，找到topN最近邻\n",
    "\n",
    "    recommendations = []\n",
    "    # 找到最近邻看过，但是我们没看过的电影，计算推荐\n",
    "    neighborRatings = users[nearest]  #根据username和nearestUser获取其各自的物品评分列表\n",
    "    userRatings = users[username]\n",
    "    for artist in neighborRatings:  # 遍历nearestUser的物品评分列表的每一个物品，把不在目标用户username物品列表中的物品及评分给\n",
    "                                    # 保存下来。元素单元形式是tuple(thing,score),其中score以便将最近邻用户的评分的物品倒序，将评分前topN推荐给目标用户\n",
    "        if not artist in userRatings:\n",
    "            recommendations.append((artist, neighborRatings[artist]))\n",
    "    results = sorted(recommendations, key=lambda artistTuple: artistTuple[1], reverse = True)\n",
    "    for result in results:\n",
    "        print(result[0], result[1])"
   ]
  },
  {
   "cell_type": "code",
   "execution_count": 10,
   "metadata": {
    "ExecuteTime": {
     "end_time": "2020-05-13T12:21:35.536396Z",
     "start_time": "2020-05-13T12:21:35.529413Z"
    }
   },
   "outputs": [
    {
     "name": "stdout",
     "output_type": "stream",
     "text": [
      "肖洛特烦恼 5.0\n",
      "火星救援 3.0\n",
      "后会无期 3.0\n"
     ]
    }
   ],
   "source": [
    "recommend('六爷', users)"
   ]
  },
  {
   "cell_type": "markdown",
   "metadata": {},
   "source": [
    "## itemCF(同现相似度)推荐算法简单示例代码"
   ]
  },
  {
   "cell_type": "code",
   "execution_count": null,
   "metadata": {},
   "outputs": [],
   "source": []
  },
  {
   "cell_type": "code",
   "execution_count": null,
   "metadata": {},
   "outputs": [],
   "source": []
  },
  {
   "cell_type": "markdown",
   "metadata": {},
   "source": [
    "## ItemCF推荐算法简单示例代码"
   ]
  },
  {
   "cell_type": "code",
   "execution_count": null,
   "metadata": {},
   "outputs": [],
   "source": []
  },
  {
   "cell_type": "code",
   "execution_count": null,
   "metadata": {},
   "outputs": [],
   "source": []
  },
  {
   "cell_type": "markdown",
   "metadata": {},
   "source": [
    "## 简单的张量分解进行打分和推荐"
   ]
  },
  {
   "cell_type": "markdown",
   "metadata": {},
   "source": [
    "### 手写简单的矩阵分解"
   ]
  },
  {
   "cell_type": "code",
   "execution_count": 1,
   "metadata": {
    "collapsed": true
   },
   "outputs": [],
   "source": [
    "#简单的张量分解进行打分和推荐\n",
    "#要用到numpy模块\n",
    "import numpy\n",
    "\n",
    "#手写矩阵分解\n",
    "#现在有很多很方便对高维矩阵做分解的package，比如libmf, svdfeature等\n",
    "def matrix_factorization(R, P, Q, K, steps=5000, alpha=0.0002, beta=0.02):\n",
    "    Q = Q.T\n",
    "    for step in xrange(steps):\n",
    "        for i in xrange(len(R)):\n",
    "            for j in xrange(len(R[i])):\n",
    "                if R[i][j] > 0:\n",
    "                    eij = R[i][j] - numpy.dot(P[i,:],Q[:,j])\n",
    "                    for k in xrange(K):\n",
    "                        P[i][k] = P[i][k] + alpha * (2 * eij * Q[k][j] - beta * P[i][k])\n",
    "                        Q[k][j] = Q[k][j] + alpha * (2 * eij * P[i][k] - beta * Q[k][j])\n",
    "        eR = numpy.dot(P,Q)\n",
    "        e = 0\n",
    "        for i in xrange(len(R)):\n",
    "            for j in xrange(len(R[i])):\n",
    "                if R[i][j] > 0:\n",
    "                    e = e + pow(R[i][j] - numpy.dot(P[i,:],Q[:,j]), 2)\n",
    "                    for k in xrange(K):\n",
    "                        e = e + (beta/2) * (pow(P[i][k],2) + pow(Q[k][j],2))\n",
    "        if e < 0.001:\n",
    "            break\n",
    "    return P, Q.T"
   ]
  },
  {
   "cell_type": "markdown",
   "metadata": {},
   "source": [
    "### 读取user数据并用张量分解进行打分"
   ]
  },
  {
   "cell_type": "code",
   "execution_count": 6,
   "metadata": {},
   "outputs": [],
   "source": [
    "#读取user数据并用张量分解进行打分\n",
    "\n",
    "R = [\n",
    "     [5,3,0,1],\n",
    "     [4,0,3,1],\n",
    "     [1,1,0,5],\n",
    "     [1,0,0,4],\n",
    "     [0,1,5,4],\n",
    "    ]\n",
    "\n",
    "R = numpy.array(R)\n",
    "\n",
    "N = len(R)\n",
    "M = len(R[0])\n",
    "K = 2\n",
    "\n",
    "P = numpy.random.rand(N,K)\n",
    "Q = numpy.random.rand(M,K)\n",
    "\n",
    "nP, nQ = matrix_factorization(R, P, Q, K)\n",
    "nR = numpy.dot(nP, nQ.T)"
   ]
  },
  {
   "cell_type": "code",
   "execution_count": 3,
   "metadata": {},
   "outputs": [
    {
     "data": {
      "text/plain": [
       "array([[ 0.37354361,  2.22462978],\n",
       "       [ 0.39373358,  1.77277479],\n",
       "       [ 2.23851893,  0.37239595],\n",
       "       [ 1.790099  ,  0.37770254],\n",
       "       [ 1.81217012,  0.51692472]])"
      ]
     },
     "execution_count": 3,
     "metadata": {},
     "output_type": "execute_result"
    }
   ],
   "source": [
    "nP"
   ]
  },
  {
   "cell_type": "code",
   "execution_count": 4,
   "metadata": {},
   "outputs": [
    {
     "data": {
      "text/plain": [
       "array([[ 0.08507765,  2.22384553],\n",
       "       [ 0.20967412,  1.30417772],\n",
       "       [ 2.39991489,  1.15741951],\n",
       "       [ 2.20229125,  0.07765447]])"
      ]
     },
     "execution_count": 4,
     "metadata": {},
     "output_type": "execute_result"
    }
   ],
   "source": [
    "nQ"
   ]
  },
  {
   "cell_type": "code",
   "execution_count": 7,
   "metadata": {},
   "outputs": [
    {
     "data": {
      "text/plain": [
       "array([[ 5.14097676,  2.65847204,  4.37686383,  1.01929774],\n",
       "       [ 3.74778917,  1.93782362,  3.2635803 ,  0.86660675],\n",
       "       [ 1.1444558 ,  0.58372427,  3.76229652,  4.95573083],\n",
       "       [ 0.94547292,  0.48244748,  3.03458474,  3.96930106],\n",
       "       [ 3.13052819,  1.61288469,  4.71770071,  4.10201949]])"
      ]
     },
     "execution_count": 7,
     "metadata": {},
     "output_type": "execute_result"
    }
   ],
   "source": [
    "nR"
   ]
  },
  {
   "cell_type": "code",
   "execution_count": 11,
   "metadata": {},
   "outputs": [
    {
     "data": {
      "text/plain": [
       "array([[5, 3, 0, 1],\n",
       "       [4, 0, 3, 1],\n",
       "       [1, 1, 0, 5],\n",
       "       [1, 0, 0, 4],\n",
       "       [0, 1, 5, 4]])"
      ]
     },
     "execution_count": 11,
     "metadata": {},
     "output_type": "execute_result"
    }
   ],
   "source": [
    "R"
   ]
  },
  {
   "cell_type": "code",
   "execution_count": null,
   "metadata": {
    "collapsed": true
   },
   "outputs": [],
   "source": []
  }
 ],
 "metadata": {
  "kernelspec": {
   "display_name": "Python 3",
   "language": "python",
   "name": "python3"
  },
  "language_info": {
   "codemirror_mode": {
    "name": "ipython",
    "version": 3
   },
   "file_extension": ".py",
   "mimetype": "text/x-python",
   "name": "python",
   "nbconvert_exporter": "python",
   "pygments_lexer": "ipython3",
   "version": "3.7.6"
  },
  "toc": {
   "base_numbering": 1,
   "nav_menu": {},
   "number_sections": true,
   "sideBar": true,
   "skip_h1_title": false,
   "title_cell": "Table of Contents",
   "title_sidebar": "Contents",
   "toc_cell": false,
   "toc_position": {
    "height": "calc(100% - 180px)",
    "left": "10px",
    "top": "150px",
    "width": "255.865px"
   },
   "toc_section_display": true,
   "toc_window_display": true
  }
 },
 "nbformat": 4,
 "nbformat_minor": 1
}
