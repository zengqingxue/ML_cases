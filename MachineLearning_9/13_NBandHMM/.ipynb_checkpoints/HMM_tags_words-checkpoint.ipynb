{
 "cells": [
  {
   "cell_type": "markdown",
   "metadata": {},
   "source": [
    "## 使用HMM进行词性标注\n",
    "\n",
    "假设我们用NLTK自带的Brown词库进行学习\n",
    "* 单词集：words=w1,...wN\n",
    "* tags集：tags=t1...tN\n",
    "* P(tags|words)正比于P(ti|t{i-1})* P(wi|ti)\n",
    "\n",
    "为了找一个句子的tag,我们其实就是找的最好的一套tags,让他最能干符合给定的单词（words）"
   ]
  },
  {
   "cell_type": "markdown",
   "metadata": {},
   "source": [
    "### 导入需要的库"
   ]
  },
  {
   "cell_type": "code",
   "execution_count": 1,
   "metadata": {
    "ExecuteTime": {
     "end_time": "2020-06-05T15:48:58.477891Z",
     "start_time": "2020-06-05T15:48:57.825064Z"
    }
   },
   "outputs": [],
   "source": [
    "import nltk\n",
    "# nltk.download('brown')\n",
    "import sys\n",
    "from nltk.corpus import brown"
   ]
  },
  {
   "cell_type": "markdown",
   "metadata": {},
   "source": [
    "### 预处理词库"
   ]
  },
  {
   "cell_type": "markdown",
   "metadata": {},
   "source": [
    "这里我们需要做的预处理是：给词们加上开始和结束符号。<br>\n",
    "Brown里面的句子都是自己标注好了的，长这个样子：（I,NOUN），（LOVE，VERB），（YOU，NOUN）<br>\n",
    "那么我们的开始符号也和他的格式符合，我们用：（START，START）（END，END）来表示"
   ]
  },
  {
   "cell_type": "code",
   "execution_count": 2,
   "metadata": {
    "ExecuteTime": {
     "end_time": "2020-06-05T15:49:00.936189Z",
     "start_time": "2020-06-05T15:48:58.479490Z"
    }
   },
   "outputs": [],
   "source": [
    "brown_tags_words=[ ]\n",
    "for sent in brown.tagged_sents():\n",
    "    # 先加开头\n",
    "    brown_tags_words.append((\"START\",\"START\"))\n",
    "    # 为了省事儿，我们把tag都省略成前两个字母\n",
    "    brown_tags_words.extend([ (tag[:2],word) for (word,tag) in sent])\n",
    "    #加个结尾\n",
    "    brown_tags_words.append((\"END\",\"END\"))"
   ]
  },
  {
   "cell_type": "markdown",
   "metadata": {},
   "source": [
    "### 词统计"
   ]
  },
  {
   "cell_type": "markdown",
   "metadata": {},
   "source": [
    "将词库中拥有的单词与tag之间的关系，走个简单粗暴的统计，即统计P(wi|ti)=count(wi,ti)/count(ti)<br>\n",
    "你可以自己一个个的loop全部的corpus,这里直接使用NLTK给我们提供饿统计工具"
   ]
  },
  {
   "cell_type": "code",
   "execution_count": 3,
   "metadata": {
    "ExecuteTime": {
     "end_time": "2020-06-05T15:49:01.806102Z",
     "start_time": "2020-06-05T15:49:00.937914Z"
    }
   },
   "outputs": [],
   "source": [
    "#conditional frequency ditribution\n",
    "cfd_tagwords = nltk.ConditionalFreqDist(brown_tags_words)\n",
    "# conditioal probability distribution\n",
    "cpd_tagwords = nltk.ConditionalProbDist(cfd_tagwords,nltk.MLEProbDist)\n",
    "# 思考，如果自己手动实现这个loop来进行统计，如何写出这个词频统计？？？"
   ]
  },
  {
   "cell_type": "code",
   "execution_count": 4,
   "metadata": {
    "ExecuteTime": {
     "end_time": "2020-06-05T15:49:01.815765Z",
     "start_time": "2020-06-05T15:49:01.807785Z"
    },
    "scrolled": false
   },
   "outputs": [
    {
     "name": "stdout",
     "output_type": "stream",
     "text": [
      "The probability of an adjective(JJ) beding 'new' is 0.01472344917632025\n",
      "The probability of an verb(VB) beding 'duck' is 6.042713350943527e-05\n"
     ]
    }
   ],
   "source": [
    "# 查看平面统计下来的结果\n",
    "print(\"The probability of an adjective(JJ) beding 'new' is\",cpd_tagwords[\"JJ\"].prob(\"new\"))\n",
    "print(\"The probability of an verb(VB) beding 'duck' is\",cpd_tagwords[\"VB\"].prob(\"duck\"))"
   ]
  },
  {
   "cell_type": "markdown",
   "metadata": {},
   "source": [
    "计算$P(t_i|t_{i-1})= \\frac{count(t_{i-1},t_i)}{count(t_{i-1})}$<br>\n",
    "这个公式跟words没有任何关系，它是隐层的马科夫链，所以我们线去除所有的tag"
   ]
  },
  {
   "cell_type": "code",
   "execution_count": 5,
   "metadata": {
    "ExecuteTime": {
     "end_time": "2020-06-05T15:49:03.168458Z",
     "start_time": "2020-06-05T15:49:01.817759Z"
    }
   },
   "outputs": [],
   "source": [
    "brown_tags = [tag for (tag,word) in brown_tags_words]\n",
    "# count(t{i-1},ti),bigram是将前后两个一组，连在一起\n",
    "cfd_tags = nltk.ConditionalFreqDist(nltk.bigrams(brown_tags))\n",
    "# P(ti|t{i-1})\n",
    "cpd_tags = nltk.ConditionalProbDist(cfd_tags,nltk.MLEProbDist)"
   ]
  },
  {
   "cell_type": "code",
   "execution_count": 6,
   "metadata": {
    "ExecuteTime": {
     "end_time": "2020-06-05T15:49:03.199068Z",
     "start_time": "2020-06-05T15:49:03.171138Z"
    }
   },
   "outputs": [
    {
     "name": "stdout",
     "output_type": "stream",
     "text": [
      "if we have just seen 'DT',the probability of 'NN' is 0.5057722522030194\n",
      "if we have just seen 'VB',the probability of 'JJ' is 0.016885067592065053\n",
      "if we have just seen 'VB',the probability of 'NN' is 0.10970977711020183\n"
     ]
    }
   ],
   "source": [
    "# 看效果\n",
    "print(\"if we have just seen 'DT',the probability of 'NN' is\",cpd_tags[\"DT\"].prob(\"NN\"))\n",
    "print(\"if we have just seen 'VB',the probability of 'JJ' is\",cpd_tags[\"VB\"].prob(\"DT\"))\n",
    "print(\"if we have just seen 'VB',the probability of 'NN' is\",cpd_tags[\"VB\"].prob(\"NN\"))"
   ]
  },
  {
   "cell_type": "markdown",
   "metadata": {},
   "source": [
    "### 一些有趣的结果  验证问题\n",
    "比如，一句话，”I want to race“,一套tag,\"PP VB TO VB\",她们呢之间的匹配度有多高呢？<br>\n",
    "其实就是：<br>\n",
    "    P(START) * P(PP|START) * P(I|PP) * <br> \n",
    "        P(VB|PP) * P(want|VB) * <br> \n",
    "        P(TO|VB) * P(to|TO) * <br> \n",
    "        P(VB|TO) * P(race|VB) * <br> \n",
    "        P(END|VB)"
   ]
  },
  {
   "cell_type": "code",
   "execution_count": 7,
   "metadata": {
    "ExecuteTime": {
     "end_time": "2020-06-05T15:49:03.209038Z",
     "start_time": "2020-06-05T15:49:03.202058Z"
    },
    "scrolled": true
   },
   "outputs": [
    {
     "name": "stdout",
     "output_type": "stream",
     "text": [
      "The probability of the tag sequence 'START PP VB TO VB END' for 'I want to race' is: 1.0817766461150474e-14\n"
     ]
    }
   ],
   "source": [
    "prob_tagsequence = cpd_tags[\"START\"].prob(\"PP\") * cpd_tagwords[\"PP\"].prob(\"I\") * \\\n",
    "  cpd_tags[\"PP\"].prob(\"VB\") * cpd_tagwords[\"VB\"].prob(\"want\") * \\\n",
    "  cpd_tags[\"VB\"].prob(\"TO\") * cpd_tagwords[\"TO\"].prob(\"to\") * \\\n",
    "  cpd_tags[\"TO\"].prob(\"VB\") * cpd_tagwords[\"VB\"].prob(\"race\") * \\\n",
    "  cpd_tags[\"VB\"].prob(\"END\")\n",
    "print(\"The probability of the tag sequence 'START PP VB TO VB END' for 'I want to race' is:\",prob_tagsequence)"
   ]
  },
  {
   "cell_type": "markdown",
   "metadata": {},
   "source": [
    "### Viterbi的实现\n",
    "如果我们手上有一句话，怎么知道最符合的tag是哪组呢？---识别问题。"
   ]
  },
  {
   "cell_type": "code",
   "execution_count": 8,
   "metadata": {
    "ExecuteTime": {
     "end_time": "2020-06-05T15:49:03.254916Z",
     "start_time": "2020-06-05T15:49:03.212032Z"
    }
   },
   "outputs": [],
   "source": [
    "# 首先，我们拿出所有独特的tags(即tags全集)\n",
    "distinct_tags = set(brown_tags)\n",
    "# 然后，随便找一句话\n",
    "sentence = [\"I\",\"want\",\"to\",\"race\"]\n",
    "sentlen = len(sentence)\n",
    "# 接下来，开始维特比：从1循环到句子的总长N,记为i;每次都找出以tag X为最终节点，长度为i的tag链\n",
    "viterbi = [ ]\n",
    "# 同时还需要一个回溯器：从1循环到句子总长N，记为i；把所有tag X前一个Tag记录下来\n",
    "backpoint = [ ]"
   ]
  },
  {
   "cell_type": "code",
   "execution_count": 9,
   "metadata": {
    "ExecuteTime": {
     "end_time": "2020-06-05T15:49:03.272036Z",
     "start_time": "2020-06-05T15:49:03.256903Z"
    }
   },
   "outputs": [
    {
     "name": "stdout",
     "output_type": "stream",
     "text": [
      "{'RP': 0.0, ',': 0.0, ',-': 0.0, '*-': 0.0, 'AT': 0.0, '--': 0.0, 'WP': 0.0, 'END': 0.0, '``': 0.0, 'PP': 0.014930900689060006, 'BE': 0.0, 'AP': 0.0, 'UH': 0.0, 'AB': 0.0, '(': 0.0, 'NN': 1.0580313619573935e-06, 'CS': 0.0, 'DT': 0.0, 'NR': 0.0, 'RB': 0.0, 'WR': 0.0, 'FW': 0.0, '.-': 0.0, 'NI': 3.3324520848931064e-07, 'PN': 0.0, 'RN': 0.0, 'OD': 0.0, 'MD': 0.0, ':': 0.0, '.': 0.0, ')': 0.0, 'CD': 0.0, ')-': 0.0, 'CC': 0.0, ':-': 0.0, 'TO': 0.0, \"''\": 0.0, 'WD': 0.0, \"'\": 0.0, 'HV': 0.0, '*': 0.0, 'JJ': 0.0, 'DO': 0.0, 'QL': 0.0, 'WQ': 0.0, 'NP': 1.7319067623793952e-06, 'EX': 0.0, 'VB': 0.0, 'IN': 0.0, '(-': 0.0}\n",
      "{'RP': 'START', ',': 'START', ',-': 'START', '*-': 'START', 'AT': 'START', '--': 'START', 'WP': 'START', 'END': 'START', '``': 'START', 'PP': 'START', 'BE': 'START', 'AP': 'START', 'UH': 'START', 'AB': 'START', '(': 'START', 'NN': 'START', 'CS': 'START', 'DT': 'START', 'NR': 'START', 'RB': 'START', 'WR': 'START', 'FW': 'START', '.-': 'START', 'NI': 'START', 'PN': 'START', 'RN': 'START', 'OD': 'START', 'MD': 'START', ':': 'START', '.': 'START', ')': 'START', 'CD': 'START', ')-': 'START', 'CC': 'START', ':-': 'START', 'TO': 'START', \"''\": 'START', 'WD': 'START', \"'\": 'START', 'HV': 'START', '*': 'START', 'JJ': 'START', 'DO': 'START', 'QL': 'START', 'WQ': 'START', 'NP': 'START', 'EX': 'START', 'VB': 'START', 'IN': 'START', '(-': 'START'}\n"
     ]
    }
   ],
   "source": [
    "first_viterbi = { }\n",
    "first_backpointer = { }\n",
    "for tag in distinct_tags:\n",
    "    if tag == \"START\": continue\n",
    "    first_viterbi[tag] = cpd_tags[\"START\"].prob(tag) * cpd_tagwords[tag].prob(sentence[0])\n",
    "    first_backpointer[tag] = \"START\"\n",
    "    \n",
    "print(first_viterbi)\n",
    "print(first_backpointer)"
   ]
  },
  {
   "cell_type": "code",
   "execution_count": 10,
   "metadata": {
    "ExecuteTime": {
     "end_time": "2020-06-05T15:49:03.278019Z",
     "start_time": "2020-06-05T15:49:03.275028Z"
    }
   },
   "outputs": [],
   "source": [
    "#  'NP': 'START'  'NP': 1.7319067623793952e-06\n",
    "#  'NI': 'START'  'NI': 3.3324520848931064e-07\n",
    "#  'NN': 'START'   'NN': 1.0580313619573935e-06\n",
    "#  'PP': 'START'   'PP': 0.014930900689060006   ---这个概率最大，这个就是第一个viterbit 对应的单词是sentence[0]=I\n",
    "        \n",
    "# {')-': 0.0, 'CS': 0.0, 'DO': 0.0, 'RB': 0.0, 'AB': 0.0, \"'\": 0.0, 'BE': 0.0, ',-': 0.0, '``': 0.0, 'END': 0.0,\n",
    "#  'WP': 0.0, 'AT': 0.0, '.-': 0.0, 'EX': 0.0, 'JJ': 0.0, 'TO': 0.0, '.': 0.0, 'FW': 0.0, ',': 0.0, 'AP': 0.0,\n",
    "#  'CD': 0.0, '(': 0.0, 'HV': 0.0, 'WR': 0.0, 'WD': 0.0, 'CC': 0.0, ':-': 0.0, 'NP': 1.7319067623793952e-06, 'MD': 0.0, 'RN': 0.0,\n",
    "#  'OD': 0.0, 'VB': 0.0, 'UH': 0.0, ':': 0.0, '*-': 0.0, 'NI': 3.3324520848931064e-07, 'NR': 0.0, 'WQ': 0.0, 'QL': 0.0, ')': 0.0, \n",
    "#  '(-': 0.0, '--': 0.0, 'NN': 1.0580313619573935e-06, 'IN': 0.0, '*': 0.0, 'PN': 0.0, 'RP': 0.0, \"''\": 0.0, 'PP': 0.014930900689060006, 'DT': 0.0}\n",
    "# {')-': 'START', 'CS': 'START', 'DO': 'START', 'RB': 'START', 'AB': 'START', \"'\": 'START', 'BE': 'START', ',-': 'START', '``': 'START', 'END': 'START', \n",
    "#  'WP': 'START', 'AT': 'START', '.-': 'START', 'EX': 'START', 'JJ': 'START', 'TO': 'START', '.': 'START', 'FW': 'START', ',': 'START', 'AP': 'START',\n",
    "#  'CD': 'START', '(': 'START', 'HV': 'START', 'WR': 'START', 'WD': 'START', 'CC': 'START', ':-': 'START', 'NP': 'START', 'MD': 'START', 'RN': 'START',\n",
    "#  'OD': 'START', 'VB': 'START', 'UH': 'START', ':': 'START', '*-': 'START', 'NI': 'START', 'NR': 'START', 'WQ': 'START', 'QL': 'START', ')': 'START',\n",
    "#  '(-': 'START', '--': 'START', 'NN': 'START', 'IN': 'START', '*': 'START', 'PN': 'START', 'RP': 'START', \"''\": 'START', 'PP': 'START', 'DT': 'START'}"
   ]
  },
  {
   "cell_type": "markdown",
   "metadata": {},
   "source": [
    "以上，是所有的第一个viterbi和第一个回溯点。接下来，把这些存到Viterbi和Backpointer两个变量里面"
   ]
  },
  {
   "cell_type": "code",
   "execution_count": 11,
   "metadata": {
    "ExecuteTime": {
     "end_time": "2020-06-05T15:49:03.289028Z",
     "start_time": "2020-06-05T15:49:03.280014Z"
    }
   },
   "outputs": [
    {
     "name": "stdout",
     "output_type": "stream",
     "text": [
      "Word  'I' current best two-tag sequence: START PP\n"
     ]
    }
   ],
   "source": [
    "viterbi.append(first_viterbi)\n",
    "backpoint.append(first_backpointer)\n",
    "# 查看第一个viterbi最好的tag是啥\n",
    "currentbest = max(first_viterbi.keys(),key= lambda tag: first_viterbi[tag])\n",
    "print(\"Word \",\"'\"+sentence[0]+\"'\",\"current best two-tag sequence:\",first_backpointer[currentbest],currentbest)"
   ]
  },
  {
   "cell_type": "markdown",
   "metadata": {},
   "source": [
    "接下来我们开始通过loop来计算出所有的viterbi和backpointer"
   ]
  },
  {
   "cell_type": "code",
   "execution_count": 1,
   "metadata": {
    "ExecuteTime": {
     "end_time": "2020-06-06T10:57:08.240085Z",
     "start_time": "2020-06-06T10:57:08.178673Z"
    },
    "scrolled": true
   },
   "outputs": [
    {
     "ename": "NameError",
     "evalue": "name 'sentence' is not defined",
     "output_type": "error",
     "traceback": [
      "\u001b[1;31m---------------------------------------------------------------------------\u001b[0m",
      "\u001b[1;31mNameError\u001b[0m                                 Traceback (most recent call last)",
      "\u001b[1;32m<ipython-input-1-311c90a98070>\u001b[0m in \u001b[0;36m<module>\u001b[1;34m\u001b[0m\n\u001b[1;32m----> 1\u001b[1;33m \u001b[1;32mfor\u001b[0m \u001b[0mwordindex\u001b[0m \u001b[1;32min\u001b[0m \u001b[0mrange\u001b[0m\u001b[1;33m(\u001b[0m\u001b[1;36m1\u001b[0m\u001b[1;33m,\u001b[0m\u001b[0mlen\u001b[0m\u001b[1;33m(\u001b[0m\u001b[0msentence\u001b[0m\u001b[1;33m)\u001b[0m\u001b[1;33m)\u001b[0m\u001b[1;33m:\u001b[0m\u001b[1;33m\u001b[0m\u001b[1;33m\u001b[0m\u001b[0m\n\u001b[0m\u001b[0;32m      2\u001b[0m     \u001b[0mthis_viterbi\u001b[0m \u001b[1;33m=\u001b[0m \u001b[1;33m{\u001b[0m \u001b[1;33m}\u001b[0m  \u001b[1;31m#  链的概率值currentbest，对应tag X\u001b[0m\u001b[1;33m\u001b[0m\u001b[1;33m\u001b[0m\u001b[0m\n\u001b[0;32m      3\u001b[0m     \u001b[0mthis_backpointer\u001b[0m \u001b[1;33m=\u001b[0m \u001b[1;33m{\u001b[0m \u001b[1;33m}\u001b[0m  \u001b[1;31m# 上一个链的概率值best_previous,对应tag Y\u001b[0m\u001b[1;33m\u001b[0m\u001b[1;33m\u001b[0m\u001b[0m\n\u001b[0;32m      4\u001b[0m     \u001b[0mprev_viterbi\u001b[0m \u001b[1;33m=\u001b[0m \u001b[0mviterbi\u001b[0m\u001b[1;33m[\u001b[0m\u001b[1;33m-\u001b[0m\u001b[1;36m1\u001b[0m\u001b[1;33m]\u001b[0m  \u001b[1;31m#\u001b[0m\u001b[1;33m\u001b[0m\u001b[1;33m\u001b[0m\u001b[0m\n\u001b[0;32m      5\u001b[0m \u001b[1;33m\u001b[0m\u001b[0m\n",
      "\u001b[1;31mNameError\u001b[0m: name 'sentence' is not defined"
     ]
    }
   ],
   "source": [
    "for wordindex in range(1,len(sentence)):\n",
    "    this_viterbi = { }  #  链的概率值currentbest，对应tag X\n",
    "    this_backpointer = { }  # 上一个链的概率值best_previous,对应tag Y\n",
    "    prev_viterbi = viterbi[-1]  #\n",
    "     \n",
    "    for tag in distinct_tags:\n",
    "        if tag == \"START\": continue  # 注意这里的缩进层次问题\n",
    "        best_previous = max(prev_viterbi.keys(),key = lambda prevtag: \\\n",
    "            prev_viterbi[prevtag] * cpd_tags[prevtag].prob(tag) * cpd_tagwords[tag].prob(sentence[wordindex]))\n",
    "        this_backpointer[tag] = best_previous\n",
    "        \n",
    "        this_viterbi[tag] = best_previous[best_previous] * cpd_tags[best_previous].prob(tag) * cpd_tags[tag].prob(sentence[wordindex])\n",
    "    # 每次找完Y,我们把目前最好的存一下\n",
    "    currentbest = max(this_viterbi.keys(), key = lambda tag: this_viterbi[tag])\n",
    "    print(\"Word\",\"'\" + sentence[wordindex] + \"'\",\"cunrrent best two-tag sequence:\",this_backpoint[currentbest],currentbest)\n",
    "    \n",
    "    # 完结 ，全部存下来\n",
    "    viterbi.append(this_viterbi)\n",
    "    backpoint.append(this_backpointer)"
   ]
  }
 ],
 "metadata": {
  "kernelspec": {
   "display_name": "Python 3",
   "language": "python",
   "name": "python3"
  },
  "language_info": {
   "codemirror_mode": {
    "name": "ipython",
    "version": 3
   },
   "file_extension": ".py",
   "mimetype": "text/x-python",
   "name": "python",
   "nbconvert_exporter": "python",
   "pygments_lexer": "ipython3",
   "version": "3.7.6"
  },
  "toc": {
   "base_numbering": 1,
   "nav_menu": {},
   "number_sections": true,
   "sideBar": true,
   "skip_h1_title": false,
   "title_cell": "Table of Contents",
   "title_sidebar": "Contents",
   "toc_cell": false,
   "toc_position": {
    "height": "calc(100% - 180px)",
    "left": "10px",
    "top": "150px",
    "width": "194.667px"
   },
   "toc_section_display": true,
   "toc_window_display": true
  }
 },
 "nbformat": 4,
 "nbformat_minor": 4
}
