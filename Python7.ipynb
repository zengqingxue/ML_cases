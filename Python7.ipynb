{
 "cells": [
  {
   "cell_type": "markdown",
   "metadata": {},
   "source": [
    "<img src='data:image/png;base64,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'>\n",
    "\n",
    "\n",
    "# 七月在线 《Python基础入门 第三期》 第七课 面向对象高级\n",
    "\n",
    "\n",
    "> [七月在线](https://www.julyedu.com) David@2018-12-22"
   ]
  },
  {
   "cell_type": "markdown",
   "metadata": {},
   "source": [
    "## 本节课程目标\n",
    "### 复习上节课内容\n",
    "### 类的继承和多态\n",
    "### 类的魔术方法与描述符\n",
    "### 类工厂函数与元类\n",
    "### 模块和包\n",
    "### 完成课后作业："
   ]
  },
  {
   "cell_type": "code",
   "execution_count": 53,
   "metadata": {},
   "outputs": [],
   "source": [
    "%config ZMQInteractiveShell.ast_node_interactivity='all'"
   ]
  },
  {
   "cell_type": "markdown",
   "metadata": {},
   "source": [
    "## 类的继承和多态"
   ]
  },
  {
   "cell_type": "code",
   "execution_count": 26,
   "metadata": {},
   "outputs": [
    {
     "name": "stdout",
     "output_type": "stream",
     "text": [
      "300\n",
      "450\n",
      "730.0\n"
     ]
    }
   ],
   "source": [
    "class Cinema():\n",
    "    salesTotal = 0\n",
    "    def __init__(self,name,location,sales):\n",
    "        self.name = name\n",
    "        self.location = location\n",
    "        self.sales = sales\n",
    "        Cinema.salesTotal += sales\n",
    "    def saleTickets(self, total):\n",
    "        self.sales += total\n",
    "        Cinema.salesTotal += total\n",
    "    @classmethod\n",
    "    def getSales(cls,):\n",
    "        return Cinema.salesTotal\n",
    "    \n",
    "\n",
    "cinema1 = Cinema(\"万达影院\",\"万达广场\",100)\n",
    "cinema1.saleTickets(200)\n",
    "\n",
    "print(Cinema.getSales())\n",
    "\n",
    "cinema2 = Cinema(\"DMG影院\",\"房山南路\",50)\n",
    "cinema2.saleTickets(100)\n",
    "print(Cinema.getSales())\n",
    "\n",
    "\n",
    "class MiniCinema(Cinema):\n",
    "    def saleTickets(self, total):\n",
    "        if total > 100:\n",
    "            total*=0.9#九折\n",
    "        super().saleTickets(total)#Python中的super().是代表调用父类中的成员。\n",
    "\n",
    "        \n",
    "minicinema1 = MiniCinema(\"万达迷你影院\",\"万达广场\",100)\n",
    "\n",
    "minicinema1.saleTickets(200)\n",
    "print(MiniCinema.getSales())"
   ]
  },
  {
   "cell_type": "markdown",
   "metadata": {},
   "source": [
    "##### 扩展阅读：Python多继承"
   ]
  },
  {
   "cell_type": "markdown",
   "metadata": {},
   "source": [
    "Python的Mixin模式可以通过多继承的方式来实现动态继承性质（在程序运行过程中，重定义类的继承顺序）。当某个模块不能修改时，通过mixin方式可以动态添加该类的方法，动态改变类的原有继承体系。\n",
    "\n",
    "Mixin编程是一种开发模式，是一种将多个类中的功能单元的进行组合的利用的方式，这听起来就像是有类的继承机制就可以实现，然而这与传统的类继承有所不同。通常mixin并不作为任何类的基类，也不关心与什么类一起使用，而是在运行时动态的同其他零散的类一起组合使用。\n",
    "\n",
    "使用mixin机制有如下好处：可以在不修改任何源代码的情况下，对已有类进行扩展；可以保证组件的划分；可以根据需要，使用已有的功能进行组合，来实现“新”类；很好的避免了类继承的局限性，因为新的业务需要可能就需要创建新的子类。\n",
    "\n",
    "\n",
    "\n",
    "`__bases__`:    \n",
    "返回一个元组，该元组元素是类的基类   \n",
    "`__mro__`:   \n",
    "返回一个元组，该元组元素是该类的继承的类，当查询继承的时候会按从左到右的顺序。"
   ]
  },
  {
   "cell_type": "code",
   "execution_count": 54,
   "metadata": {},
   "outputs": [
    {
     "data": {
      "text/plain": [
       "__main__.Cinema"
      ]
     },
     "execution_count": 54,
     "metadata": {},
     "output_type": "execute_result"
    },
    {
     "data": {
      "text/plain": [
       "(__main__.MiniCinema, __main__.Cinema, object)"
      ]
     },
     "execution_count": 54,
     "metadata": {},
     "output_type": "execute_result"
    }
   ],
   "source": [
    "# 例1\n",
    "MiniCinema.__base__\n",
    "#返回一个元组，该元组元素是类的基类，如：\n",
    "\n",
    "MiniCinema.__mro__\n",
    "#This attribute is a tuple of classes that are considered when looking for base classes during method resolution. \n",
    "#返回一个元组，该元组元素是该类的继承的类，当查询继承的时候会按从左到右的顺序。"
   ]
  },
  {
   "cell_type": "code",
   "execution_count": 58,
   "metadata": {},
   "outputs": [
    {
     "name": "stdout",
     "output_type": "stream",
     "text": [
      "<class 'type'>\n",
      "<class 'object'>\n",
      "<class 'object'>\n",
      "(<class 'type'>, <class 'object'>)\n"
     ]
    }
   ],
   "source": [
    "# 例2\n",
    "class a(object):\n",
    "    pass\n",
    "\n",
    "class a:\n",
    "    pass\n",
    "print(a.__class__)\n",
    "print(a.__class__.__base__)\n",
    "print(a.__base__)\n",
    "# (<class 'object'>,)\n",
    "# 可见a类继承了object类\n",
    "# __mro__: \n",
    "# This attribute is a tuple of classes that are considered when looking for base classes during method resolution. \n",
    "# 返回一个元组，该元组元素是该类的继承的类，当查询继承的时候会按从左到右的顺序。\n",
    "print(a.__class__.__mro__)\n",
    "# (<class 'main.a'>, <class 'object'>)\n",
    "# print(dir(a))"
   ]
  },
  {
   "cell_type": "code",
   "execution_count": 18,
   "metadata": {},
   "outputs": [
    {
     "name": "stdout",
     "output_type": "stream",
     "text": [
      "------------------------------------->\n",
      "(<class '__main__.test0'>, <class '__main__.test1'>, <class 'object'>)\n",
      "#继承了test1，object,调用test1的方法\n",
      "In the test1 class!\n",
      "------------------------------------->\n",
      "before: (<class '__main__.test0'>, <class '__main__.test1'>, <class 'object'>)\n",
      "In the test1 class!\n",
      "after: (<class '__main__.test0'>, <class '__main__.testMixin'>, <class '__main__.test1'>, <class 'object'>)\n",
      "#由于优先继承了testMixin类，最靠右，所以调用testMixin类的方法\n",
      "In the testMixin class!\n",
      "------------------------------------->\n",
      "(<class '__main__.test2'>, <class '__main__.test1'>, <class '__main__.testMixin'>, <class 'object'>)\n"
     ]
    }
   ],
   "source": [
    "import types\n",
    "\n",
    "def mixin(pyClass, pyMixinClass, key=0):\n",
    "    if key:\n",
    "        pyClass.__bases__ = (pyMixinClass,) + pyClass.__bases__\n",
    "    elif pyMixinClass not in pyClass.__bases__:\n",
    "        pyClass.__bases__ += (pyMixinClass,)\n",
    "    else:\n",
    "        pass\n",
    "    \n",
    "class testMixin:\n",
    "    def test(self):\n",
    "        print('In the testMixin class!')\n",
    "\n",
    "class test1:\n",
    "    def test(self):\n",
    "        print('In the test1 class!')\n",
    "\n",
    "\n",
    "class test0(test1):\n",
    "    pass\n",
    "\n",
    "class test2(test1, testMixin):\n",
    "    def test(self):\n",
    "        print('In the test2 class!')\n",
    "\n",
    "\n",
    "print('------------------------------------->')        \n",
    "print(test0.__mro__)  #继承了test1，object\n",
    "test_0 = test0()\n",
    "print('#继承了test1，object,调用test1的方法')\n",
    "test_0.test()  \n",
    "\n",
    "print('------------------------------------->')\n",
    "print('before:',test0.__mro__)\n",
    "test__0 = test0()\n",
    "test__0.test()\n",
    "mixin(test0, testMixin, 1)  \n",
    "print('after:',test0.__mro__)\n",
    "print('#由于优先继承了testMixin类，最靠右，所以调用testMixin类的方法')\n",
    "test__0 = test0()\n",
    "test__0.test()\n",
    "print('------------------------------------->')\n",
    "\n",
    "mixin(test2, testMixin)\n",
    "print(test2.__mro__)"
   ]
  },
  {
   "cell_type": "markdown",
   "metadata": {},
   "source": [
    "## 描述符descriptor与魔术方法Magic Method,`__*__`"
   ]
  },
  {
   "cell_type": "markdown",
   "metadata": {},
   "source": [
    "### 描述符"
   ]
  },
  {
   "cell_type": "markdown",
   "metadata": {},
   "source": [
    "描述符是一个“绑定行为”的对象属性，在描述符协议中，它可以通过方法重写属性的访问。   \n",
    "这些方法有 __get__(), __set__(), 和__delete__()。   \n",
    "如果这些方法中的任何一个被定义在一个对象中，这个对象就是一个描述符。\n",
    "\n",
    "property就是数据描述符，没提供setter方法，但__set__也存在。因此高于同名成员。"
   ]
  },
  {
   "cell_type": "code",
   "execution_count": 4,
   "metadata": {},
   "outputs": [
    {
     "data": {
      "text/plain": [
       "0"
      ]
     },
     "execution_count": 4,
     "metadata": {},
     "output_type": "execute_result"
    }
   ],
   "source": [
    "#@property—把函数调用伪装成对属性的访问,数据描述符属性的优先级高于实例名称空间中的同名成员。\n",
    "# 使用@property，不用再像java中使用getter,setter方法去设置和访问类变量   \n",
    "# 这时，也只有通过@property，才能对实例变量进行访问或设置，实现了对变量访问的控制，\n",
    "\n",
    "class Student1():\n",
    "    def __init__(self,name,age):  ###__init__实例初始化\n",
    "        self.name = name       ####self:实例变量，变量的名字叫name\n",
    "        self.__age=age\n",
    "        \n",
    "    @property #getter\n",
    "    def name1(self):\n",
    "        return self.name\n",
    "    \n",
    "    @name1.setter  # setter\n",
    "    def name1(self,newname):\n",
    "        self.name = newname\n",
    "        \n",
    "    @property #getter\n",
    "    def age(self):\n",
    "        return 0\n",
    "    \n",
    "    @age.setter  # setter\n",
    "    def age(self,newage):\n",
    "        self.__age = newage\n",
    "        \n",
    "# 上面这样设置的是类变量可以被类实例随意访问，修改。\n",
    "# 注意，这里的name1，如果和实例变量name重名会导致，无限递归！！！\n",
    "# RecursionError: maximum recursion depth exceeded while calling a Python object\n",
    "\n",
    "# 但如果想让@property和类实例变量同名呢？  \n",
    "# 将实例变量设置为私有(像age一样)就不会导致重名引发递归死机了\n",
    "s1=Student1('jack',33)\n",
    "s1.name1\n",
    "\n",
    "s1.age#getter\n",
    "s1.age=22#setter\n",
    "\n",
    "s1.age"
   ]
  },
  {
   "cell_type": "markdown",
   "metadata": {},
   "source": [
    "### 魔术方法\n",
    "- 魔法方法就是可以给你的类增加魔力的特殊方法，如果你的对象实现（重载）了这些方法中的某一个，那么这个方法就会在特殊的情况下被 Python 所调用，\n",
    "- 你可以定义自己想要的行为，这些会自动发生。\n",
    "- 它们经常是两个下划线包围来命名的"
   ]
  },
  {
   "cell_type": "code",
   "execution_count": 29,
   "metadata": {},
   "outputs": [
    {
     "name": "stdout",
     "output_type": "stream",
     "text": [
      "被__init__jjjhgxgfxf\n",
      "我被__del__了，再见kjbjkh\n"
     ]
    }
   ],
   "source": [
    "#一个最基本的魔术方法， __init__ 。\n",
    "\n",
    "#通过此方法我们可以定义一个对象的初始操作。\n",
    "#然而，当我调用 x = SomeClass() 的时候， __init__ 并不是第一个被调用的方法。\n",
    "#实际上，还有一个叫做 __new__ 的方法，来构造这个实例。\n",
    "#然后给在开始创建时候的初始化函数来传递参数。\n",
    "#在对象生命周期的结束时，也有一个 __del__ 方法\n",
    "\n",
    "class myclass():\n",
    "    def __init__(self,):\n",
    "        print('被__init__jjjhgxgfxf')\n",
    "\n",
    "    def __del__(self,):\n",
    "        print('我被__del__了，再见kjbjkh')        \n",
    "\n",
    "c1=myclass()\n",
    "del c1"
   ]
  },
  {
   "cell_type": "code",
   "execution_count": 37,
   "metadata": {},
   "outputs": [
    {
     "data": {
      "text/plain": [
       "[0, 1, 2, 3, 4]"
      ]
     },
     "execution_count": 37,
     "metadata": {},
     "output_type": "execute_result"
    },
    {
     "data": {
      "text/plain": [
       "7"
      ]
     },
     "execution_count": 37,
     "metadata": {},
     "output_type": "execute_result"
    }
   ],
   "source": [
    "l1=[0,1,2,3,4,5,6]\n",
    "l1[0:5]\n",
    "len(l1)"
   ]
  },
  {
   "cell_type": "code",
   "execution_count": 40,
   "metadata": {},
   "outputs": [
    {
     "data": {
      "text/plain": [
       "30"
      ]
     },
     "execution_count": 40,
     "metadata": {},
     "output_type": "execute_result"
    },
    {
     "data": {
      "text/plain": [
       "[0, 1, 2, 3, 4, 5]"
      ]
     },
     "execution_count": 40,
     "metadata": {},
     "output_type": "execute_result"
    }
   ],
   "source": [
    "#访问魔法函数__getitem__\n",
    "class FunctionalList():\n",
    "\n",
    "    def __init__(self, values=None):#初始化\n",
    "        if values is None:\n",
    "            self.values = []\n",
    "        else:\n",
    "            self.values = values\n",
    "\n",
    "    def __len__(self):\n",
    "        return len(self.values)+20#故意多加10个\n",
    "\n",
    "    def __getitem__(self, key):\n",
    "        if type(key)==slice:#如果传入的key是一个slice类，则这是一个切片访问\n",
    "            start=key.start\n",
    "            stop=key.stop+1\n",
    "            if key.stop==None:\n",
    "                stop=-1\n",
    "            if key.start==None:\n",
    "                start=0\n",
    "            return self.values[start:stop]\n",
    "        else:\n",
    "            return str(self.values[key])*2#故意多输出2次\n",
    "    \n",
    "\n",
    "    def __setitem__(self, key, value):\n",
    "        self.values[key] = str(value)+'haha'#故意都给转成str，再加haha字样\n",
    "\n",
    "    def __delitem__(self, key):\n",
    "        pass\n",
    "        #del self.values[key]#就是故意不去删\n",
    "\n",
    "    def __iter__(self):#用于迭代器，之所以列表、字典、元组等可以进行for循环，是因为类型内部定义了 __iter__\n",
    "#         pass\n",
    "        return iter(self.values)\n",
    "\n",
    "    def __reversed__(self):\n",
    "        return reversed(self.values)\n",
    "\n",
    "\n",
    "    def append(self, value):#非魔术方法\n",
    "        self.values.append(value)\n",
    "\n",
    "l1=list(range(10))\n",
    "o1=FunctionalList(l1)\n",
    "len(o1)#调用的是__len__\n",
    "\n",
    "\n",
    "o1[0:5]"
   ]
  },
  {
   "cell_type": "markdown",
   "metadata": {},
   "source": [
    "## 类工厂函数与元类"
   ]
  },
  {
   "cell_type": "markdown",
   "metadata": {},
   "source": [
    "### 类工厂函数"
   ]
  },
  {
   "cell_type": "code",
   "execution_count": 5,
   "metadata": {},
   "outputs": [
    {
     "name": "stdout",
     "output_type": "stream",
     "text": [
      "User(name='kongxx', sex='male', age=21)\n",
      "kongxx\n",
      "male\n",
      "21\n",
      "User(name='kongxx', sex='male', age=22)\n",
      "OrderedDict([('name', 'kongxx'), ('sex', 'male'), ('age', 22)])\n"
     ]
    }
   ],
   "source": [
    "#Namedtuple,类工厂函数\n",
    "from collections import namedtuple\n",
    "\n",
    "# 定义一个namedtuple类型User（实际是User类），并包含name，sex和age属性。\n",
    "User = namedtuple('User', ['name', 'sex', 'age'])\n",
    "\n",
    "# 创建一个User类的实例user\n",
    "user = User(name='kongxx', sex='male', age=21)\n",
    "\n",
    "# 也可以通过一个list来创建一个User对象\n",
    "user = User._make(['kongxx', 'male', 21])\n",
    "\n",
    "print(user)\n",
    "# User(name='user1', sex='male', age=21)\n",
    "\n",
    "# 获取用户的属性\n",
    "print(user.name)\n",
    "print(user.sex)\n",
    "print(user.age)\n",
    "\n",
    "# 修改对象属性，注意要使用\"_replace\"方法\n",
    "user = user._replace(age=22)\n",
    "print(user)\n",
    "# User(name='user1', sex='male', age=21)\n",
    "\n",
    "# 将User对象转换成字典，注意要使用\"_asdict\"\n",
    "print (user._asdict())\n",
    "# OrderedDict([('name', 'kongxx'), ('sex', 'male'), ('age', 22)])"
   ]
  },
  {
   "cell_type": "markdown",
   "metadata": {},
   "source": [
    "### 元类：元类就是用来创建类的“东西”，即函数type。type就是Python在背后用来创建所有类的元类"
   ]
  },
  {
   "cell_type": "markdown",
   "metadata": {},
   "source": [
    "<img src='data:image/jpeg;base64,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'>"
   ]
  },
  {
   "cell_type": "markdown",
   "metadata": {},
   "source": [
    "元类就是用来创建类的“东西”，即函数type。type就是Python在背后用来创建所有类的元类    \n",
    "面向对象思想中的类和对象在Python中都是通过对象来实现的，没错，类也是对象。\n",
    "\n",
    "```python\n",
    "class ObjectCreator(object):\n",
    "    pass\n",
    "```\n",
    "\n",
    "以上代码创建一个名为ObjectCreator的类(实际为对象)   \n",
    "这个类(实际为对象)自身拥有创建对象（类实例）的能力，而这就是为什么它是一个类的原因   \n",
    "但是，它的本质仍然是一个对象（类本质 上也是一个对象）   \n",
    "\n",
    "\n",
    "类可以在运行时动态的创建它们,关键字class时Python在幕后就是通过元类实现   \n",
    "直接写的类是固定的，而类是可以动态通过参数进行创造的"
   ]
  },
  {
   "cell_type": "markdown",
   "metadata": {},
   "source": [
    "### 重提type函数\n",
    "\n",
    "Python中所有的东西，注意，我是指所有的东西——都是对象。这包括整数、字符串、函数以及类。它们全部都是对象，而且它们都是从一个类创建而来。   \n",
    "我们知道了Python中的类也是对象。元类就是用来创建这些类（对象）的，元类就是类的类，   \n",
    "函数type实际上是一个元类。type就是Python在背后用来创建所有类的元类。   \n",
    "\n",
    "\n",
    "内置函数type()除了查看对象所属类型外，还有种非凡的能力，即能抛开固化的类创建代码，而动态的创建类。   \n",
    "而且通过type()函数创建的类和直接写class是完全一样的。   \n",
    "因为解释器遇到class关键字时，扫描一下class定义的语法，最后还是调用type()函数创建出class   "
   ]
  },
  {
   "cell_type": "code",
   "execution_count": 52,
   "metadata": {},
   "outputs": [
    {
     "data": {
      "text/plain": [
       "(__main__.FooChild, __main__.Foo, object)"
      ]
     },
     "execution_count": 52,
     "metadata": {},
     "output_type": "execute_result"
    }
   ],
   "source": [
    "#type()函数依次传入3个参数：\n",
    "# 1.class的名称\n",
    "# 2.class继承的父类集合，注意Python支持多重继承，如果只有一个父类，别忘了tuple的单元素写法；\n",
    "# 3.class的方法名称与函数绑定，这里我们把函数fn绑定到方法名hello上。\n",
    "\n",
    "MyShinyClass = type('MyShinyClass', (), {}) \n",
    "Foo = type('Foo', (), {'bar':True})\n",
    "FooChild = type('FooChild', (Foo,),{}) \n",
    "\n",
    "s1=dict(locals())\n",
    "Foo = type('Foo', (), s1)\n",
    "FooChild = type('FooChild', (Foo,), s1)\n",
    "FooChild.__mro__"
   ]
  },
  {
   "cell_type": "markdown",
   "metadata": {},
   "source": [
    "##### 扩展阅读：查看与指定类的元类\n",
    "`__metaclass__` = ABCmeta,即指定该类的元类是ABCmeta。所谓元类就是创建类的类。"
   ]
  },
  {
   "cell_type": "markdown",
   "metadata": {},
   "source": [
    "## 模块和包"
   ]
  },
  {
   "cell_type": "markdown",
   "metadata": {},
   "source": [
    "##### 模块"
   ]
  },
  {
   "cell_type": "code",
   "execution_count": 46,
   "metadata": {},
   "outputs": [
    {
     "data": {
      "text/plain": [
       "6"
      ]
     },
     "execution_count": 46,
     "metadata": {},
     "output_type": "execute_result"
    }
   ],
   "source": [
    "A=6\n",
    "A"
   ]
  },
  {
   "cell_type": "markdown",
   "metadata": {},
   "source": [
    "##### Python中的下划线\n",
    "```\n",
    "_，__,__*__,\n",
    "_开头，模块内的私有成员，不会被星号导入\n",
    "__开头，类成员私有成员\n",
    "__开头,__结尾，系统成员，不要使用\n",
    "_，交互模式下，保存最后一个表达式的返回的名字\n",
    "```"
   ]
  },
  {
   "cell_type": "markdown",
   "metadata": {},
   "source": [
    "##### 包"
   ]
  },
  {
   "cell_type": "markdown",
   "metadata": {},
   "source": [
    "- 文件夹下必须有__init__.py文件\n",
    "- 路径必须可以被python搜索到```import sys;sys.path```\n",
    "- 第三方安装后位于Python目录下的\\Lib\\site-packages"
   ]
  },
  {
   "cell_type": "code",
   "execution_count": 49,
   "metadata": {},
   "outputs": [],
   "source": [
    "import numpy as np"
   ]
  },
  {
   "cell_type": "markdown",
   "metadata": {},
   "source": [
    "##### pypi https://pypi.org/"
   ]
  },
  {
   "cell_type": "markdown",
   "metadata": {},
   "source": [
    "## 课后作业："
   ]
  },
  {
   "cell_type": "markdown",
   "metadata": {},
   "source": [
    "### 设计类及其继承类\n",
    "\n",
    "设计一个叫cinema的电影院的类，包含\n",
    "- 类方法：\n",
    "  - 初始化方法，并初始相应的类变量实例变量\n",
    " - getSales（获取全部电影院实际销售的方法）的电影院\n",
    "- 实例方法：\n",
    " - saleTickets方法，要求更新实例的销售总额及类的销售总额\n",
    "- 类变量：\n",
    " - 类下所有实例电影院的数量，销售额总和\n",
    "- 实例变量：\n",
    " - 电影院名称，位置，销售额    \n",
    " \n",
    "创建一个miniCinema迷你电影院的类，继承自cinema类\n",
    " - 重写卖票方法，大于100元的票价加入打9折扣的功能。\n",
    " - 对miniCinema实例进行调用体现多态性"
   ]
  }
 ],
 "metadata": {
  "kernelspec": {
   "display_name": "Python 3",
   "language": "python",
   "name": "python3"
  },
  "language_info": {
   "codemirror_mode": {
    "name": "ipython",
    "version": 3
   },
   "file_extension": ".py",
   "mimetype": "text/x-python",
   "name": "python",
   "nbconvert_exporter": "python",
   "pygments_lexer": "ipython3",
   "version": "3.5.2"
  },
  "latex_envs": {
   "LaTeX_envs_menu_present": true,
   "autoclose": false,
   "autocomplete": true,
   "bibliofile": "biblio.bib",
   "cite_by": "apalike",
   "current_citInitial": 1,
   "eqLabelWithNumbers": true,
   "eqNumInitial": 1,
   "hotkeys": {
    "equation": "Ctrl-E",
    "itemize": "Ctrl-I"
   },
   "labels_anchors": false,
   "latex_user_defs": false,
   "report_style_numbering": false,
   "user_envs_cfg": false
  },
  "toc": {
   "base_numbering": 1,
   "nav_menu": {},
   "number_sections": true,
   "sideBar": true,
   "skip_h1_title": false,
   "title_cell": "Table of Contents",
   "title_sidebar": "Contents",
   "toc_cell": false,
   "toc_position": {
    "height": "calc(100% - 180px)",
    "left": "10px",
    "top": "150px",
    "width": "349px"
   },
   "toc_section_display": true,
   "toc_window_display": false
  }
 },
 "nbformat": 4,
 "nbformat_minor": 2
}
