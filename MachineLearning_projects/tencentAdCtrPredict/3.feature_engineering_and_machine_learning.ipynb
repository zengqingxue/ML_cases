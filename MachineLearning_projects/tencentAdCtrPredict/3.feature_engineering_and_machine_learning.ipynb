{
 "cells": [
  {
   "cell_type": "markdown",
   "metadata": {},
   "source": [
    "## 特征工程与机器学习建模"
   ]
  },
  {
   "cell_type": "markdown",
   "metadata": {},
   "source": [
    "### 自定义工具函数库"
   ]
  },
  {
   "cell_type": "code",
   "execution_count": 9,
   "metadata": {
    "ExecuteTime": {
     "end_time": "2020-06-15T13:40:51.927079Z",
     "start_time": "2020-06-15T13:40:50.844444Z"
    }
   },
   "outputs": [],
   "source": [
    "#coding=utf-8\n",
    "import  pandas as pd\n",
    "import numpy as np\n",
    "import scipy as sp\n",
    "\n",
    "\n",
    "#文件读取\n",
    "def read_csv_file(f,logging=False):\n",
    "    print(\"============================读取数据========================\",f) \n",
    "    print(\"======================我是萌萌哒分界线========================\")\n",
    "    data = pd.read_csv(f)\n",
    "    if logging:\n",
    "        print(data.head(5))\n",
    "        print( f,\"包含以下列....\")\n",
    "        print(data.columns.values)\n",
    "        print( data.describe())\n",
    "        print( data.info())\n",
    "    return  data\n",
    "\n",
    "#第一类编码\n",
    "def categories_process_first_class(cate):\n",
    "    cate = str(cate)\n",
    "    if len(cate)==1:\n",
    "        if int(cate)==0:\n",
    "            return 0\n",
    "    else:\n",
    "        return int(cate[0])\n",
    "\n",
    "#第2类编码\n",
    "def categories_process_second_class(cate):\n",
    "    cate = str(cate)\n",
    "    if len(cate)<3:\n",
    "        return 0\n",
    "    else:\n",
    "        return int(cate[1:])\n",
    "\n",
    "#年龄处理，切段\n",
    "def age_process(age):\n",
    "    age = int(age)\n",
    "    if age==0:\n",
    "        return 0\n",
    "    elif age<15:\n",
    "        return 1\n",
    "    elif age<25:\n",
    "        return 2\n",
    "    elif age<40:\n",
    "        return 3\n",
    "    elif age<60:\n",
    "        return 4\n",
    "    else:\n",
    "        return 5\n",
    "\n",
    "#省份处理\n",
    "def process_province(hometown):\n",
    "    hometown = str(hometown)\n",
    "    province = int(hometown[0:2])\n",
    "    return province\n",
    "\n",
    "#城市处理\n",
    "def process_city(hometown):\n",
    "    hometown = str(hometown)\n",
    "    if len(hometown)>1:\n",
    "        province = int(hometown[2:])\n",
    "    else:\n",
    "        province = 0\n",
    "    return province\n",
    "\n",
    "#几点钟\n",
    "def get_time_day(t):\n",
    "    t = str(t)\n",
    "    t=int(t[0:2])\n",
    "    return t\n",
    "\n",
    "#一天切成4段\n",
    "def get_time_hour(t):\n",
    "    t = str(t)\n",
    "    t=int(t[2:4])\n",
    "    if t<6:\n",
    "        return 0\n",
    "    elif t<12:\n",
    "        return 1\n",
    "    elif t<18:\n",
    "        return 2\n",
    "    else:\n",
    "        return 3\n",
    "\n",
    "#评估与计算logloss\n",
    "def logloss(act, pred):\n",
    "  epsilon = 1e-15\n",
    "  pred = sp.maximum(epsilon, pred)\n",
    "  pred = sp.minimum(1-epsilon, pred)\n",
    "  ll = sum(act*sp.log(pred) + sp.subtract(1,act)*sp.log(sp.subtract(1,pred)))\n",
    "  ll = ll * -1.0/len(act)\n",
    "  return ll"
   ]
  },
  {
   "cell_type": "markdown",
   "metadata": {},
   "source": [
    "### 特征工程+随机森林建模"
   ]
  },
  {
   "cell_type": "markdown",
   "metadata": {},
   "source": [
    "#### import 库"
   ]
  },
  {
   "cell_type": "code",
   "execution_count": 10,
   "metadata": {
    "ExecuteTime": {
     "end_time": "2020-06-15T13:40:55.558685Z",
     "start_time": "2020-06-15T13:40:55.008599Z"
    }
   },
   "outputs": [],
   "source": [
    "#coding=utf-8\n",
    "from sklearn.preprocessing import Binarizer\n",
    "from sklearn.preprocessing import MinMaxScaler\n",
    "import pandas as pd\n",
    "import numpy as np"
   ]
  },
  {
   "cell_type": "markdown",
   "metadata": {},
   "source": [
    "#### 读取train_data和ad\n",
    "#### 特征工程"
   ]
  },
  {
   "cell_type": "code",
   "execution_count": 12,
   "metadata": {
    "ExecuteTime": {
     "end_time": "2020-06-15T13:42:15.507913Z",
     "start_time": "2020-06-15T13:42:12.618637Z"
    }
   },
   "outputs": [
    {
     "name": "stdout",
     "output_type": "stream",
     "text": [
      "============================读取数据======================== E:/E_datas/tencentCvrConvertPrediton_7_8/train.csv\n",
      "======================我是萌萌哒分界线========================\n",
      "   label  clickTime  conversionTime  creativeID   userID  positionID  \\\n",
      "0      0     170000             NaN        3089  2798058         293   \n",
      "1      0     170000             NaN        1259   463234        6161   \n",
      "2      0     170000             NaN        4465  1857485        7434   \n",
      "3      0     170000             NaN        1004  2038823         977   \n",
      "4      0     170000             NaN        1887  2015141        3688   \n",
      "\n",
      "   connectionType  telecomsOperator  \n",
      "0               1                 1  \n",
      "1               1                 2  \n",
      "2               4                 1  \n",
      "3               1                 1  \n",
      "4               1                 1  \n",
      "E:/E_datas/tencentCvrConvertPrediton_7_8/train.csv 包含以下列....\n",
      "['label' 'clickTime' 'conversionTime' 'creativeID' 'userID' 'positionID'\n",
      " 'connectionType' 'telecomsOperator']\n",
      "              label     clickTime  conversionTime    creativeID        userID  \\\n",
      "count  3.749528e+06  3.749528e+06    93262.000000  3.749528e+06  3.749528e+06   \n",
      "mean   2.487300e-02  2.418317e+05   242645.358013  3.261575e+03  1.405349e+06   \n",
      "std    1.557380e-01  3.958793e+04    39285.385532  1.829643e+03  8.088094e+05   \n",
      "min    0.000000e+00  1.700000e+05   170005.000000  1.000000e+00  1.000000e+00   \n",
      "25%    0.000000e+00  2.116270e+05   211626.000000  1.540000e+03  7.058698e+05   \n",
      "50%    0.000000e+00  2.418390e+05   242106.000000  3.465000e+03  1.407062e+06   \n",
      "75%    0.000000e+00  2.722170e+05   272344.000000  4.565000e+03  2.105989e+06   \n",
      "max    1.000000e+00  3.023590e+05   302359.000000  6.582000e+03  2.805118e+06   \n",
      "\n",
      "         positionID  connectionType  telecomsOperator  \n",
      "count  3.749528e+06    3.749528e+06      3.749528e+06  \n",
      "mean   3.702799e+03    1.222590e+00      1.605879e+00  \n",
      "std    1.923724e+03    5.744428e-01      8.491127e-01  \n",
      "min    1.000000e+00    0.000000e+00      0.000000e+00  \n",
      "25%    2.579000e+03    1.000000e+00      1.000000e+00  \n",
      "50%    3.322000e+03    1.000000e+00      1.000000e+00  \n",
      "75%    4.896000e+03    1.000000e+00      2.000000e+00  \n",
      "max    7.645000e+03    4.000000e+00      3.000000e+00  \n",
      "<class 'pandas.core.frame.DataFrame'>\n",
      "RangeIndex: 3749528 entries, 0 to 3749527\n",
      "Data columns (total 8 columns):\n",
      " #   Column            Dtype  \n",
      "---  ------            -----  \n",
      " 0   label             int64  \n",
      " 1   clickTime         int64  \n",
      " 2   conversionTime    float64\n",
      " 3   creativeID        int64  \n",
      " 4   userID            int64  \n",
      " 5   positionID        int64  \n",
      " 6   connectionType    int64  \n",
      " 7   telecomsOperator  int64  \n",
      "dtypes: float64(1), int64(7)\n",
      "memory usage: 228.9 MB\n",
      "None\n",
      "============================读取数据======================== E:/E_datas/tencentCvrConvertPrediton_7_8/ad.csv\n",
      "======================我是萌萌哒分界线========================\n",
      "   creativeID  adID  camgaignID  advertiserID  appID  appPlatform\n",
      "0        4079  2318         147            80     14            2\n",
      "1        4565  3593         632             3    465            1\n",
      "2        3170  1593         205            54    389            1\n",
      "3        6566  2390         205            54    389            1\n",
      "4        5187   411         564             3    465            1\n",
      "E:/E_datas/tencentCvrConvertPrediton_7_8/ad.csv 包含以下列....\n",
      "['creativeID' 'adID' 'camgaignID' 'advertiserID' 'appID' 'appPlatform']\n",
      "        creativeID         adID   camgaignID  advertiserID        appID  \\\n",
      "count  6582.000000  6582.000000  6582.000000   6582.000000  6582.000000   \n",
      "mean   3291.500000  1786.341689   313.397144     44.381191   310.805682   \n",
      "std    1900.204068  1045.890729   210.636055     24.091342   125.577377   \n",
      "min       1.000000     1.000000     1.000000      1.000000    14.000000   \n",
      "25%    1646.250000   882.250000   131.000000     26.000000   205.000000   \n",
      "50%    3291.500000  1771.000000   274.000000     54.000000   389.000000   \n",
      "75%    4936.750000  2698.750000   512.000000     57.000000   421.000000   \n",
      "max    6582.000000  3616.000000   720.000000     91.000000   472.000000   \n",
      "\n",
      "       appPlatform  \n",
      "count  6582.000000  \n",
      "mean      1.448952  \n",
      "std       0.497425  \n",
      "min       1.000000  \n",
      "25%       1.000000  \n",
      "50%       1.000000  \n",
      "75%       2.000000  \n",
      "max       2.000000  \n",
      "<class 'pandas.core.frame.DataFrame'>\n",
      "RangeIndex: 6582 entries, 0 to 6581\n",
      "Data columns (total 6 columns):\n",
      " #   Column        Non-Null Count  Dtype\n",
      "---  ------        --------------  -----\n",
      " 0   creativeID    6582 non-null   int64\n",
      " 1   adID          6582 non-null   int64\n",
      " 2   camgaignID    6582 non-null   int64\n",
      " 3   advertiserID  6582 non-null   int64\n",
      " 4   appID         6582 non-null   int64\n",
      " 5   appPlatform   6582 non-null   int64\n",
      "dtypes: int64(6)\n",
      "memory usage: 308.7 KB\n",
      "None\n"
     ]
    }
   ],
   "source": [
    "data_root = \"E:/E_datas/tencentCvrConvertPrediton_7_8\"\n",
    "#['label' 'clickTime' 'conversionTime' 'creativeID' 'userID' 'positionID' 'connectionType' 'telecomsOperator']\n",
    "train_data = read_csv_file(data_root+'/train.csv',logging=True)\n",
    "\n",
    "#['creativeID' 'adID' 'camgaignID' 'advertiserID' 'appID' 'appPlatform']\n",
    "ad = read_csv_file(data_root+'/ad.csv',logging=True)"
   ]
  },
  {
   "cell_type": "code",
   "execution_count": 15,
   "metadata": {
    "ExecuteTime": {
     "end_time": "2020-06-15T13:42:50.760804Z",
     "start_time": "2020-06-15T13:42:50.050164Z"
    }
   },
   "outputs": [
    {
     "name": "stdout",
     "output_type": "stream",
     "text": [
      "============================读取数据======================== E:/E_datas/tencentCvrConvertPrediton_7_8/app_categories.csv\n",
      "======================我是萌萌哒分界线========================\n",
      "   appID  appCategory\n",
      "0     14            2\n",
      "1     25          203\n",
      "2     68          104\n",
      "3     75          402\n",
      "4     83          203\n",
      "E:/E_datas/tencentCvrConvertPrediton_7_8/app_categories.csv 包含以下列....\n",
      "['appID' 'appCategory']\n",
      "               appID    appCategory\n",
      "count  217041.000000  217041.000000\n",
      "mean   137220.306472     161.856133\n",
      "std    105340.872671     157.746571\n",
      "min        14.000000       0.000000\n",
      "25%     54585.000000       0.000000\n",
      "50%    111520.000000     106.000000\n",
      "75%    195882.000000     301.000000\n",
      "max    433269.000000     503.000000\n",
      "<class 'pandas.core.frame.DataFrame'>\n",
      "RangeIndex: 217041 entries, 0 to 217040\n",
      "Data columns (total 2 columns):\n",
      " #   Column       Non-Null Count   Dtype\n",
      "---  ------       --------------   -----\n",
      " 0   appID        217041 non-null  int64\n",
      " 1   appCategory  217041 non-null  int64\n",
      "dtypes: int64(2)\n",
      "memory usage: 3.3 MB\n",
      "None\n"
     ]
    }
   ],
   "source": [
    "#app\n",
    "app_categories = read_csv_file(data_root+'/app_categories.csv',logging=True)\n",
    "app_categories[\"app_categories_first_class\"] = app_categories['appCategory'].apply(categories_process_first_class)\n",
    "app_categories[\"app_categories_second_class\"] = app_categories['appCategory'].apply(categories_process_second_class)"
   ]
  },
  {
   "cell_type": "code",
   "execution_count": 16,
   "metadata": {
    "ExecuteTime": {
     "end_time": "2020-06-15T13:42:57.006102Z",
     "start_time": "2020-06-15T13:42:56.988158Z"
    }
   },
   "outputs": [
    {
     "data": {
      "text/html": [
       "<div>\n",
       "<style scoped>\n",
       "    .dataframe tbody tr th:only-of-type {\n",
       "        vertical-align: middle;\n",
       "    }\n",
       "\n",
       "    .dataframe tbody tr th {\n",
       "        vertical-align: top;\n",
       "    }\n",
       "\n",
       "    .dataframe thead th {\n",
       "        text-align: right;\n",
       "    }\n",
       "</style>\n",
       "<table border=\"1\" class=\"dataframe\">\n",
       "  <thead>\n",
       "    <tr style=\"text-align: right;\">\n",
       "      <th></th>\n",
       "      <th>appID</th>\n",
       "      <th>appCategory</th>\n",
       "      <th>app_categories_first_class</th>\n",
       "      <th>app_categories_second_class</th>\n",
       "    </tr>\n",
       "  </thead>\n",
       "  <tbody>\n",
       "    <tr>\n",
       "      <th>0</th>\n",
       "      <td>14</td>\n",
       "      <td>2</td>\n",
       "      <td>NaN</td>\n",
       "      <td>0</td>\n",
       "    </tr>\n",
       "    <tr>\n",
       "      <th>1</th>\n",
       "      <td>25</td>\n",
       "      <td>203</td>\n",
       "      <td>2.0</td>\n",
       "      <td>3</td>\n",
       "    </tr>\n",
       "    <tr>\n",
       "      <th>2</th>\n",
       "      <td>68</td>\n",
       "      <td>104</td>\n",
       "      <td>1.0</td>\n",
       "      <td>4</td>\n",
       "    </tr>\n",
       "    <tr>\n",
       "      <th>3</th>\n",
       "      <td>75</td>\n",
       "      <td>402</td>\n",
       "      <td>4.0</td>\n",
       "      <td>2</td>\n",
       "    </tr>\n",
       "    <tr>\n",
       "      <th>4</th>\n",
       "      <td>83</td>\n",
       "      <td>203</td>\n",
       "      <td>2.0</td>\n",
       "      <td>3</td>\n",
       "    </tr>\n",
       "  </tbody>\n",
       "</table>\n",
       "</div>"
      ],
      "text/plain": [
       "   appID  appCategory  app_categories_first_class  app_categories_second_class\n",
       "0     14            2                         NaN                            0\n",
       "1     25          203                         2.0                            3\n",
       "2     68          104                         1.0                            4\n",
       "3     75          402                         4.0                            2\n",
       "4     83          203                         2.0                            3"
      ]
     },
     "execution_count": 16,
     "metadata": {},
     "output_type": "execute_result"
    }
   ],
   "source": [
    "app_categories.head()"
   ]
  },
  {
   "cell_type": "code",
   "execution_count": 21,
   "metadata": {
    "ExecuteTime": {
     "end_time": "2020-06-15T13:43:39.341445Z",
     "start_time": "2020-06-15T13:43:37.715825Z"
    }
   },
   "outputs": [
    {
     "name": "stdout",
     "output_type": "stream",
     "text": [
      "============================读取数据======================== E:/E_datas/tencentCvrConvertPrediton_7_8/user.csv\n",
      "======================我是萌萌哒分界线========================\n"
     ]
    }
   ],
   "source": [
    "user = read_csv_file(data_root+'/user.csv',logging=False)"
   ]
  },
  {
   "cell_type": "code",
   "execution_count": 22,
   "metadata": {
    "ExecuteTime": {
     "end_time": "2020-06-15T13:43:43.635153Z",
     "start_time": "2020-06-15T13:43:43.627137Z"
    }
   },
   "outputs": [
    {
     "data": {
      "text/plain": [
       "Index(['userID', 'age', 'gender', 'education', 'marriageStatus', 'haveBaby',\n",
       "       'hometown', 'residence'],\n",
       "      dtype='object')"
      ]
     },
     "execution_count": 22,
     "metadata": {},
     "output_type": "execute_result"
    }
   ],
   "source": [
    "user.columns"
   ]
  },
  {
   "cell_type": "code",
   "execution_count": 23,
   "metadata": {
    "ExecuteTime": {
     "end_time": "2020-06-15T13:43:46.490974Z",
     "start_time": "2020-06-15T13:43:45.667597Z"
    }
   },
   "outputs": [
    {
     "data": {
      "text/html": [
       "<div>\n",
       "<style scoped>\n",
       "    .dataframe tbody tr th:only-of-type {\n",
       "        vertical-align: middle;\n",
       "    }\n",
       "\n",
       "    .dataframe tbody tr th {\n",
       "        vertical-align: top;\n",
       "    }\n",
       "\n",
       "    .dataframe thead th {\n",
       "        text-align: right;\n",
       "    }\n",
       "</style>\n",
       "<table border=\"1\" class=\"dataframe\">\n",
       "  <thead>\n",
       "    <tr style=\"text-align: right;\">\n",
       "      <th></th>\n",
       "      <th>userID</th>\n",
       "      <th>age</th>\n",
       "      <th>gender</th>\n",
       "      <th>education</th>\n",
       "      <th>marriageStatus</th>\n",
       "      <th>haveBaby</th>\n",
       "      <th>hometown</th>\n",
       "      <th>residence</th>\n",
       "    </tr>\n",
       "  </thead>\n",
       "  <tbody>\n",
       "    <tr>\n",
       "      <th>count</th>\n",
       "      <td>2.510847e+06</td>\n",
       "      <td>2.510847e+06</td>\n",
       "      <td>2.510847e+06</td>\n",
       "      <td>2.510847e+06</td>\n",
       "      <td>2.510847e+06</td>\n",
       "      <td>2.510847e+06</td>\n",
       "      <td>2.510847e+06</td>\n",
       "      <td>2.510847e+06</td>\n",
       "    </tr>\n",
       "    <tr>\n",
       "      <th>mean</th>\n",
       "      <td>1.393745e+06</td>\n",
       "      <td>2.277593e+01</td>\n",
       "      <td>1.410284e+00</td>\n",
       "      <td>1.975580e+00</td>\n",
       "      <td>1.017286e+00</td>\n",
       "      <td>3.033893e-01</td>\n",
       "      <td>7.372152e+02</td>\n",
       "      <td>9.797279e+02</td>\n",
       "    </tr>\n",
       "    <tr>\n",
       "      <th>std</th>\n",
       "      <td>8.105652e+05</td>\n",
       "      <td>9.675687e+00</td>\n",
       "      <td>5.321244e-01</td>\n",
       "      <td>1.577530e+00</td>\n",
       "      <td>9.508679e-01</td>\n",
       "      <td>8.098684e-01</td>\n",
       "      <td>7.746096e+02</td>\n",
       "      <td>7.855014e+02</td>\n",
       "    </tr>\n",
       "    <tr>\n",
       "      <th>min</th>\n",
       "      <td>1.000000e+00</td>\n",
       "      <td>1.000000e+00</td>\n",
       "      <td>0.000000e+00</td>\n",
       "      <td>0.000000e+00</td>\n",
       "      <td>0.000000e+00</td>\n",
       "      <td>0.000000e+00</td>\n",
       "      <td>0.000000e+00</td>\n",
       "      <td>0.000000e+00</td>\n",
       "    </tr>\n",
       "    <tr>\n",
       "      <th>25%</th>\n",
       "      <td>6.903605e+05</td>\n",
       "      <td>1.500000e+01</td>\n",
       "      <td>1.000000e+00</td>\n",
       "      <td>1.000000e+00</td>\n",
       "      <td>0.000000e+00</td>\n",
       "      <td>0.000000e+00</td>\n",
       "      <td>0.000000e+00</td>\n",
       "      <td>3.050000e+02</td>\n",
       "    </tr>\n",
       "    <tr>\n",
       "      <th>50%</th>\n",
       "      <td>1.388503e+06</td>\n",
       "      <td>2.100000e+01</td>\n",
       "      <td>1.000000e+00</td>\n",
       "      <td>2.000000e+00</td>\n",
       "      <td>1.000000e+00</td>\n",
       "      <td>0.000000e+00</td>\n",
       "      <td>5.030000e+02</td>\n",
       "      <td>8.030000e+02</td>\n",
       "    </tr>\n",
       "    <tr>\n",
       "      <th>75%</th>\n",
       "      <td>2.095096e+06</td>\n",
       "      <td>2.800000e+01</td>\n",
       "      <td>2.000000e+00</td>\n",
       "      <td>3.000000e+00</td>\n",
       "      <td>2.000000e+00</td>\n",
       "      <td>0.000000e+00</td>\n",
       "      <td>1.301000e+03</td>\n",
       "      <td>1.513000e+03</td>\n",
       "    </tr>\n",
       "    <tr>\n",
       "      <th>max</th>\n",
       "      <td>2.805118e+06</td>\n",
       "      <td>8.000000e+01</td>\n",
       "      <td>2.000000e+00</td>\n",
       "      <td>7.000000e+00</td>\n",
       "      <td>3.000000e+00</td>\n",
       "      <td>6.000000e+00</td>\n",
       "      <td>3.401000e+03</td>\n",
       "      <td>3.401000e+03</td>\n",
       "    </tr>\n",
       "  </tbody>\n",
       "</table>\n",
       "</div>"
      ],
      "text/plain": [
       "             userID           age        gender     education  marriageStatus  \\\n",
       "count  2.510847e+06  2.510847e+06  2.510847e+06  2.510847e+06    2.510847e+06   \n",
       "mean   1.393745e+06  2.277593e+01  1.410284e+00  1.975580e+00    1.017286e+00   \n",
       "std    8.105652e+05  9.675687e+00  5.321244e-01  1.577530e+00    9.508679e-01   \n",
       "min    1.000000e+00  1.000000e+00  0.000000e+00  0.000000e+00    0.000000e+00   \n",
       "25%    6.903605e+05  1.500000e+01  1.000000e+00  1.000000e+00    0.000000e+00   \n",
       "50%    1.388503e+06  2.100000e+01  1.000000e+00  2.000000e+00    1.000000e+00   \n",
       "75%    2.095096e+06  2.800000e+01  2.000000e+00  3.000000e+00    2.000000e+00   \n",
       "max    2.805118e+06  8.000000e+01  2.000000e+00  7.000000e+00    3.000000e+00   \n",
       "\n",
       "           haveBaby      hometown     residence  \n",
       "count  2.510847e+06  2.510847e+06  2.510847e+06  \n",
       "mean   3.033893e-01  7.372152e+02  9.797279e+02  \n",
       "std    8.098684e-01  7.746096e+02  7.855014e+02  \n",
       "min    0.000000e+00  0.000000e+00  0.000000e+00  \n",
       "25%    0.000000e+00  0.000000e+00  3.050000e+02  \n",
       "50%    0.000000e+00  5.030000e+02  8.030000e+02  \n",
       "75%    0.000000e+00  1.301000e+03  1.513000e+03  \n",
       "max    6.000000e+00  3.401000e+03  3.401000e+03  "
      ]
     },
     "execution_count": 23,
     "metadata": {},
     "output_type": "execute_result"
    }
   ],
   "source": [
    "user[user.age!=0].describe()"
   ]
  },
  {
   "cell_type": "code",
   "execution_count": 24,
   "metadata": {
    "ExecuteTime": {
     "end_time": "2020-06-15T13:44:02.249249Z",
     "start_time": "2020-06-15T13:44:01.834231Z"
    }
   },
   "outputs": [
    {
     "data": {
      "text/plain": [
       "0     294271\n",
       "15    150175\n",
       "16    120322\n",
       "17    115704\n",
       "19    115692\n",
       "       ...  \n",
       "76        85\n",
       "75        81\n",
       "72        77\n",
       "77        72\n",
       "79        55\n",
       "Name: age, Length: 81, dtype: int64"
      ]
     },
     "execution_count": 24,
     "metadata": {},
     "output_type": "execute_result"
    }
   ],
   "source": [
    "import matplotlib.pyplot as plt\n",
    "user.age.value_counts()"
   ]
  },
  {
   "cell_type": "code",
   "execution_count": 27,
   "metadata": {
    "ExecuteTime": {
     "end_time": "2020-06-15T13:44:36.174041Z",
     "start_time": "2020-06-15T13:44:24.783217Z"
    }
   },
   "outputs": [
    {
     "name": "stdout",
     "output_type": "stream",
     "text": [
      "============================读取数据======================== E:/E_datas/tencentCvrConvertPrediton_7_8/user.csv\n",
      "======================我是萌萌哒分界线========================\n",
      "   userID  age  gender  education  marriageStatus  haveBaby  hometown  \\\n",
      "0       1   42       1          0               2         0       512   \n",
      "1       2   18       1          5               1         0      1403   \n",
      "2       3    0       2          4               0         0         0   \n",
      "3       4   21       2          5               3         0       607   \n",
      "4       5   22       2          0               0         0         0   \n",
      "\n",
      "   residence  \n",
      "0        503  \n",
      "1       1403  \n",
      "2          0  \n",
      "3        607  \n",
      "4       1301  \n",
      "E:/E_datas/tencentCvrConvertPrediton_7_8/user.csv 包含以下列....\n",
      "['userID' 'age' 'gender' 'education' 'marriageStatus' 'haveBaby'\n",
      " 'hometown' 'residence']\n",
      "             userID           age        gender     education  marriageStatus  \\\n",
      "count  2.805118e+06  2.805118e+06  2.805118e+06  2.805118e+06    2.805118e+06   \n",
      "mean   1.402560e+06  2.038662e+01  1.294072e+00  1.889235e+00    9.870540e-01   \n",
      "std    8.097680e+05  1.151120e+01  6.409864e-01  1.607085e+00    9.621890e-01   \n",
      "min    1.000000e+00  0.000000e+00  0.000000e+00  0.000000e+00    0.000000e+00   \n",
      "25%    7.012802e+05  1.400000e+01  1.000000e+00  1.000000e+00    0.000000e+00   \n",
      "50%    1.402560e+06  2.000000e+01  1.000000e+00  2.000000e+00    1.000000e+00   \n",
      "75%    2.103839e+06  2.700000e+01  2.000000e+00  3.000000e+00    2.000000e+00   \n",
      "max    2.805118e+06  8.000000e+01  2.000000e+00  7.000000e+00    3.000000e+00   \n",
      "\n",
      "           haveBaby      hometown     residence  \n",
      "count  2.805118e+06  2.805118e+06  2.805118e+06  \n",
      "mean   2.848418e-01  6.750372e+02  9.571084e+02  \n",
      "std    7.800834e-01  7.691699e+02  7.897154e+02  \n",
      "min    0.000000e+00  0.000000e+00  0.000000e+00  \n",
      "25%    0.000000e+00  0.000000e+00  3.020000e+02  \n",
      "50%    0.000000e+00  4.030000e+02  7.170000e+02  \n",
      "75%    0.000000e+00  1.201000e+03  1.507000e+03  \n",
      "max    6.000000e+00  3.401000e+03  3.401000e+03  \n",
      "<class 'pandas.core.frame.DataFrame'>\n",
      "RangeIndex: 2805118 entries, 0 to 2805117\n",
      "Data columns (total 8 columns):\n",
      " #   Column          Dtype\n",
      "---  ------          -----\n",
      " 0   userID          int64\n",
      " 1   age             int64\n",
      " 2   gender          int64\n",
      " 3   education       int64\n",
      " 4   marriageStatus  int64\n",
      " 5   haveBaby        int64\n",
      " 6   hometown        int64\n",
      " 7   residence       int64\n",
      "dtypes: int64(8)\n",
      "memory usage: 171.2 MB\n",
      "None\n"
     ]
    }
   ],
   "source": [
    "#user\n",
    "user = read_csv_file(data_root+'/user.csv',logging=True)\n",
    "user['age_process'] = user['age'].apply(age_process)\n",
    "user[\"hometown_province\"] = user['hometown'].apply(process_province)\n",
    "user[\"hometown_city\"] = user['hometown'].apply(process_city)\n",
    "user[\"residence_province\"] = user['residence'].apply(process_province)\n",
    "user[\"residence_city\"] = user['residence'].apply(process_city)"
   ]
  },
  {
   "cell_type": "code",
   "execution_count": 28,
   "metadata": {
    "ExecuteTime": {
     "end_time": "2020-06-15T13:44:36.591928Z",
     "start_time": "2020-06-15T13:44:36.176039Z"
    }
   },
   "outputs": [
    {
     "name": "stdout",
     "output_type": "stream",
     "text": [
      "<class 'pandas.core.frame.DataFrame'>\n",
      "RangeIndex: 2805118 entries, 0 to 2805117\n",
      "Data columns (total 13 columns):\n",
      " #   Column              Dtype\n",
      "---  ------              -----\n",
      " 0   userID              int64\n",
      " 1   age                 int64\n",
      " 2   gender              int64\n",
      " 3   education           int64\n",
      " 4   marriageStatus      int64\n",
      " 5   haveBaby            int64\n",
      " 6   hometown            int64\n",
      " 7   residence           int64\n",
      " 8   age_process         int64\n",
      " 9   hometown_province   int64\n",
      " 10  hometown_city       int64\n",
      " 11  residence_province  int64\n",
      " 12  residence_city      int64\n",
      "dtypes: int64(13)\n",
      "memory usage: 278.2 MB\n"
     ]
    }
   ],
   "source": [
    "user.info()"
   ]
  },
  {
   "cell_type": "code",
   "execution_count": 29,
   "metadata": {
    "ExecuteTime": {
     "end_time": "2020-06-15T13:44:49.559496Z",
     "start_time": "2020-06-15T13:44:49.548524Z"
    }
   },
   "outputs": [
    {
     "data": {
      "text/html": [
       "<div>\n",
       "<style scoped>\n",
       "    .dataframe tbody tr th:only-of-type {\n",
       "        vertical-align: middle;\n",
       "    }\n",
       "\n",
       "    .dataframe tbody tr th {\n",
       "        vertical-align: top;\n",
       "    }\n",
       "\n",
       "    .dataframe thead th {\n",
       "        text-align: right;\n",
       "    }\n",
       "</style>\n",
       "<table border=\"1\" class=\"dataframe\">\n",
       "  <thead>\n",
       "    <tr style=\"text-align: right;\">\n",
       "      <th></th>\n",
       "      <th>userID</th>\n",
       "      <th>age</th>\n",
       "      <th>gender</th>\n",
       "      <th>education</th>\n",
       "      <th>marriageStatus</th>\n",
       "      <th>haveBaby</th>\n",
       "      <th>hometown</th>\n",
       "      <th>residence</th>\n",
       "      <th>age_process</th>\n",
       "      <th>hometown_province</th>\n",
       "      <th>hometown_city</th>\n",
       "      <th>residence_province</th>\n",
       "      <th>residence_city</th>\n",
       "    </tr>\n",
       "  </thead>\n",
       "  <tbody>\n",
       "    <tr>\n",
       "      <th>0</th>\n",
       "      <td>1</td>\n",
       "      <td>42</td>\n",
       "      <td>1</td>\n",
       "      <td>0</td>\n",
       "      <td>2</td>\n",
       "      <td>0</td>\n",
       "      <td>512</td>\n",
       "      <td>503</td>\n",
       "      <td>4</td>\n",
       "      <td>51</td>\n",
       "      <td>2</td>\n",
       "      <td>50</td>\n",
       "      <td>3</td>\n",
       "    </tr>\n",
       "    <tr>\n",
       "      <th>1</th>\n",
       "      <td>2</td>\n",
       "      <td>18</td>\n",
       "      <td>1</td>\n",
       "      <td>5</td>\n",
       "      <td>1</td>\n",
       "      <td>0</td>\n",
       "      <td>1403</td>\n",
       "      <td>1403</td>\n",
       "      <td>2</td>\n",
       "      <td>14</td>\n",
       "      <td>3</td>\n",
       "      <td>14</td>\n",
       "      <td>3</td>\n",
       "    </tr>\n",
       "    <tr>\n",
       "      <th>2</th>\n",
       "      <td>3</td>\n",
       "      <td>0</td>\n",
       "      <td>2</td>\n",
       "      <td>4</td>\n",
       "      <td>0</td>\n",
       "      <td>0</td>\n",
       "      <td>0</td>\n",
       "      <td>0</td>\n",
       "      <td>0</td>\n",
       "      <td>0</td>\n",
       "      <td>0</td>\n",
       "      <td>0</td>\n",
       "      <td>0</td>\n",
       "    </tr>\n",
       "    <tr>\n",
       "      <th>3</th>\n",
       "      <td>4</td>\n",
       "      <td>21</td>\n",
       "      <td>2</td>\n",
       "      <td>5</td>\n",
       "      <td>3</td>\n",
       "      <td>0</td>\n",
       "      <td>607</td>\n",
       "      <td>607</td>\n",
       "      <td>2</td>\n",
       "      <td>60</td>\n",
       "      <td>7</td>\n",
       "      <td>60</td>\n",
       "      <td>7</td>\n",
       "    </tr>\n",
       "    <tr>\n",
       "      <th>4</th>\n",
       "      <td>5</td>\n",
       "      <td>22</td>\n",
       "      <td>2</td>\n",
       "      <td>0</td>\n",
       "      <td>0</td>\n",
       "      <td>0</td>\n",
       "      <td>0</td>\n",
       "      <td>1301</td>\n",
       "      <td>2</td>\n",
       "      <td>0</td>\n",
       "      <td>0</td>\n",
       "      <td>13</td>\n",
       "      <td>1</td>\n",
       "    </tr>\n",
       "  </tbody>\n",
       "</table>\n",
       "</div>"
      ],
      "text/plain": [
       "   userID  age  gender  education  marriageStatus  haveBaby  hometown  \\\n",
       "0       1   42       1          0               2         0       512   \n",
       "1       2   18       1          5               1         0      1403   \n",
       "2       3    0       2          4               0         0         0   \n",
       "3       4   21       2          5               3         0       607   \n",
       "4       5   22       2          0               0         0         0   \n",
       "\n",
       "   residence  age_process  hometown_province  hometown_city  \\\n",
       "0        503            4                 51              2   \n",
       "1       1403            2                 14              3   \n",
       "2          0            0                  0              0   \n",
       "3        607            2                 60              7   \n",
       "4       1301            2                  0              0   \n",
       "\n",
       "   residence_province  residence_city  \n",
       "0                  50               3  \n",
       "1                  14               3  \n",
       "2                   0               0  \n",
       "3                  60               7  \n",
       "4                  13               1  "
      ]
     },
     "execution_count": 29,
     "metadata": {},
     "output_type": "execute_result"
    }
   ],
   "source": [
    "user.head()"
   ]
  },
  {
   "cell_type": "code",
   "execution_count": 30,
   "metadata": {
    "ExecuteTime": {
     "end_time": "2020-06-15T13:44:54.878181Z",
     "start_time": "2020-06-15T13:44:54.868205Z"
    }
   },
   "outputs": [
    {
     "data": {
      "text/html": [
       "<div>\n",
       "<style scoped>\n",
       "    .dataframe tbody tr th:only-of-type {\n",
       "        vertical-align: middle;\n",
       "    }\n",
       "\n",
       "    .dataframe tbody tr th {\n",
       "        vertical-align: top;\n",
       "    }\n",
       "\n",
       "    .dataframe thead th {\n",
       "        text-align: right;\n",
       "    }\n",
       "</style>\n",
       "<table border=\"1\" class=\"dataframe\">\n",
       "  <thead>\n",
       "    <tr style=\"text-align: right;\">\n",
       "      <th></th>\n",
       "      <th>label</th>\n",
       "      <th>clickTime</th>\n",
       "      <th>conversionTime</th>\n",
       "      <th>creativeID</th>\n",
       "      <th>userID</th>\n",
       "      <th>positionID</th>\n",
       "      <th>connectionType</th>\n",
       "      <th>telecomsOperator</th>\n",
       "    </tr>\n",
       "  </thead>\n",
       "  <tbody>\n",
       "    <tr>\n",
       "      <th>0</th>\n",
       "      <td>0</td>\n",
       "      <td>170000</td>\n",
       "      <td>NaN</td>\n",
       "      <td>3089</td>\n",
       "      <td>2798058</td>\n",
       "      <td>293</td>\n",
       "      <td>1</td>\n",
       "      <td>1</td>\n",
       "    </tr>\n",
       "    <tr>\n",
       "      <th>1</th>\n",
       "      <td>0</td>\n",
       "      <td>170000</td>\n",
       "      <td>NaN</td>\n",
       "      <td>1259</td>\n",
       "      <td>463234</td>\n",
       "      <td>6161</td>\n",
       "      <td>1</td>\n",
       "      <td>2</td>\n",
       "    </tr>\n",
       "    <tr>\n",
       "      <th>2</th>\n",
       "      <td>0</td>\n",
       "      <td>170000</td>\n",
       "      <td>NaN</td>\n",
       "      <td>4465</td>\n",
       "      <td>1857485</td>\n",
       "      <td>7434</td>\n",
       "      <td>4</td>\n",
       "      <td>1</td>\n",
       "    </tr>\n",
       "    <tr>\n",
       "      <th>3</th>\n",
       "      <td>0</td>\n",
       "      <td>170000</td>\n",
       "      <td>NaN</td>\n",
       "      <td>1004</td>\n",
       "      <td>2038823</td>\n",
       "      <td>977</td>\n",
       "      <td>1</td>\n",
       "      <td>1</td>\n",
       "    </tr>\n",
       "    <tr>\n",
       "      <th>4</th>\n",
       "      <td>0</td>\n",
       "      <td>170000</td>\n",
       "      <td>NaN</td>\n",
       "      <td>1887</td>\n",
       "      <td>2015141</td>\n",
       "      <td>3688</td>\n",
       "      <td>1</td>\n",
       "      <td>1</td>\n",
       "    </tr>\n",
       "  </tbody>\n",
       "</table>\n",
       "</div>"
      ],
      "text/plain": [
       "   label  clickTime  conversionTime  creativeID   userID  positionID  \\\n",
       "0      0     170000             NaN        3089  2798058         293   \n",
       "1      0     170000             NaN        1259   463234        6161   \n",
       "2      0     170000             NaN        4465  1857485        7434   \n",
       "3      0     170000             NaN        1004  2038823         977   \n",
       "4      0     170000             NaN        1887  2015141        3688   \n",
       "\n",
       "   connectionType  telecomsOperator  \n",
       "0               1                 1  \n",
       "1               1                 2  \n",
       "2               4                 1  \n",
       "3               1                 1  \n",
       "4               1                 1  "
      ]
     },
     "execution_count": 30,
     "metadata": {},
     "output_type": "execute_result"
    }
   ],
   "source": [
    "train_data.head()"
   ]
  },
  {
   "cell_type": "code",
   "execution_count": 31,
   "metadata": {
    "ExecuteTime": {
     "end_time": "2020-06-15T13:45:07.684156Z",
     "start_time": "2020-06-15T13:45:02.056227Z"
    }
   },
   "outputs": [],
   "source": [
    "train_data['clickTime_day'] = train_data['clickTime'].apply(get_time_day)\n",
    "train_data['clickTime_hour']= train_data['clickTime'].apply(get_time_hour)"
   ]
  },
  {
   "cell_type": "markdown",
   "metadata": {},
   "source": [
    "### 合并数据"
   ]
  },
  {
   "cell_type": "code",
   "execution_count": 33,
   "metadata": {
    "ExecuteTime": {
     "end_time": "2020-06-15T13:45:50.589322Z",
     "start_time": "2020-06-15T13:45:36.589662Z"
    }
   },
   "outputs": [
    {
     "name": "stdout",
     "output_type": "stream",
     "text": [
      "============================读取数据======================== E:/E_datas/tencentCvrConvertPrediton_7_8/test.csv\n",
      "======================我是萌萌哒分界线========================\n",
      "   instanceID  label  clickTime  creativeID   userID  positionID  \\\n",
      "0           1     -1     310000        3745  1164848        3451   \n",
      "1           2     -1     310000        2284  2127247        1613   \n",
      "2           3     -1     310000        1456  2769125        5510   \n",
      "3           4     -1     310000        4565     9762        4113   \n",
      "4           5     -1     310000          49  2513636        3615   \n",
      "\n",
      "   connectionType  telecomsOperator  \n",
      "0               1                 3  \n",
      "1               1                 3  \n",
      "2               2                 1  \n",
      "3               2                 3  \n",
      "4               1                 3  \n",
      "E:/E_datas/tencentCvrConvertPrediton_7_8/test.csv 包含以下列....\n",
      "['instanceID' 'label' 'clickTime' 'creativeID' 'userID' 'positionID'\n",
      " 'connectionType' 'telecomsOperator']\n",
      "          instanceID     label      clickTime     creativeID        userID  \\\n",
      "count  338489.000000  338489.0  338489.000000  338489.000000  3.384890e+05   \n",
      "mean   169245.000000      -1.0  311479.490613    3001.534765  1.409519e+06   \n",
      "std     97713.501971       0.0     580.393521    1869.336873  8.073083e+05   \n",
      "min         1.000000      -1.0  310000.000000       4.000000  3.000000e+00   \n",
      "25%     84623.000000      -1.0  311053.000000    1248.000000  7.149930e+05   \n",
      "50%    169245.000000      -1.0  311536.000000    3012.000000  1.411134e+06   \n",
      "75%    253867.000000      -1.0  311951.000000    4565.000000  2.108981e+06   \n",
      "max    338489.000000      -1.0  312359.000000    6580.000000  2.805117e+06   \n",
      "\n",
      "          positionID  connectionType  telecomsOperator  \n",
      "count  338489.000000   338489.000000     338489.000000  \n",
      "mean     3640.126394        1.139015          1.629028  \n",
      "std      1902.559504        0.511882          0.854993  \n",
      "min         2.000000        0.000000          0.000000  \n",
      "25%      2436.000000        1.000000          1.000000  \n",
      "50%      3322.000000        1.000000          1.000000  \n",
      "75%      4881.000000        1.000000          2.000000  \n",
      "max      7645.000000        4.000000          3.000000  \n",
      "<class 'pandas.core.frame.DataFrame'>\n",
      "RangeIndex: 338489 entries, 0 to 338488\n",
      "Data columns (total 8 columns):\n",
      " #   Column            Non-Null Count   Dtype\n",
      "---  ------            --------------   -----\n",
      " 0   instanceID        338489 non-null  int64\n",
      " 1   label             338489 non-null  int64\n",
      " 2   clickTime         338489 non-null  int64\n",
      " 3   creativeID        338489 non-null  int64\n",
      " 4   userID            338489 non-null  int64\n",
      " 5   positionID        338489 non-null  int64\n",
      " 6   connectionType    338489 non-null  int64\n",
      " 7   telecomsOperator  338489 non-null  int64\n",
      "dtypes: int64(8)\n",
      "memory usage: 20.7 MB\n",
      "None\n"
     ]
    }
   ],
   "source": [
    "#train data\n",
    "train_data['clickTime_day'] = train_data['clickTime'].apply(get_time_day)\n",
    "train_data['clickTime_hour']= train_data['clickTime'].apply(get_time_hour)\n",
    "# train_data['conversionTime_day'] = train_data['conversionTime'].apply(get_time_day)\n",
    "# train_data['conversionTime_hour'] = train_data['conversionTime'].apply(get_time_hour)\n",
    "\n",
    "\n",
    "#test_data\n",
    "test_data = read_csv_file(data_root+'/test.csv', True)\n",
    "test_data['clickTime_day'] = test_data['clickTime'].apply(get_time_day)\n",
    "test_data['clickTime_hour']= test_data['clickTime'].apply(get_time_hour)\n",
    "# test_data['conversionTime_day'] = test_data['conversionTime'].apply(get_time_day)\n",
    "# test_data['conversionTime_hour'] = test_data['conversionTime'].apply(get_time_hour)\n",
    "\n",
    "\n",
    "train_user = pd.merge(train_data,user,on='userID')\n",
    "train_user_ad = pd.merge(train_user,ad,on='creativeID')\n",
    "train_user_ad_app = pd.merge(train_user_ad,app_categories,on='appID')"
   ]
  },
  {
   "cell_type": "code",
   "execution_count": 34,
   "metadata": {
    "ExecuteTime": {
     "end_time": "2020-06-15T13:45:50.623232Z",
     "start_time": "2020-06-15T13:45:50.591317Z"
    }
   },
   "outputs": [
    {
     "data": {
      "text/html": [
       "<div>\n",
       "<style scoped>\n",
       "    .dataframe tbody tr th:only-of-type {\n",
       "        vertical-align: middle;\n",
       "    }\n",
       "\n",
       "    .dataframe tbody tr th {\n",
       "        vertical-align: top;\n",
       "    }\n",
       "\n",
       "    .dataframe thead th {\n",
       "        text-align: right;\n",
       "    }\n",
       "</style>\n",
       "<table border=\"1\" class=\"dataframe\">\n",
       "  <thead>\n",
       "    <tr style=\"text-align: right;\">\n",
       "      <th></th>\n",
       "      <th>label</th>\n",
       "      <th>clickTime</th>\n",
       "      <th>conversionTime</th>\n",
       "      <th>creativeID</th>\n",
       "      <th>userID</th>\n",
       "      <th>positionID</th>\n",
       "      <th>connectionType</th>\n",
       "      <th>telecomsOperator</th>\n",
       "      <th>clickTime_day</th>\n",
       "      <th>clickTime_hour</th>\n",
       "      <th>...</th>\n",
       "      <th>residence_province</th>\n",
       "      <th>residence_city</th>\n",
       "      <th>adID</th>\n",
       "      <th>camgaignID</th>\n",
       "      <th>advertiserID</th>\n",
       "      <th>appID</th>\n",
       "      <th>appPlatform</th>\n",
       "      <th>appCategory</th>\n",
       "      <th>app_categories_first_class</th>\n",
       "      <th>app_categories_second_class</th>\n",
       "    </tr>\n",
       "  </thead>\n",
       "  <tbody>\n",
       "    <tr>\n",
       "      <th>0</th>\n",
       "      <td>0</td>\n",
       "      <td>170000</td>\n",
       "      <td>NaN</td>\n",
       "      <td>3089</td>\n",
       "      <td>2798058</td>\n",
       "      <td>293</td>\n",
       "      <td>1</td>\n",
       "      <td>1</td>\n",
       "      <td>17</td>\n",
       "      <td>0</td>\n",
       "      <td>...</td>\n",
       "      <td>13</td>\n",
       "      <td>1</td>\n",
       "      <td>1321</td>\n",
       "      <td>83</td>\n",
       "      <td>10</td>\n",
       "      <td>434</td>\n",
       "      <td>1</td>\n",
       "      <td>108</td>\n",
       "      <td>1.0</td>\n",
       "      <td>8</td>\n",
       "    </tr>\n",
       "    <tr>\n",
       "      <th>1</th>\n",
       "      <td>0</td>\n",
       "      <td>170001</td>\n",
       "      <td>NaN</td>\n",
       "      <td>3089</td>\n",
       "      <td>195578</td>\n",
       "      <td>3659</td>\n",
       "      <td>0</td>\n",
       "      <td>2</td>\n",
       "      <td>17</td>\n",
       "      <td>0</td>\n",
       "      <td>...</td>\n",
       "      <td>13</td>\n",
       "      <td>1</td>\n",
       "      <td>1321</td>\n",
       "      <td>83</td>\n",
       "      <td>10</td>\n",
       "      <td>434</td>\n",
       "      <td>1</td>\n",
       "      <td>108</td>\n",
       "      <td>1.0</td>\n",
       "      <td>8</td>\n",
       "    </tr>\n",
       "    <tr>\n",
       "      <th>2</th>\n",
       "      <td>0</td>\n",
       "      <td>170014</td>\n",
       "      <td>NaN</td>\n",
       "      <td>3089</td>\n",
       "      <td>1462213</td>\n",
       "      <td>3659</td>\n",
       "      <td>0</td>\n",
       "      <td>3</td>\n",
       "      <td>17</td>\n",
       "      <td>0</td>\n",
       "      <td>...</td>\n",
       "      <td>13</td>\n",
       "      <td>1</td>\n",
       "      <td>1321</td>\n",
       "      <td>83</td>\n",
       "      <td>10</td>\n",
       "      <td>434</td>\n",
       "      <td>1</td>\n",
       "      <td>108</td>\n",
       "      <td>1.0</td>\n",
       "      <td>8</td>\n",
       "    </tr>\n",
       "    <tr>\n",
       "      <th>3</th>\n",
       "      <td>0</td>\n",
       "      <td>170030</td>\n",
       "      <td>NaN</td>\n",
       "      <td>3089</td>\n",
       "      <td>1985880</td>\n",
       "      <td>5581</td>\n",
       "      <td>1</td>\n",
       "      <td>1</td>\n",
       "      <td>17</td>\n",
       "      <td>0</td>\n",
       "      <td>...</td>\n",
       "      <td>0</td>\n",
       "      <td>0</td>\n",
       "      <td>1321</td>\n",
       "      <td>83</td>\n",
       "      <td>10</td>\n",
       "      <td>434</td>\n",
       "      <td>1</td>\n",
       "      <td>108</td>\n",
       "      <td>1.0</td>\n",
       "      <td>8</td>\n",
       "    </tr>\n",
       "    <tr>\n",
       "      <th>4</th>\n",
       "      <td>0</td>\n",
       "      <td>170047</td>\n",
       "      <td>NaN</td>\n",
       "      <td>3089</td>\n",
       "      <td>2152167</td>\n",
       "      <td>5581</td>\n",
       "      <td>1</td>\n",
       "      <td>1</td>\n",
       "      <td>17</td>\n",
       "      <td>0</td>\n",
       "      <td>...</td>\n",
       "      <td>13</td>\n",
       "      <td>3</td>\n",
       "      <td>1321</td>\n",
       "      <td>83</td>\n",
       "      <td>10</td>\n",
       "      <td>434</td>\n",
       "      <td>1</td>\n",
       "      <td>108</td>\n",
       "      <td>1.0</td>\n",
       "      <td>8</td>\n",
       "    </tr>\n",
       "  </tbody>\n",
       "</table>\n",
       "<p>5 rows × 30 columns</p>\n",
       "</div>"
      ],
      "text/plain": [
       "   label  clickTime  conversionTime  creativeID   userID  positionID  \\\n",
       "0      0     170000             NaN        3089  2798058         293   \n",
       "1      0     170001             NaN        3089   195578        3659   \n",
       "2      0     170014             NaN        3089  1462213        3659   \n",
       "3      0     170030             NaN        3089  1985880        5581   \n",
       "4      0     170047             NaN        3089  2152167        5581   \n",
       "\n",
       "   connectionType  telecomsOperator  clickTime_day  clickTime_hour  ...  \\\n",
       "0               1                 1             17               0  ...   \n",
       "1               0                 2             17               0  ...   \n",
       "2               0                 3             17               0  ...   \n",
       "3               1                 1             17               0  ...   \n",
       "4               1                 1             17               0  ...   \n",
       "\n",
       "   residence_province  residence_city  adID  camgaignID  advertiserID  appID  \\\n",
       "0                  13               1  1321          83            10    434   \n",
       "1                  13               1  1321          83            10    434   \n",
       "2                  13               1  1321          83            10    434   \n",
       "3                   0               0  1321          83            10    434   \n",
       "4                  13               3  1321          83            10    434   \n",
       "\n",
       "   appPlatform  appCategory  app_categories_first_class  \\\n",
       "0            1          108                         1.0   \n",
       "1            1          108                         1.0   \n",
       "2            1          108                         1.0   \n",
       "3            1          108                         1.0   \n",
       "4            1          108                         1.0   \n",
       "\n",
       "   app_categories_second_class  \n",
       "0                            8  \n",
       "1                            8  \n",
       "2                            8  \n",
       "3                            8  \n",
       "4                            8  \n",
       "\n",
       "[5 rows x 30 columns]"
      ]
     },
     "execution_count": 34,
     "metadata": {},
     "output_type": "execute_result"
    }
   ],
   "source": [
    "train_user_ad_app.head()"
   ]
  },
  {
   "cell_type": "code",
   "execution_count": 35,
   "metadata": {
    "ExecuteTime": {
     "end_time": "2020-06-15T13:45:53.903866Z",
     "start_time": "2020-06-15T13:45:53.895888Z"
    }
   },
   "outputs": [
    {
     "data": {
      "text/plain": [
       "Index(['label', 'clickTime', 'conversionTime', 'creativeID', 'userID',\n",
       "       'positionID', 'connectionType', 'telecomsOperator', 'clickTime_day',\n",
       "       'clickTime_hour', 'age', 'gender', 'education', 'marriageStatus',\n",
       "       'haveBaby', 'hometown', 'residence', 'age_process', 'hometown_province',\n",
       "       'hometown_city', 'residence_province', 'residence_city', 'adID',\n",
       "       'camgaignID', 'advertiserID', 'appID', 'appPlatform', 'appCategory',\n",
       "       'app_categories_first_class', 'app_categories_second_class'],\n",
       "      dtype='object')"
      ]
     },
     "execution_count": 35,
     "metadata": {},
     "output_type": "execute_result"
    }
   ],
   "source": [
    "train_user_ad_app.columns"
   ]
  },
  {
   "cell_type": "markdown",
   "metadata": {},
   "source": [
    "### 取出数据和label"
   ]
  },
  {
   "cell_type": "code",
   "execution_count": 36,
   "metadata": {
    "ExecuteTime": {
     "end_time": "2020-06-15T13:46:00.971190Z",
     "start_time": "2020-06-15T13:45:58.687271Z"
    }
   },
   "outputs": [],
   "source": [
    "#特征部分\n",
    "x_user_ad_app = train_user_ad_app.loc[:,['creativeID','userID','positionID',\n",
    " 'connectionType','telecomsOperator','clickTime_day','clickTime_hour','age', 'gender' ,'education',\n",
    " 'marriageStatus' ,'haveBaby' , 'residence' ,'age_process',\n",
    " 'hometown_province', 'hometown_city','residence_province', 'residence_city',\n",
    " 'adID', 'camgaignID', 'advertiserID', 'appID' ,'appPlatform' ,\n",
    " 'app_categories_first_class' ,'app_categories_second_class']]\n",
    "\n",
    "x_user_ad_app = x_user_ad_app.values\n",
    "x_user_ad_app = np.array(x_user_ad_app,dtype='int32')\n",
    "\n",
    "#标签部分\n",
    "y_user_ad_app =train_user_ad_app.loc[:,['label']].values"
   ]
  },
  {
   "cell_type": "markdown",
   "metadata": {},
   "source": [
    "### 随机森林建模&&特征重要度排序"
   ]
  },
  {
   "cell_type": "code",
   "execution_count": 37,
   "metadata": {
    "ExecuteTime": {
     "end_time": "2020-06-15T13:52:57.595544Z",
     "start_time": "2020-06-15T13:46:07.274587Z"
    }
   },
   "outputs": [],
   "source": [
    "# %matplotlib inline\n",
    "# import matplotlib.pyplot as plt\n",
    "# print('Plot feature importances...')\n",
    "# ax = lgb.plot_importance(gbm, max_num_features=10)\n",
    "# plt.show()\n",
    "# 用RF 计算特征重要度\n",
    "\n",
    "from sklearn.ensemble import RandomForestClassifier\n",
    "from sklearn.model_selection import cross_val_score, train_test_split\n",
    "\n",
    "feat_labels = np.array(['creativeID','userID','positionID',\n",
    " 'connectionType','telecomsOperator','clickTime_day','clickTime_hour','age', 'gender' ,'education',\n",
    " 'marriageStatus' ,'haveBaby' , 'residence' ,'age_process',\n",
    " 'hometown_province', 'hometown_city','residence_province', 'residence_city',\n",
    " 'adID', 'camgaignID', 'advertiserID', 'appID' ,'appPlatform' ,\n",
    " 'app_categories_first_class' ,'app_categories_second_class'])\n",
    "\n",
    "forest = RandomForestClassifier(n_estimators=100,\n",
    "                                random_state=0,\n",
    "                                n_jobs=-1)\n",
    "\n",
    "forest.fit(x_user_ad_app, y_user_ad_app.reshape(y_user_ad_app.shape[0],))\n",
    "importances = forest.feature_importances_ \n",
    "\n",
    "indices = np.argsort(importances)[::-1]    "
   ]
  },
  {
   "cell_type": "code",
   "execution_count": 38,
   "metadata": {
    "ExecuteTime": {
     "end_time": "2020-06-15T13:53:55.135439Z",
     "start_time": "2020-06-15T13:53:55.130418Z"
    }
   },
   "outputs": [
    {
     "data": {
      "text/plain": [
       "(3749528, 30)"
      ]
     },
     "execution_count": 38,
     "metadata": {},
     "output_type": "execute_result"
    }
   ],
   "source": [
    "train_user_ad_app.shape"
   ]
  },
  {
   "cell_type": "code",
   "execution_count": 39,
   "metadata": {
    "ExecuteTime": {
     "end_time": "2020-06-15T13:53:58.071775Z",
     "start_time": "2020-06-15T13:53:58.065789Z"
    }
   },
   "outputs": [
    {
     "data": {
      "text/plain": [
       "array([0.02791289, 0.16602297, 0.06583927, 0.00427082, 0.03330029,\n",
       "       0.0773544 , 0.03919645, 0.07549754, 0.01282422, 0.04891296,\n",
       "       0.03127753, 0.01864926, 0.09910738, 0.01570717, 0.05421798,\n",
       "       0.04832801, 0.06373888, 0.05784857, 0.01900962, 0.01561504,\n",
       "       0.00836031, 0.00592996, 0.00088301, 0.00322788, 0.00696759])"
      ]
     },
     "execution_count": 39,
     "metadata": {},
     "output_type": "execute_result"
    }
   ],
   "source": [
    "importances"
   ]
  },
  {
   "cell_type": "code",
   "execution_count": 41,
   "metadata": {
    "ExecuteTime": {
     "end_time": "2020-06-15T13:54:28.969991Z",
     "start_time": "2020-06-15T13:54:28.966003Z"
    }
   },
   "outputs": [],
   "source": [
    "# ['creativeID','userID','positionID',\n",
    "#  'connectionType','telecomsOperator','clickTime_day','clickTime_hour','age', 'gender' ,'education',\n",
    "#  'marriageStatus' ,'haveBaby' , 'residence' ,'age_process',\n",
    "#  'hometown_province', 'hometown_city','residence_province', 'residence_city',\n",
    "#  'adID', 'camgaignID', 'advertiserID', 'appID' ,'appPlatform' ,\n",
    "#  'app_categories_first_class' ,'app_categories_second_class']"
   ]
  },
  {
   "cell_type": "code",
   "execution_count": 42,
   "metadata": {
    "ExecuteTime": {
     "end_time": "2020-06-15T13:54:31.880650Z",
     "start_time": "2020-06-15T13:54:31.637261Z"
    }
   },
   "outputs": [
    {
     "name": "stdout",
     "output_type": "stream",
     "text": [
      " 1) userID                         0.166023\n",
      " 2) residence                      0.099107\n",
      " 3) clickTime_day                  0.077354\n",
      " 4) age                            0.075498\n",
      " 5) positionID                     0.065839\n",
      " 6) residence_province             0.063739\n",
      " 7) residence_city                 0.057849\n",
      " 8) hometown_province              0.054218\n",
      " 9) education                      0.048913\n",
      "10) hometown_city                  0.048328\n",
      "11) clickTime_hour                 0.039196\n",
      "12) telecomsOperator               0.033300\n",
      "13) marriageStatus                 0.031278\n",
      "14) creativeID                     0.027913\n",
      "15) adID                           0.019010\n",
      "16) haveBaby                       0.018649\n",
      "17) age_process                    0.015707\n",
      "18) camgaignID                     0.015615\n",
      "19) gender                         0.012824\n",
      "20) advertiserID                   0.008360\n",
      "21) app_categories_second_class    0.006968\n",
      "22) appID                          0.005930\n",
      "23) connectionType                 0.004271\n",
      "24) app_categories_first_class     0.003228\n",
      "25) appPlatform                    0.000883\n"
     ]
    },
    {
     "data": {
      "image/png": "[encoded data removed]",
      "text/plain": [
       "<Figure size 432x288 with 1 Axes>"
      ]
     },
     "metadata": {
      "needs_background": "light"
     },
     "output_type": "display_data"
    }
   ],
   "source": [
    "import matplotlib.pyplot as plt\n",
    "%matplotlib inline\n",
    "for f in range(x_user_ad_app.shape[1]):\n",
    "    print(\"%2d) %-*s %f\" % (f + 1, 30, \n",
    "                            feat_labels[indices[f]], \n",
    "                            importances[indices[f]]))\n",
    "\n",
    "plt.title('Feature Importances')\n",
    "plt.bar(range(x_user_ad_app.shape[1]), \n",
    "        importances[indices],\n",
    "        color='lightblue', \n",
    "        align='center')\n",
    "\n",
    "plt.xticks(range(x_user_ad_app.shape[1]), \n",
    "           feat_labels[indices], rotation=90)\n",
    "plt.xlim([-1, x_user_ad_app.shape[1]])\n",
    "plt.tight_layout()\n",
    "#plt.savefig('./random_forest.png', dpi=300)\n",
    "plt.show()"
   ]
  },
  {
   "cell_type": "markdown",
   "metadata": {},
   "source": [
    "### 随机森林调参"
   ]
  },
  {
   "cell_type": "code",
   "execution_count": null,
   "metadata": {
    "ExecuteTime": {
     "end_time": "2020-06-15T15:49:19.944166Z",
     "start_time": "2020-06-15T14:50:30.853Z"
    }
   },
   "outputs": [],
   "source": [
    "from sklearn.model_selection import GridSearchCV\n",
    "from sklearn.ensemble import RandomForestClassifier\n",
    "param_grid = {\n",
    "              #'n_estimators': [100],\n",
    "              'n_estimators': [10, 100, 500, 1000],\n",
    "              'max_features':[0.6, 0.7, 0.8, 0.9]\n",
    "             }\n",
    "\n",
    "rf = RandomForestClassifier()\n",
    "rfc = GridSearchCV(rf, param_grid, scoring = 'neg_log_loss', cv=3, n_jobs=-1)\n",
    "rfc.fit(x_user_ad_app, y_user_ad_app.reshape(y_user_ad_app.shape[0],-1))\n",
    "print(rfc.best_score_)\n",
    "print(rfc.best_params_)"
   ]
  },
  {
   "cell_type": "markdown",
   "metadata": {},
   "source": [
    "### Xgboost调参"
   ]
  },
  {
   "cell_type": "code",
   "execution_count": 38,
   "metadata": {
    "collapsed": true
   },
   "outputs": [],
   "source": [
    "import xgboost as xgb"
   ]
  },
  {
   "cell_type": "code",
   "execution_count": null,
   "metadata": {
    "collapsed": true
   },
   "outputs": [],
   "source": [
    "import os\n",
    "import numpy as np\n",
    "from sklearn.model_selection import GridSearchCV\n",
    "import xgboost as xgb\n",
    "os.environ[\"OMP_NUM_THREADS\"] = \"8\"  #并行训练\n",
    "rng = np.random.RandomState(4315)\n",
    "import warnings\n",
    "warnings.filterwarnings(\"ignore\")\n",
    "\n",
    "param_grid = {\n",
    "              'max_depth': [3, 4, 5, 7, 9],\n",
    "              'n_estimators': [10, 50, 100, 400, 800, 1000, 1200],\n",
    "              'learning_rate': [0.1, 0.2, 0.3],\n",
    "              'gamma':[0, 0.2],\n",
    "              'subsample': [0.8, 1],\n",
    "              'colsample_bylevel':[0.8, 1]\n",
    "             }\n",
    "\n",
    "xgb_model = xgb.XGBClassifier()\n",
    "rgs = GridSearchCV(xgb_model, param_grid, n_jobs=-1)\n",
    "rgs.fit(X, y)\n",
    "print(rgs.best_score_)\n",
    "print(rgs.best_params_)"
   ]
  },
  {
   "cell_type": "markdown",
   "metadata": {},
   "source": [
    "### 正负样本比"
   ]
  },
  {
   "cell_type": "code",
   "execution_count": 13,
   "metadata": {},
   "outputs": [
    {
     "data": {
      "text/plain": [
       "39.20424181338595"
      ]
     },
     "execution_count": 13,
     "metadata": {},
     "output_type": "execute_result"
    }
   ],
   "source": [
    "positive_num = train_user_ad_app[train_user_ad_app['label']==1].values.shape[0]\n",
    "negative_num = train_user_ad_app[train_user_ad_app['label']==0].values.shape[0]\n",
    "\n",
    "negative_num/float(positive_num)"
   ]
  },
  {
   "cell_type": "markdown",
   "metadata": {},
   "source": [
    "**我们可以看到正负样本数量相差非常大，数据严重unbalanced**"
   ]
  },
  {
   "cell_type": "markdown",
   "metadata": {},
   "source": [
    "我们用Bagging修正过后，处理不均衡样本的B(l)agging来进行训练和实验。"
   ]
  },
  {
   "cell_type": "code",
   "execution_count": 14,
   "metadata": {
    "collapsed": true
   },
   "outputs": [],
   "source": [
    "from blagging import BlaggingClassifier"
   ]
  },
  {
   "cell_type": "code",
   "execution_count": 15,
   "metadata": {},
   "outputs": [
    {
     "name": "stdout",
     "output_type": "stream",
     "text": [
      "Help on class BlaggingClassifier in module blagging:\n",
      "\n",
      "class BlaggingClassifier(BaseBagging, sklearn.base.ClassifierMixin)\n",
      " |  A Bagging classifier.\n",
      " |  \n",
      " |  A Bagging classifier is an ensemble meta-estimator that fits base\n",
      " |  classifiers each on random subsets of the original dataset and then\n",
      " |  aggregate their individual predictions (either by voting or by averaging)\n",
      " |  to form a final prediction. Such a meta-estimator can typically be used as\n",
      " |  a way to reduce the variance of a black-box estimator (e.g., a decision\n",
      " |  tree), by introducing randomization into its construction procedure and\n",
      " |  then making an ensemble out of it.\n",
      " |  \n",
      " |  This algorithm encompasses several works from the literature. When random\n",
      " |  subsets of the dataset are drawn as random subsets of the samples, then\n",
      " |  this algorithm is known as Pasting [1]_. If samples are drawn with\n",
      " |  replacement, then the method is known as Bagging [2]_. When random subsets\n",
      " |  of the dataset are drawn as random subsets of the features, then the method\n",
      " |  is known as Random Subspaces [3]_. Finally, when base estimators are built\n",
      " |  on subsets of both samples and features, then the method is known as\n",
      " |  Random Patches [4]_.\n",
      " |  \n",
      " |  Read more in the :ref:`User Guide <bagging>`.\n",
      " |  \n",
      " |  Parameters\n",
      " |  ----------\n",
      " |  base_estimator : object or None, optional (default=None)\n",
      " |      The base estimator to fit on random subsets of the dataset.\n",
      " |      If None, then the base estimator is a decision tree.\n",
      " |  \n",
      " |  n_estimators : int, optional (default=10)\n",
      " |      The number of base estimators in the ensemble.\n",
      " |  \n",
      " |  max_samples : int or float, optional (default=1.0)\n",
      " |      The number of samples to draw from X to train each base estimator.\n",
      " |          - If int, then draw `max_samples` samples.\n",
      " |          - If float, then draw `max_samples * X.shape[0]` samples.\n",
      " |  \n",
      " |  max_features : int or float, optional (default=1.0)\n",
      " |      The number of features to draw from X to train each base estimator.\n",
      " |          - If int, then draw `max_features` features.\n",
      " |          - If float, then draw `max_features * X.shape[1]` features.\n",
      " |  \n",
      " |  bootstrap : boolean, optional (default=True)\n",
      " |      Whether samples are drawn with replacement.\n",
      " |  \n",
      " |  bootstrap_features : boolean, optional (default=False)\n",
      " |      Whether features are drawn with replacement.\n",
      " |  \n",
      " |  oob_score : bool\n",
      " |      Whether to use out-of-bag samples to estimate\n",
      " |      the generalization error.\n",
      " |  \n",
      " |  warm_start : bool, optional (default=False)\n",
      " |      When set to True, reuse the solution of the previous call to fit\n",
      " |      and add more estimators to the ensemble, otherwise, just fit\n",
      " |      a whole new ensemble.\n",
      " |  \n",
      " |      .. versionadded:: 0.17\n",
      " |         *warm_start* constructor parameter.\n",
      " |  \n",
      " |  n_jobs : int, optional (default=1)\n",
      " |      The number of jobs to run in parallel for both `fit` and `predict`.\n",
      " |      If -1, then the number of jobs is set to the number of cores.\n",
      " |  \n",
      " |  random_state : int, RandomState instance or None, optional (default=None)\n",
      " |      If int, random_state is the seed used by the random number generator;\n",
      " |      If RandomState instance, random_state is the random number generator;\n",
      " |      If None, the random number generator is the RandomState instance used\n",
      " |      by `np.random`.\n",
      " |  \n",
      " |  verbose : int, optional (default=0)\n",
      " |      Controls the verbosity of the building process.\n",
      " |  \n",
      " |  Attributes\n",
      " |  ----------\n",
      " |  base_estimator_ : list of estimators\n",
      " |      The base estimator from which the ensemble is grown.\n",
      " |  \n",
      " |  estimators_ : list of estimators\n",
      " |      The collection of fitted base estimators.\n",
      " |  \n",
      " |  estimators_samples_ : list of arrays\n",
      " |      The subset of drawn samples (i.e., the in-bag samples) for each base\n",
      " |      estimator.\n",
      " |  \n",
      " |  estimators_features_ : list of arrays\n",
      " |      The subset of drawn features for each base estimator.\n",
      " |  \n",
      " |  classes_ : array of shape = [n_classes]\n",
      " |      The classes labels.\n",
      " |  \n",
      " |  n_classes_ : int or list\n",
      " |      The number of classes.\n",
      " |  \n",
      " |  oob_score_ : float\n",
      " |      Score of the training dataset obtained using an out-of-bag estimate.\n",
      " |  \n",
      " |  oob_decision_function_ : array of shape = [n_samples, n_classes]\n",
      " |      Decision function computed with out-of-bag estimate on the training\n",
      " |      set. If n_estimators is small it might be possible that a data point\n",
      " |      was never left out during the bootstrap. In this case,\n",
      " |      `oob_decision_function_` might contain NaN.\n",
      " |  \n",
      " |  References\n",
      " |  ----------\n",
      " |  \n",
      " |  .. [1] L. Breiman, \"Pasting small votes for classification in large\n",
      " |         databases and on-line\", Machine Learning, 36(1), 85-103, 1999.\n",
      " |  \n",
      " |  .. [2] L. Breiman, \"Bagging predictors\", Machine Learning, 24(2), 123-140,\n",
      " |         1996.\n",
      " |  \n",
      " |  .. [3] T. Ho, \"The random subspace method for constructing decision\n",
      " |         forests\", Pattern Analysis and Machine Intelligence, 20(8), 832-844,\n",
      " |         1998.\n",
      " |  \n",
      " |  .. [4] G. Louppe and P. Geurts, \"Ensembles on Random Patches\", Machine\n",
      " |         Learning and Knowledge Discovery in Databases, 346-361, 2012.\n",
      " |  \n",
      " |  Method resolution order:\n",
      " |      BlaggingClassifier\n",
      " |      BaseBagging\n",
      " |      abc.NewBase\n",
      " |      sklearn.ensemble.base.BaseEnsemble\n",
      " |      sklearn.base.BaseEstimator\n",
      " |      sklearn.base.MetaEstimatorMixin\n",
      " |      sklearn.base.ClassifierMixin\n",
      " |      __builtin__.object\n",
      " |  \n",
      " |  Methods defined here:\n",
      " |  \n",
      " |  __init__(self, base_estimator=None, n_estimators=10, max_samples=1.0, max_features=1.0, bootstrap=True, bootstrap_features=False, oob_score=False, warm_start=False, n_jobs=1, random_state=None, verbose=0)\n",
      " |  \n",
      " |  decision_function(*args, **kwargs)\n",
      " |      Average of the decision functions of the base classifiers.\n",
      " |      \n",
      " |      Parameters\n",
      " |      ----------\n",
      " |      X : {array-like, sparse matrix} of shape = [n_samples, n_features]\n",
      " |          The training input samples. Sparse matrices are accepted only if\n",
      " |          they are supported by the base estimator.\n",
      " |      \n",
      " |      Returns\n",
      " |      -------\n",
      " |      score : array, shape = [n_samples, k]\n",
      " |          The decision function of the input samples. The columns correspond\n",
      " |          to the classes in sorted order, as they appear in the attribute\n",
      " |          ``classes_``. Regression and binary classification are special\n",
      " |          cases with ``k == 1``, otherwise ``k==n_classes``.\n",
      " |  \n",
      " |  predict(self, X)\n",
      " |      Predict class for X.\n",
      " |      \n",
      " |      The predicted class of an input sample is computed as the class with\n",
      " |      the highest mean predicted probability. If base estimators do not\n",
      " |      implement a ``predict_proba`` method, then it resorts to voting.\n",
      " |      \n",
      " |      Parameters\n",
      " |      ----------\n",
      " |      X : {array-like, sparse matrix} of shape = [n_samples, n_features]\n",
      " |          The training input samples. Sparse matrices are accepted only if\n",
      " |          they are supported by the base estimator.\n",
      " |      \n",
      " |      Returns\n",
      " |      -------\n",
      " |      y : array of shape = [n_samples]\n",
      " |          The predicted classes.\n",
      " |  \n",
      " |  predict_log_proba(self, X)\n",
      " |      Predict class log-probabilities for X.\n",
      " |      \n",
      " |      The predicted class log-probabilities of an input sample is computed as\n",
      " |      the log of the mean predicted class probabilities of the base\n",
      " |      estimators in the ensemble.\n",
      " |      \n",
      " |      Parameters\n",
      " |      ----------\n",
      " |      X : {array-like, sparse matrix} of shape = [n_samples, n_features]\n",
      " |          The training input samples. Sparse matrices are accepted only if\n",
      " |          they are supported by the base estimator.\n",
      " |      \n",
      " |      Returns\n",
      " |      -------\n",
      " |      p : array of shape = [n_samples, n_classes]\n",
      " |          The class log-probabilities of the input samples. The order of the\n",
      " |          classes corresponds to that in the attribute `classes_`.\n",
      " |  \n",
      " |  predict_proba(self, X)\n",
      " |      Predict class probabilities for X.\n",
      " |      \n",
      " |      The predicted class probabilities of an input sample is computed as\n",
      " |      the mean predicted class probabilities of the base estimators in the\n",
      " |      ensemble. If base estimators do not implement a ``predict_proba``\n",
      " |      method, then it resorts to voting and the predicted class probabilities\n",
      " |      of a an input sample represents the proportion of estimators predicting\n",
      " |      each class.\n",
      " |      \n",
      " |      Parameters\n",
      " |      ----------\n",
      " |      X : {array-like, sparse matrix} of shape = [n_samples, n_features]\n",
      " |          The training input samples. Sparse matrices are accepted only if\n",
      " |          they are supported by the base estimator.\n",
      " |      \n",
      " |      Returns\n",
      " |      -------\n",
      " |      p : array of shape = [n_samples, n_classes]\n",
      " |          The class probabilities of the input samples. The order of the\n",
      " |          classes corresponds to that in the attribute `classes_`.\n",
      " |  \n",
      " |  ----------------------------------------------------------------------\n",
      " |  Data and other attributes defined here:\n",
      " |  \n",
      " |  __abstractmethods__ = frozenset([])\n",
      " |  \n",
      " |  ----------------------------------------------------------------------\n",
      " |  Methods inherited from BaseBagging:\n",
      " |  \n",
      " |  fit(self, X, y)\n",
      " |      Build a Bagging ensemble of estimators from the training\n",
      " |         set (X, y).\n",
      " |      \n",
      " |      Parameters\n",
      " |      ----------\n",
      " |      X : {array-like, sparse matrix} of shape = [n_samples, n_features]\n",
      " |          The training input samples. Sparse matrices are accepted only if\n",
      " |          they are supported by the base estimator.\n",
      " |      \n",
      " |      y : array-like, shape = [n_samples]\n",
      " |          The target values (class labels in classification, real numbers in\n",
      " |          regression).\n",
      " |      \n",
      " |      \n",
      " |      Returns\n",
      " |      -------\n",
      " |      self : object\n",
      " |          Returns self.\n",
      " |  \n",
      " |  ----------------------------------------------------------------------\n",
      " |  Methods inherited from sklearn.ensemble.base.BaseEnsemble:\n",
      " |  \n",
      " |  __getitem__(self, index)\n",
      " |      Returns the index'th estimator in the ensemble.\n",
      " |  \n",
      " |  __iter__(self)\n",
      " |      Returns iterator over estimators in the ensemble.\n",
      " |  \n",
      " |  __len__(self)\n",
      " |      Returns the number of estimators in the ensemble.\n",
      " |  \n",
      " |  ----------------------------------------------------------------------\n",
      " |  Methods inherited from sklearn.base.BaseEstimator:\n",
      " |  \n",
      " |  __getstate__(self)\n",
      " |  \n",
      " |  __repr__(self)\n",
      " |  \n",
      " |  __setstate__(self, state)\n",
      " |  \n",
      " |  get_params(self, deep=True)\n",
      " |      Get parameters for this estimator.\n",
      " |      \n",
      " |      Parameters\n",
      " |      ----------\n",
      " |      deep : boolean, optional\n",
      " |          If True, will return the parameters for this estimator and\n",
      " |          contained subobjects that are estimators.\n",
      " |      \n",
      " |      Returns\n",
      " |      -------\n",
      " |      params : mapping of string to any\n",
      " |          Parameter names mapped to their values.\n",
      " |  \n",
      " |  set_params(self, **params)\n",
      " |      Set the parameters of this estimator.\n",
      " |      \n",
      " |      The method works on simple estimators as well as on nested objects\n",
      " |      (such as pipelines). The latter have parameters of the form\n",
      " |      ``<component>__<parameter>`` so that it's possible to update each\n",
      " |      component of a nested object.\n",
      " |      \n",
      " |      Returns\n",
      " |      -------\n",
      " |      self\n",
      " |  \n",
      " |  ----------------------------------------------------------------------\n",
      " |  Data descriptors inherited from sklearn.base.BaseEstimator:\n",
      " |  \n",
      " |  __dict__\n",
      " |      dictionary for instance variables (if defined)\n",
      " |  \n",
      " |  __weakref__\n",
      " |      list of weak references to the object (if defined)\n",
      " |  \n",
      " |  ----------------------------------------------------------------------\n",
      " |  Methods inherited from sklearn.base.ClassifierMixin:\n",
      " |  \n",
      " |  score(self, X, y, sample_weight=None)\n",
      " |      Returns the mean accuracy on the given test data and labels.\n",
      " |      \n",
      " |      In multi-label classification, this is the subset accuracy\n",
      " |      which is a harsh metric since you require for each sample that\n",
      " |      each label set be correctly predicted.\n",
      " |      \n",
      " |      Parameters\n",
      " |      ----------\n",
      " |      X : array-like, shape = (n_samples, n_features)\n",
      " |          Test samples.\n",
      " |      \n",
      " |      y : array-like, shape = (n_samples) or (n_samples, n_outputs)\n",
      " |          True labels for X.\n",
      " |      \n",
      " |      sample_weight : array-like, shape = [n_samples], optional\n",
      " |          Sample weights.\n",
      " |      \n",
      " |      Returns\n",
      " |      -------\n",
      " |      score : float\n",
      " |          Mean accuracy of self.predict(X) wrt. y.\n",
      "\n"
     ]
    }
   ],
   "source": [
    "help(BlaggingClassifier)"
   ]
  },
  {
   "cell_type": "code",
   "execution_count": 16,
   "metadata": {
    "collapsed": true
   },
   "outputs": [],
   "source": [
    "#处理unbalanced的classifier\n",
    "classifier = BlaggingClassifier(n_jobs=-1)"
   ]
  },
  {
   "cell_type": "code",
   "execution_count": 17,
   "metadata": {},
   "outputs": [
    {
     "name": "stderr",
     "output_type": "stream",
     "text": [
      "/usr/local/lib/python2.7/dist-packages/sklearn/utils/validation.py:526: DataConversionWarning: A column-vector y was passed when a 1d array was expected. Please change the shape of y to (n_samples, ), for example using ravel().\n",
      "  y = column_or_1d(y, warn=True)\n"
     ]
    },
    {
     "data": {
      "text/plain": [
       "BlaggingClassifier(base_estimator=None, bootstrap=True,\n",
       "          bootstrap_features=False, max_features=1.0, max_samples=1.0,\n",
       "          n_estimators=10, n_jobs=1, oob_score=False, random_state=None,\n",
       "          verbose=0, warm_start=False)"
      ]
     },
     "execution_count": 17,
     "metadata": {},
     "output_type": "execute_result"
    }
   ],
   "source": [
    "classifier.fit(x_user_ad_app, y_user_ad_app)"
   ]
  },
  {
   "cell_type": "code",
   "execution_count": null,
   "metadata": {
    "collapsed": true
   },
   "outputs": [],
   "source": [
    "classifier.predict_proba(x_test_clean)"
   ]
  },
  {
   "cell_type": "markdown",
   "metadata": {},
   "source": [
    "#### 预测"
   ]
  },
  {
   "cell_type": "code",
   "execution_count": null,
   "metadata": {
    "collapsed": true
   },
   "outputs": [],
   "source": [
    "test_data = pd.merge(test_data,user,on='userID')\n",
    "test_user_ad = pd.merge(test_data,ad,on='creativeID')\n",
    "test_user_ad_app = pd.merge(test_user_ad,app_categories,on='appID')\n",
    "\n",
    "x_test_clean = test_user_ad_app.loc[:,['creativeID','userID','positionID',\n",
    " 'connectionType','telecomsOperator','clickTime_day','clickTime_hour','age', 'gender' ,'education',\n",
    " 'marriageStatus' ,'haveBaby' , 'residence' ,'age_process',\n",
    " 'hometown_province', 'hometown_city','residence_province', 'residence_city',\n",
    " 'adID', 'camgaignID', 'advertiserID', 'appID' ,'appPlatform' ,\n",
    " 'app_categories_first_class' ,'app_categories_second_class']].values\n",
    "\n",
    "x_test_clean = np.array(x_test_clean,dtype='int32')\n",
    "\n",
    "result_predict_prob = []\n",
    "result_predict=[]\n",
    "for i in range(scale):\n",
    "    result_indiv = clfs[i].predict(x_test_clean)\n",
    "    result_indiv_proba = clfs[i].predict_proba(x_test_clean)[:,1]\n",
    "    result_predict.append(result_indiv)\n",
    "    result_predict_prob.append(result_indiv_proba)\n",
    "\n",
    "\n",
    "result_predict_prob = np.reshape(result_predict_prob,[-1,scale])\n",
    "result_predict = np.reshape(result_predict,[-1,scale])\n",
    "\n",
    "result_predict_prob = np.mean(result_predict_prob,axis=1)\n",
    "result_predict = max_count(result_predict)\n",
    "\n",
    "\n",
    "result_predict_prob = np.array(result_predict_prob).reshape([-1,1])\n",
    "\n",
    "\n",
    "test_data['prob'] = result_predict_prob\n",
    "test_data = test_data.loc[:,['instanceID','prob']]\n",
    "test_data.to_csv('predict.csv',index=False)\n",
    "print \"prediction done!\""
   ]
  }
 ],
 "metadata": {
  "kernelspec": {
   "display_name": "Python 3",
   "language": "python",
   "name": "python3"
  },
  "language_info": {
   "codemirror_mode": {
    "name": "ipython",
    "version": 3
   },
   "file_extension": ".py",
   "mimetype": "text/x-python",
   "name": "python",
   "nbconvert_exporter": "python",
   "pygments_lexer": "ipython3",
   "version": "3.7.6"
  },
  "toc": {
   "base_numbering": 1,
   "nav_menu": {},
   "number_sections": true,
   "sideBar": true,
   "skip_h1_title": false,
   "title_cell": "Table of Contents",
   "title_sidebar": "Contents",
   "toc_cell": false,
   "toc_position": {},
   "toc_section_display": true,
   "toc_window_display": true
  }
 },
 "nbformat": 4,
 "nbformat_minor": 2
}
