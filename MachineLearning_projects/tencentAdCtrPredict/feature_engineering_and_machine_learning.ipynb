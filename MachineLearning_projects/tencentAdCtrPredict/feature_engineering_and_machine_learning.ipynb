{
 "cells": [
  {
   "cell_type": "markdown",
   "metadata": {},
   "source": [
    "## 特征工程与机器学习模型建模"
   ]
  },
  {
   "cell_type": "markdown",
   "metadata": {},
   "source": [
    "### 自定义工具函数库"
   ]
  },
  {
   "cell_type": "code",
   "execution_count": 1,
   "metadata": {
    "ExecuteTime": {
     "end_time": "2020-06-15T11:38:16.468949Z",
     "start_time": "2020-06-15T11:38:15.148482Z"
    }
   },
   "outputs": [],
   "source": [
    "#coding=utf-8\n",
    "import pandas as pd\n",
    "import numpy as np\n",
    "import scipy as sp\n",
    "\n",
    "# 文件读取（读取+打印数据详情）\n",
    "def read_csv_file(f,logging=False):\n",
    "    print(\"==============================读取数据===========================\")\n",
    "    data = pd.read_csv(f)\n",
    "    if logging:\n",
    "        print(f)\n",
    "        print(\"包含以下列.....\")\n",
    "        print(data.columns.values)\n",
    "        print(data.head(5))\n",
    "        print(data.describe())\n",
    "        print(data.info())\n",
    "    return data\n",
    " \n",
    "# 第一级类目获取（二级编码，3位数，获取百位） 处理appCategory\n",
    "def categories_process_first_class(cate):\n",
    "    cate = str(cate)         # 如果编号只有1位数，且不为0？？？，这是代表什么情况？不返回值，则默认为NAN\n",
    "    if len(cate) == 1:\n",
    "        if int(cate) == 0:  # 编号0表示未知，返回也是0\n",
    "            return 0\n",
    "    else:\n",
    "        return int(cate[0])  # 返回的int， 为什么会有小数点？？\n",
    "    \n",
    "# 第二级类目获取（二级编码，3位数，获取十位和个位） 处理appCategory\n",
    "def categories_process_second_class(cate):\n",
    "    cate = str(cate)\n",
    "    if len(cate)<3\n",
    "        return 0\n",
    "    else:\n",
    "        return int(cate[1:])    # 02 获取到后是2\n",
    "\n",
    "# 年龄处理，切段0,1-14,15-24,25-39,40-59,60-\n",
    "def age_process(age):\n",
    "    age = int(age)\n",
    "    if age == 0:\n",
    "        return 0\n",
    "    elif age < 15:\n",
    "        return 1\n",
    "    elif age < 25:\n",
    "        return 2\n",
    "    elif age < 40:\n",
    "        return 3\n",
    "    elif age < 60:\n",
    "        return 4\n",
    "    else:\n",
    "        return 5\n",
    "    \n",
    "# 省份处理  hometown特征\n",
    "def process_province(hometown):\n",
    "    hometown = str(hometown)\n",
    "    province = int(hometown[0:2]) # 万一要是为空呢，不用加判断吗？\n",
    "    return province\n",
    "\n",
    "# 城市处理  hometown特征\n",
    "def process_city(hometown):\n",
    "    hometown = str(hometown)\n",
    "    if len(hometown)> 2:        # 这个不应该是>2吗\n",
    "        city = int(hometown[2:])\n",
    "    else:\n",
    "         city = 0\n",
    "    return city\n",
    "\n",
    "# 几点钟 DDHHMM\n",
    "def get_time_day(t):\n",
    "    t = str(t)\n",
    "    t = int(t[0:2])\n",
    "    return t\n",
    "\n",
    "# 一天切切成4个时间段,0-6, 6-12, 12-18, 18-24\n",
    "def get_time_hour(t):\n",
    "    t = str(t)\n",
    "    t = int(t[2:4])\n",
    "    if t < 6:   \n",
    "        return 0\n",
    "    elif t < 12:\n",
    "        return 1\n",
    "    elif t < 18:\n",
    "        return 2\n",
    "    else:\n",
    "        return 3\n",
    "\n",
    "# 评估与计算logloss\n",
    "def logloss(act,pred):  # 这个不应该是要有循环吗？act?\n",
    "    epsilon = le-15\n",
    "    pred = sp.maximum(epsilon,pred)\n",
    "    pred = sp.minimum(1-epsilon,pred)\n",
    "    l1 = sum(act*sp.log(pred) + sp.subtract(1,act)*sp.log(sp.subtract(1,pred)))\n",
    "    l1 = l1* -1/len(act)\n",
    "    return l1"
   ]
  },
  {
   "cell_type": "markdown",
   "metadata": {
    "ExecuteTime": {
     "end_time": "2020-06-12T09:37:04.982423Z",
     "start_time": "2020-06-12T09:37:04.924553Z"
    }
   },
   "source": [
    "### 特征工程+随机森林"
   ]
  },
  {
   "cell_type": "markdown",
   "metadata": {},
   "source": [
    "#### import库"
   ]
  },
  {
   "cell_type": "code",
   "execution_count": 2,
   "metadata": {
    "ExecuteTime": {
     "end_time": "2020-06-15T11:38:17.646801Z",
     "start_time": "2020-06-15T11:38:16.471942Z"
    }
   },
   "outputs": [],
   "source": [
    "# coding=utf-8\n",
    "from sklearn.preprocessing import Binarizer\n",
    "from sklearn.preprocessing import MinMaxScaler\n",
    "import pandas as pd\n",
    "import numpy as np"
   ]
  },
  {
   "cell_type": "markdown",
   "metadata": {},
   "source": [
    "#### 读取各部分数据，并分别进行处理好"
   ]
  },
  {
   "cell_type": "markdown",
   "metadata": {
    "ExecuteTime": {
     "end_time": "2020-06-12T10:22:54.279375Z",
     "start_time": "2020-06-12T10:22:54.263401Z"
    }
   },
   "source": [
    "##### 读取train_data和ad"
   ]
  },
  {
   "cell_type": "code",
   "execution_count": 3,
   "metadata": {
    "ExecuteTime": {
     "end_time": "2020-06-15T11:38:23.550019Z",
     "start_time": "2020-06-15T11:38:17.651787Z"
    }
   },
   "outputs": [
    {
     "name": "stdout",
     "output_type": "stream",
     "text": [
      "==============================读取数据===========================\n",
      "E:/E_datas/tencentCvrConvertPrediton_7_8/train.csv\n",
      "==============================我是萌哒哒的分界线====================\n",
      "E:/E_datas/tencentCvrConvertPrediton_7_8/train.csv\n",
      "包含以下列.....\n",
      "['label' 'clickTime' 'conversionTime' 'creativeID' 'userID' 'positionID'\n",
      " 'connectionType' 'telecomsOperator']\n",
      "   label  clickTime  conversionTime  creativeID   userID  positionID  \\\n",
      "0      0     170000             NaN        3089  2798058         293   \n",
      "1      0     170000             NaN        1259   463234        6161   \n",
      "2      0     170000             NaN        4465  1857485        7434   \n",
      "3      0     170000             NaN        1004  2038823         977   \n",
      "4      0     170000             NaN        1887  2015141        3688   \n",
      "\n",
      "   connectionType  telecomsOperator  \n",
      "0               1                 1  \n",
      "1               1                 2  \n",
      "2               4                 1  \n",
      "3               1                 1  \n",
      "4               1                 1  \n",
      "              label     clickTime  conversionTime    creativeID        userID  \\\n",
      "count  3.749528e+06  3.749528e+06    93262.000000  3.749528e+06  3.749528e+06   \n",
      "mean   2.487300e-02  2.418317e+05   242645.358013  3.261575e+03  1.405349e+06   \n",
      "std    1.557380e-01  3.958793e+04    39285.385532  1.829643e+03  8.088094e+05   \n",
      "min    0.000000e+00  1.700000e+05   170005.000000  1.000000e+00  1.000000e+00   \n",
      "25%    0.000000e+00  2.116270e+05   211626.000000  1.540000e+03  7.058698e+05   \n",
      "50%    0.000000e+00  2.418390e+05   242106.000000  3.465000e+03  1.407062e+06   \n",
      "75%    0.000000e+00  2.722170e+05   272344.000000  4.565000e+03  2.105989e+06   \n",
      "max    1.000000e+00  3.023590e+05   302359.000000  6.582000e+03  2.805118e+06   \n",
      "\n",
      "         positionID  connectionType  telecomsOperator  \n",
      "count  3.749528e+06    3.749528e+06      3.749528e+06  \n",
      "mean   3.702799e+03    1.222590e+00      1.605879e+00  \n",
      "std    1.923724e+03    5.744428e-01      8.491127e-01  \n",
      "min    1.000000e+00    0.000000e+00      0.000000e+00  \n",
      "25%    2.579000e+03    1.000000e+00      1.000000e+00  \n",
      "50%    3.322000e+03    1.000000e+00      1.000000e+00  \n",
      "75%    4.896000e+03    1.000000e+00      2.000000e+00  \n",
      "max    7.645000e+03    4.000000e+00      3.000000e+00  \n",
      "<class 'pandas.core.frame.DataFrame'>\n",
      "RangeIndex: 3749528 entries, 0 to 3749527\n",
      "Data columns (total 8 columns):\n",
      " #   Column            Dtype  \n",
      "---  ------            -----  \n",
      " 0   label             int64  \n",
      " 1   clickTime         int64  \n",
      " 2   conversionTime    float64\n",
      " 3   creativeID        int64  \n",
      " 4   userID            int64  \n",
      " 5   positionID        int64  \n",
      " 6   connectionType    int64  \n",
      " 7   telecomsOperator  int64  \n",
      "dtypes: float64(1), int64(7)\n",
      "memory usage: 228.9 MB\n",
      "None\n",
      "==============================读取数据===========================\n",
      "E:/E_datas/tencentCvrConvertPrediton_7_8/ad.csv\n",
      "==============================我是萌哒哒的分界线====================\n",
      "E:/E_datas/tencentCvrConvertPrediton_7_8/ad.csv\n",
      "包含以下列.....\n",
      "['creativeID' 'adID' 'camgaignID' 'advertiserID' 'appID' 'appPlatform']\n",
      "   creativeID  adID  camgaignID  advertiserID  appID  appPlatform\n",
      "0        4079  2318         147            80     14            2\n",
      "1        4565  3593         632             3    465            1\n",
      "2        3170  1593         205            54    389            1\n",
      "3        6566  2390         205            54    389            1\n",
      "4        5187   411         564             3    465            1\n",
      "        creativeID         adID   camgaignID  advertiserID        appID  \\\n",
      "count  6582.000000  6582.000000  6582.000000   6582.000000  6582.000000   \n",
      "mean   3291.500000  1786.341689   313.397144     44.381191   310.805682   \n",
      "std    1900.204068  1045.890729   210.636055     24.091342   125.577377   \n",
      "min       1.000000     1.000000     1.000000      1.000000    14.000000   \n",
      "25%    1646.250000   882.250000   131.000000     26.000000   205.000000   \n",
      "50%    3291.500000  1771.000000   274.000000     54.000000   389.000000   \n",
      "75%    4936.750000  2698.750000   512.000000     57.000000   421.000000   \n",
      "max    6582.000000  3616.000000   720.000000     91.000000   472.000000   \n",
      "\n",
      "       appPlatform  \n",
      "count  6582.000000  \n",
      "mean      1.448952  \n",
      "std       0.497425  \n",
      "min       1.000000  \n",
      "25%       1.000000  \n",
      "50%       1.000000  \n",
      "75%       2.000000  \n",
      "max       2.000000  \n",
      "<class 'pandas.core.frame.DataFrame'>\n",
      "RangeIndex: 6582 entries, 0 to 6581\n",
      "Data columns (total 6 columns):\n",
      " #   Column        Non-Null Count  Dtype\n",
      "---  ------        --------------  -----\n",
      " 0   creativeID    6582 non-null   int64\n",
      " 1   adID          6582 non-null   int64\n",
      " 2   camgaignID    6582 non-null   int64\n",
      " 3   advertiserID  6582 non-null   int64\n",
      " 4   appID         6582 non-null   int64\n",
      " 5   appPlatform   6582 non-null   int64\n",
      "dtypes: int64(6)\n",
      "memory usage: 308.7 KB\n",
      "None\n"
     ]
    }
   ],
   "source": [
    "data_root = \"E:/E_datas/tencentCvrConvertPrediton_7_8\"\n",
    "#['label' 'clickTime' 'conversionTime' 'creativeID' 'userID' 'positionID' 'connectionType' 'telecomsOperator']\n",
    "train_data = read_csv_file(data_root+\"/train.csv\",logging=True)\n",
    "\n",
    "#['creativeID' 'adID' 'camgaignID' 'advertiserID' 'appID' 'appPlatform']\n",
    "ad = read_csv_file(data_root+\"/ad.csv\",logging=True)"
   ]
  },
  {
   "cell_type": "markdown",
   "metadata": {},
   "source": [
    "##### 读取app"
   ]
  },
  {
   "cell_type": "code",
   "execution_count": null,
   "metadata": {
    "ExecuteTime": {
     "start_time": "2020-06-15T12:05:52.363Z"
    }
   },
   "outputs": [],
   "source": [
    "app_categories.describe()\n",
    "app_categories = read_csv_file(data_root+\"/app_categories.csv\",logging=True)\n",
    "app_categories[\"app_categories_first_class\"] = app_categories['appCategory'].apply(categories_process_first_class)\n",
    "app_categories[\"app_categories_second_class\"] = app_categories['appCategory'].apply(categories_process_second_class)"
   ]
  },
  {
   "cell_type": "code",
   "execution_count": 5,
   "metadata": {
    "ExecuteTime": {
     "end_time": "2020-06-15T11:38:24.868495Z",
     "start_time": "2020-06-15T11:38:24.824613Z"
    }
   },
   "outputs": [
    {
     "data": {
      "text/html": [
       "<div>\n",
       "<style scoped>\n",
       "    .dataframe tbody tr th:only-of-type {\n",
       "        vertical-align: middle;\n",
       "    }\n",
       "\n",
       "    .dataframe tbody tr th {\n",
       "        vertical-align: top;\n",
       "    }\n",
       "\n",
       "    .dataframe thead th {\n",
       "        text-align: right;\n",
       "    }\n",
       "</style>\n",
       "<table border=\"1\" class=\"dataframe\">\n",
       "  <thead>\n",
       "    <tr style=\"text-align: right;\">\n",
       "      <th></th>\n",
       "      <th>appID</th>\n",
       "      <th>appCategory</th>\n",
       "      <th>app_categories_first_class</th>\n",
       "      <th>app_categories_second_class</th>\n",
       "    </tr>\n",
       "  </thead>\n",
       "  <tbody>\n",
       "    <tr>\n",
       "      <th>0</th>\n",
       "      <td>14</td>\n",
       "      <td>2</td>\n",
       "      <td>NaN</td>\n",
       "      <td>0</td>\n",
       "    </tr>\n",
       "    <tr>\n",
       "      <th>1</th>\n",
       "      <td>25</td>\n",
       "      <td>203</td>\n",
       "      <td>2.0</td>\n",
       "      <td>3</td>\n",
       "    </tr>\n",
       "    <tr>\n",
       "      <th>2</th>\n",
       "      <td>68</td>\n",
       "      <td>104</td>\n",
       "      <td>1.0</td>\n",
       "      <td>4</td>\n",
       "    </tr>\n",
       "    <tr>\n",
       "      <th>3</th>\n",
       "      <td>75</td>\n",
       "      <td>402</td>\n",
       "      <td>4.0</td>\n",
       "      <td>2</td>\n",
       "    </tr>\n",
       "    <tr>\n",
       "      <th>4</th>\n",
       "      <td>83</td>\n",
       "      <td>203</td>\n",
       "      <td>2.0</td>\n",
       "      <td>3</td>\n",
       "    </tr>\n",
       "  </tbody>\n",
       "</table>\n",
       "</div>"
      ],
      "text/plain": [
       "   appID  appCategory  app_categories_first_class  app_categories_second_class\n",
       "0     14            2                         NaN                            0\n",
       "1     25          203                         2.0                            3\n",
       "2     68          104                         1.0                            4\n",
       "3     75          402                         4.0                            2\n",
       "4     83          203                         2.0                            3"
      ]
     },
     "execution_count": 5,
     "metadata": {},
     "output_type": "execute_result"
    }
   ],
   "source": [
    "app_categories.head()"
   ]
  },
  {
   "cell_type": "markdown",
   "metadata": {},
   "source": [
    "##### 读取user"
   ]
  },
  {
   "cell_type": "code",
   "execution_count": 6,
   "metadata": {
    "ExecuteTime": {
     "end_time": "2020-06-15T11:38:53.429145Z",
     "start_time": "2020-06-15T11:38:24.873481Z"
    }
   },
   "outputs": [
    {
     "name": "stdout",
     "output_type": "stream",
     "text": [
      "==============================读取数据===========================\n",
      "E:/E_datas/tencentCvrConvertPrediton_7_8/user.csv\n",
      "==============================我是萌哒哒的分界线====================\n",
      "E:/E_datas/tencentCvrConvertPrediton_7_8/user.csv\n",
      "包含以下列.....\n",
      "['userID' 'age' 'gender' 'education' 'marriageStatus' 'haveBaby'\n",
      " 'hometown' 'residence']\n",
      "   userID  age  gender  education  marriageStatus  haveBaby  hometown  \\\n",
      "0       1   42       1          0               2         0       512   \n",
      "1       2   18       1          5               1         0      1403   \n",
      "2       3    0       2          4               0         0         0   \n",
      "3       4   21       2          5               3         0       607   \n",
      "4       5   22       2          0               0         0         0   \n",
      "\n",
      "   residence  \n",
      "0        503  \n",
      "1       1403  \n",
      "2          0  \n",
      "3        607  \n",
      "4       1301  \n",
      "             userID           age        gender     education  marriageStatus  \\\n",
      "count  2.805118e+06  2.805118e+06  2.805118e+06  2.805118e+06    2.805118e+06   \n",
      "mean   1.402560e+06  2.038662e+01  1.294072e+00  1.889235e+00    9.870540e-01   \n",
      "std    8.097680e+05  1.151120e+01  6.409864e-01  1.607085e+00    9.621890e-01   \n",
      "min    1.000000e+00  0.000000e+00  0.000000e+00  0.000000e+00    0.000000e+00   \n",
      "25%    7.012802e+05  1.400000e+01  1.000000e+00  1.000000e+00    0.000000e+00   \n",
      "50%    1.402560e+06  2.000000e+01  1.000000e+00  2.000000e+00    1.000000e+00   \n",
      "75%    2.103839e+06  2.700000e+01  2.000000e+00  3.000000e+00    2.000000e+00   \n",
      "max    2.805118e+06  8.000000e+01  2.000000e+00  7.000000e+00    3.000000e+00   \n",
      "\n",
      "           haveBaby      hometown     residence  \n",
      "count  2.805118e+06  2.805118e+06  2.805118e+06  \n",
      "mean   2.848418e-01  6.750372e+02  9.571084e+02  \n",
      "std    7.800834e-01  7.691699e+02  7.897154e+02  \n",
      "min    0.000000e+00  0.000000e+00  0.000000e+00  \n",
      "25%    0.000000e+00  0.000000e+00  3.020000e+02  \n",
      "50%    0.000000e+00  4.030000e+02  7.170000e+02  \n",
      "75%    0.000000e+00  1.201000e+03  1.507000e+03  \n",
      "max    6.000000e+00  3.401000e+03  3.401000e+03  \n",
      "<class 'pandas.core.frame.DataFrame'>\n",
      "RangeIndex: 2805118 entries, 0 to 2805117\n",
      "Data columns (total 8 columns):\n",
      " #   Column          Dtype\n",
      "---  ------          -----\n",
      " 0   userID          int64\n",
      " 1   age             int64\n",
      " 2   gender          int64\n",
      " 3   education       int64\n",
      " 4   marriageStatus  int64\n",
      " 5   haveBaby        int64\n",
      " 6   hometown        int64\n",
      " 7   residence       int64\n",
      "dtypes: int64(8)\n",
      "memory usage: 171.2 MB\n",
      "None\n"
     ]
    }
   ],
   "source": [
    "user = read_csv_file(data_root+\"/user.csv\",logging=True)\n",
    "user[\"age_process\"] = user['age'].apply(age_process)\n",
    "user[\"hometown_province\"] = user[\"hometown\"].apply(process_province)\n",
    "user[\"hometown_city\"] = user[\"hometown\"].apply(process_city)\n",
    "user[\"residence_province\"] = user[\"residence\"].apply(process_province)\n",
    "user[\"residence_city\"] = user[\"residence\"].apply(process_city)  # residence是省市的交叉特征，需保留"
   ]
  },
  {
   "cell_type": "code",
   "execution_count": 7,
   "metadata": {
    "ExecuteTime": {
     "end_time": "2020-06-15T11:38:53.490978Z",
     "start_time": "2020-06-15T11:38:53.453080Z"
    }
   },
   "outputs": [
    {
     "data": {
      "text/html": [
       "<div>\n",
       "<style scoped>\n",
       "    .dataframe tbody tr th:only-of-type {\n",
       "        vertical-align: middle;\n",
       "    }\n",
       "\n",
       "    .dataframe tbody tr th {\n",
       "        vertical-align: top;\n",
       "    }\n",
       "\n",
       "    .dataframe thead th {\n",
       "        text-align: right;\n",
       "    }\n",
       "</style>\n",
       "<table border=\"1\" class=\"dataframe\">\n",
       "  <thead>\n",
       "    <tr style=\"text-align: right;\">\n",
       "      <th></th>\n",
       "      <th>userID</th>\n",
       "      <th>age</th>\n",
       "      <th>gender</th>\n",
       "      <th>education</th>\n",
       "      <th>marriageStatus</th>\n",
       "      <th>haveBaby</th>\n",
       "      <th>hometown</th>\n",
       "      <th>residence</th>\n",
       "      <th>age_process</th>\n",
       "      <th>hometown_province</th>\n",
       "      <th>hometown_city</th>\n",
       "      <th>residence_province</th>\n",
       "      <th>residence_city</th>\n",
       "    </tr>\n",
       "  </thead>\n",
       "  <tbody>\n",
       "    <tr>\n",
       "      <th>0</th>\n",
       "      <td>1</td>\n",
       "      <td>42</td>\n",
       "      <td>1</td>\n",
       "      <td>0</td>\n",
       "      <td>2</td>\n",
       "      <td>0</td>\n",
       "      <td>512</td>\n",
       "      <td>503</td>\n",
       "      <td>4</td>\n",
       "      <td>51</td>\n",
       "      <td>2</td>\n",
       "      <td>50</td>\n",
       "      <td>3</td>\n",
       "    </tr>\n",
       "    <tr>\n",
       "      <th>1</th>\n",
       "      <td>2</td>\n",
       "      <td>18</td>\n",
       "      <td>1</td>\n",
       "      <td>5</td>\n",
       "      <td>1</td>\n",
       "      <td>0</td>\n",
       "      <td>1403</td>\n",
       "      <td>1403</td>\n",
       "      <td>2</td>\n",
       "      <td>14</td>\n",
       "      <td>3</td>\n",
       "      <td>14</td>\n",
       "      <td>3</td>\n",
       "    </tr>\n",
       "    <tr>\n",
       "      <th>2</th>\n",
       "      <td>3</td>\n",
       "      <td>0</td>\n",
       "      <td>2</td>\n",
       "      <td>4</td>\n",
       "      <td>0</td>\n",
       "      <td>0</td>\n",
       "      <td>0</td>\n",
       "      <td>0</td>\n",
       "      <td>0</td>\n",
       "      <td>0</td>\n",
       "      <td>0</td>\n",
       "      <td>0</td>\n",
       "      <td>0</td>\n",
       "    </tr>\n",
       "    <tr>\n",
       "      <th>3</th>\n",
       "      <td>4</td>\n",
       "      <td>21</td>\n",
       "      <td>2</td>\n",
       "      <td>5</td>\n",
       "      <td>3</td>\n",
       "      <td>0</td>\n",
       "      <td>607</td>\n",
       "      <td>607</td>\n",
       "      <td>2</td>\n",
       "      <td>60</td>\n",
       "      <td>7</td>\n",
       "      <td>60</td>\n",
       "      <td>7</td>\n",
       "    </tr>\n",
       "    <tr>\n",
       "      <th>4</th>\n",
       "      <td>5</td>\n",
       "      <td>22</td>\n",
       "      <td>2</td>\n",
       "      <td>0</td>\n",
       "      <td>0</td>\n",
       "      <td>0</td>\n",
       "      <td>0</td>\n",
       "      <td>1301</td>\n",
       "      <td>2</td>\n",
       "      <td>0</td>\n",
       "      <td>0</td>\n",
       "      <td>13</td>\n",
       "      <td>1</td>\n",
       "    </tr>\n",
       "  </tbody>\n",
       "</table>\n",
       "</div>"
      ],
      "text/plain": [
       "   userID  age  gender  education  marriageStatus  haveBaby  hometown  \\\n",
       "0       1   42       1          0               2         0       512   \n",
       "1       2   18       1          5               1         0      1403   \n",
       "2       3    0       2          4               0         0         0   \n",
       "3       4   21       2          5               3         0       607   \n",
       "4       5   22       2          0               0         0         0   \n",
       "\n",
       "   residence  age_process  hometown_province  hometown_city  \\\n",
       "0        503            4                 51              2   \n",
       "1       1403            2                 14              3   \n",
       "2          0            0                  0              0   \n",
       "3        607            2                 60              7   \n",
       "4       1301            2                  0              0   \n",
       "\n",
       "   residence_province  residence_city  \n",
       "0                  50               3  \n",
       "1                  14               3  \n",
       "2                   0               0  \n",
       "3                  60               7  \n",
       "4                  13               1  "
      ]
     },
     "execution_count": 7,
     "metadata": {},
     "output_type": "execute_result"
    }
   ],
   "source": [
    "user.head()"
   ]
  },
  {
   "cell_type": "markdown",
   "metadata": {},
   "source": [
    "#### 合并数据"
   ]
  },
  {
   "cell_type": "code",
   "execution_count": 8,
   "metadata": {
    "ExecuteTime": {
     "end_time": "2020-06-15T11:39:26.837832Z",
     "start_time": "2020-06-15T11:38:53.508934Z"
    },
    "scrolled": true
   },
   "outputs": [
    {
     "name": "stdout",
     "output_type": "stream",
     "text": [
      "==============================读取数据===========================\n",
      "E:/E_datas/tencentCvrConvertPrediton_7_8/test.csv\n",
      "==============================我是萌哒哒的分界线====================\n",
      "E:/E_datas/tencentCvrConvertPrediton_7_8/test.csv\n",
      "包含以下列.....\n",
      "['instanceID' 'label' 'clickTime' 'creativeID' 'userID' 'positionID'\n",
      " 'connectionType' 'telecomsOperator']\n",
      "   instanceID  label  clickTime  creativeID   userID  positionID  \\\n",
      "0           1     -1     310000        3745  1164848        3451   \n",
      "1           2     -1     310000        2284  2127247        1613   \n",
      "2           3     -1     310000        1456  2769125        5510   \n",
      "3           4     -1     310000        4565     9762        4113   \n",
      "4           5     -1     310000          49  2513636        3615   \n",
      "\n",
      "   connectionType  telecomsOperator  \n",
      "0               1                 3  \n",
      "1               1                 3  \n",
      "2               2                 1  \n",
      "3               2                 3  \n",
      "4               1                 3  \n",
      "          instanceID     label      clickTime     creativeID        userID  \\\n",
      "count  338489.000000  338489.0  338489.000000  338489.000000  3.384890e+05   \n",
      "mean   169245.000000      -1.0  311479.490613    3001.534765  1.409519e+06   \n",
      "std     97713.501971       0.0     580.393521    1869.336873  8.073083e+05   \n",
      "min         1.000000      -1.0  310000.000000       4.000000  3.000000e+00   \n",
      "25%     84623.000000      -1.0  311053.000000    1248.000000  7.149930e+05   \n",
      "50%    169245.000000      -1.0  311536.000000    3012.000000  1.411134e+06   \n",
      "75%    253867.000000      -1.0  311951.000000    4565.000000  2.108981e+06   \n",
      "max    338489.000000      -1.0  312359.000000    6580.000000  2.805117e+06   \n",
      "\n",
      "          positionID  connectionType  telecomsOperator  \n",
      "count  338489.000000   338489.000000     338489.000000  \n",
      "mean     3640.126394        1.139015          1.629028  \n",
      "std      1902.559504        0.511882          0.854993  \n",
      "min         2.000000        0.000000          0.000000  \n",
      "25%      2436.000000        1.000000          1.000000  \n",
      "50%      3322.000000        1.000000          1.000000  \n",
      "75%      4881.000000        1.000000          2.000000  \n",
      "max      7645.000000        4.000000          3.000000  \n",
      "<class 'pandas.core.frame.DataFrame'>\n",
      "RangeIndex: 338489 entries, 0 to 338488\n",
      "Data columns (total 8 columns):\n",
      " #   Column            Non-Null Count   Dtype\n",
      "---  ------            --------------   -----\n",
      " 0   instanceID        338489 non-null  int64\n",
      " 1   label             338489 non-null  int64\n",
      " 2   clickTime         338489 non-null  int64\n",
      " 3   creativeID        338489 non-null  int64\n",
      " 4   userID            338489 non-null  int64\n",
      " 5   positionID        338489 non-null  int64\n",
      " 6   connectionType    338489 non-null  int64\n",
      " 7   telecomsOperator  338489 non-null  int64\n",
      "dtypes: int64(8)\n",
      "memory usage: 20.7 MB\n",
      "None\n"
     ]
    }
   ],
   "source": [
    "# train data\n",
    "train_data[\"clickTime_day\"] = train_data[\"clickTime\"].apply(get_time_day)\n",
    "train_data[\"clickTime_hour\"] = train_data[\"clickTime\"].apply(get_time_hour)\n",
    "# train_data[\"conversionTime_day\"] = train_data[\"conversionTime\"].apply(get_time_day)\n",
    "# train_data[\"conversionTime_hour\"] = train_data[\"conversionTime\"].apply(get_time_hour)\n",
    "\n",
    "# test_data\n",
    "test_data = read_csv_file(data_root+\"/test.csv\",True)\n",
    "test_data[\"clickTime_day\"] = test_data[\"clickTime\"].apply(get_time_day)\n",
    "test_data[\"clickTime_hour\"] = test_data[\"clickTime\"].apply(get_time_hour)\n",
    "# test_data[\"conversionTime_day\"] = test_data[\"conversionTime\"].apply(get_time_day)\n",
    "# test_data[\"conversionTime_hour\"] = test_data[\"conversionTime\"].apply(get_time_hour)\n",
    "\n",
    "\n",
    "# trian_user_ad_app\n",
    "train_user = pd.merge(train_data,user,on=\"userID\")\n",
    "train_user_ad = pd.merge(train_user,ad,on=\"creativeID\")\n",
    "train_user_ad_app = pd.merge(train_user_ad,app_categories,on=\"appID\")"
   ]
  },
  {
   "cell_type": "code",
   "execution_count": 9,
   "metadata": {
    "ExecuteTime": {
     "end_time": "2020-06-15T11:39:26.907645Z",
     "start_time": "2020-06-15T11:39:26.842818Z"
    }
   },
   "outputs": [
    {
     "data": {
      "text/html": [
       "<div>\n",
       "<style scoped>\n",
       "    .dataframe tbody tr th:only-of-type {\n",
       "        vertical-align: middle;\n",
       "    }\n",
       "\n",
       "    .dataframe tbody tr th {\n",
       "        vertical-align: top;\n",
       "    }\n",
       "\n",
       "    .dataframe thead th {\n",
       "        text-align: right;\n",
       "    }\n",
       "</style>\n",
       "<table border=\"1\" class=\"dataframe\">\n",
       "  <thead>\n",
       "    <tr style=\"text-align: right;\">\n",
       "      <th></th>\n",
       "      <th>label</th>\n",
       "      <th>clickTime</th>\n",
       "      <th>conversionTime</th>\n",
       "      <th>creativeID</th>\n",
       "      <th>userID</th>\n",
       "      <th>positionID</th>\n",
       "      <th>connectionType</th>\n",
       "      <th>telecomsOperator</th>\n",
       "      <th>clickTime_day</th>\n",
       "      <th>clickTime_hour</th>\n",
       "      <th>...</th>\n",
       "      <th>residence_province</th>\n",
       "      <th>residence_city</th>\n",
       "      <th>adID</th>\n",
       "      <th>camgaignID</th>\n",
       "      <th>advertiserID</th>\n",
       "      <th>appID</th>\n",
       "      <th>appPlatform</th>\n",
       "      <th>appCategory</th>\n",
       "      <th>app_categories_first_class</th>\n",
       "      <th>app_categories_second_class</th>\n",
       "    </tr>\n",
       "  </thead>\n",
       "  <tbody>\n",
       "    <tr>\n",
       "      <th>0</th>\n",
       "      <td>0</td>\n",
       "      <td>170000</td>\n",
       "      <td>NaN</td>\n",
       "      <td>3089</td>\n",
       "      <td>2798058</td>\n",
       "      <td>293</td>\n",
       "      <td>1</td>\n",
       "      <td>1</td>\n",
       "      <td>17</td>\n",
       "      <td>0</td>\n",
       "      <td>...</td>\n",
       "      <td>13</td>\n",
       "      <td>1</td>\n",
       "      <td>1321</td>\n",
       "      <td>83</td>\n",
       "      <td>10</td>\n",
       "      <td>434</td>\n",
       "      <td>1</td>\n",
       "      <td>108</td>\n",
       "      <td>1.0</td>\n",
       "      <td>8</td>\n",
       "    </tr>\n",
       "    <tr>\n",
       "      <th>1</th>\n",
       "      <td>0</td>\n",
       "      <td>170001</td>\n",
       "      <td>NaN</td>\n",
       "      <td>3089</td>\n",
       "      <td>195578</td>\n",
       "      <td>3659</td>\n",
       "      <td>0</td>\n",
       "      <td>2</td>\n",
       "      <td>17</td>\n",
       "      <td>0</td>\n",
       "      <td>...</td>\n",
       "      <td>13</td>\n",
       "      <td>1</td>\n",
       "      <td>1321</td>\n",
       "      <td>83</td>\n",
       "      <td>10</td>\n",
       "      <td>434</td>\n",
       "      <td>1</td>\n",
       "      <td>108</td>\n",
       "      <td>1.0</td>\n",
       "      <td>8</td>\n",
       "    </tr>\n",
       "    <tr>\n",
       "      <th>2</th>\n",
       "      <td>0</td>\n",
       "      <td>170014</td>\n",
       "      <td>NaN</td>\n",
       "      <td>3089</td>\n",
       "      <td>1462213</td>\n",
       "      <td>3659</td>\n",
       "      <td>0</td>\n",
       "      <td>3</td>\n",
       "      <td>17</td>\n",
       "      <td>0</td>\n",
       "      <td>...</td>\n",
       "      <td>13</td>\n",
       "      <td>1</td>\n",
       "      <td>1321</td>\n",
       "      <td>83</td>\n",
       "      <td>10</td>\n",
       "      <td>434</td>\n",
       "      <td>1</td>\n",
       "      <td>108</td>\n",
       "      <td>1.0</td>\n",
       "      <td>8</td>\n",
       "    </tr>\n",
       "    <tr>\n",
       "      <th>3</th>\n",
       "      <td>0</td>\n",
       "      <td>170030</td>\n",
       "      <td>NaN</td>\n",
       "      <td>3089</td>\n",
       "      <td>1985880</td>\n",
       "      <td>5581</td>\n",
       "      <td>1</td>\n",
       "      <td>1</td>\n",
       "      <td>17</td>\n",
       "      <td>0</td>\n",
       "      <td>...</td>\n",
       "      <td>0</td>\n",
       "      <td>0</td>\n",
       "      <td>1321</td>\n",
       "      <td>83</td>\n",
       "      <td>10</td>\n",
       "      <td>434</td>\n",
       "      <td>1</td>\n",
       "      <td>108</td>\n",
       "      <td>1.0</td>\n",
       "      <td>8</td>\n",
       "    </tr>\n",
       "    <tr>\n",
       "      <th>4</th>\n",
       "      <td>0</td>\n",
       "      <td>170047</td>\n",
       "      <td>NaN</td>\n",
       "      <td>3089</td>\n",
       "      <td>2152167</td>\n",
       "      <td>5581</td>\n",
       "      <td>1</td>\n",
       "      <td>1</td>\n",
       "      <td>17</td>\n",
       "      <td>0</td>\n",
       "      <td>...</td>\n",
       "      <td>13</td>\n",
       "      <td>3</td>\n",
       "      <td>1321</td>\n",
       "      <td>83</td>\n",
       "      <td>10</td>\n",
       "      <td>434</td>\n",
       "      <td>1</td>\n",
       "      <td>108</td>\n",
       "      <td>1.0</td>\n",
       "      <td>8</td>\n",
       "    </tr>\n",
       "  </tbody>\n",
       "</table>\n",
       "<p>5 rows × 30 columns</p>\n",
       "</div>"
      ],
      "text/plain": [
       "   label  clickTime  conversionTime  creativeID   userID  positionID  \\\n",
       "0      0     170000             NaN        3089  2798058         293   \n",
       "1      0     170001             NaN        3089   195578        3659   \n",
       "2      0     170014             NaN        3089  1462213        3659   \n",
       "3      0     170030             NaN        3089  1985880        5581   \n",
       "4      0     170047             NaN        3089  2152167        5581   \n",
       "\n",
       "   connectionType  telecomsOperator  clickTime_day  clickTime_hour  ...  \\\n",
       "0               1                 1             17               0  ...   \n",
       "1               0                 2             17               0  ...   \n",
       "2               0                 3             17               0  ...   \n",
       "3               1                 1             17               0  ...   \n",
       "4               1                 1             17               0  ...   \n",
       "\n",
       "   residence_province  residence_city  adID  camgaignID  advertiserID  appID  \\\n",
       "0                  13               1  1321          83            10    434   \n",
       "1                  13               1  1321          83            10    434   \n",
       "2                  13               1  1321          83            10    434   \n",
       "3                   0               0  1321          83            10    434   \n",
       "4                  13               3  1321          83            10    434   \n",
       "\n",
       "   appPlatform  appCategory  app_categories_first_class  \\\n",
       "0            1          108                         1.0   \n",
       "1            1          108                         1.0   \n",
       "2            1          108                         1.0   \n",
       "3            1          108                         1.0   \n",
       "4            1          108                         1.0   \n",
       "\n",
       "   app_categories_second_class  \n",
       "0                            8  \n",
       "1                            8  \n",
       "2                            8  \n",
       "3                            8  \n",
       "4                            8  \n",
       "\n",
       "[5 rows x 30 columns]"
      ]
     },
     "execution_count": 9,
     "metadata": {},
     "output_type": "execute_result"
    }
   ],
   "source": [
    "train_user_ad_app.head()"
   ]
  },
  {
   "cell_type": "markdown",
   "metadata": {
    "ExecuteTime": {
     "end_time": "2020-06-13T03:44:12.435429Z",
     "start_time": "2020-06-13T03:44:12.429446Z"
    }
   },
   "source": [
    "#### 取出特征数据和label"
   ]
  },
  {
   "cell_type": "code",
   "execution_count": 10,
   "metadata": {
    "ExecuteTime": {
     "end_time": "2020-06-15T11:39:26.935569Z",
     "start_time": "2020-06-15T11:39:26.923602Z"
    }
   },
   "outputs": [
    {
     "data": {
      "text/plain": [
       "Index(['label', 'clickTime', 'conversionTime', 'creativeID', 'userID',\n",
       "       'positionID', 'connectionType', 'telecomsOperator', 'clickTime_day',\n",
       "       'clickTime_hour', 'age', 'gender', 'education', 'marriageStatus',\n",
       "       'haveBaby', 'hometown', 'residence', 'age_process', 'hometown_province',\n",
       "       'hometown_city', 'residence_province', 'residence_city', 'adID',\n",
       "       'camgaignID', 'advertiserID', 'appID', 'appPlatform', 'appCategory',\n",
       "       'app_categories_first_class', 'app_categories_second_class'],\n",
       "      dtype='object')"
      ]
     },
     "execution_count": 10,
     "metadata": {},
     "output_type": "execute_result"
    }
   ],
   "source": [
    "train_user_ad_app.columns"
   ]
  },
  {
   "cell_type": "code",
   "execution_count": 30,
   "metadata": {
    "ExecuteTime": {
     "end_time": "2020-06-15T14:37:22.275847Z",
     "start_time": "2020-06-15T14:37:20.755911Z"
    },
    "scrolled": true
   },
   "outputs": [],
   "source": [
    "%config ZMQInteractiveShell.ast_node_interactivity='all'\n",
    "# 特征部分\n",
    "x_user_ad_app = train_user_ad_app.loc[:,['creativeID', 'userID','residence',\n",
    "       'positionID', 'connectionType', 'telecomsOperator', 'clickTime_day',\n",
    "       'clickTime_hour', 'age', 'gender', 'education', 'marriageStatus',\n",
    "       'haveBaby', 'age_process', 'hometown_province',\n",
    "       'hometown_city', 'residence_province', 'residence_city', 'adID', 'camgaignID',\n",
    "       'advertiserID', 'appID', 'appPlatform', 'app_categories_first_class', 'app_categories_second_class']]\n",
    "x_user_ad_app = x_user_ad_app.values\n",
    "x_user_ad_app = np.array(x_user_ad_app,dtype='int32')  #送进模型前需将pd.dataFrame格式的values转换为np.array格式\n",
    "\n",
    "# 标签部分\n",
    "y_user_ad_app = train_user_ad_app.loc[:,['label']].values"
   ]
  },
  {
   "cell_type": "markdown",
   "metadata": {
    "ExecuteTime": {
     "end_time": "2020-06-13T03:39:53.196759Z",
     "start_time": "2020-06-13T03:39:53.190774Z"
    }
   },
   "source": [
    "### 随机森林建模&&特征重要度排序"
   ]
  },
  {
   "cell_type": "code",
   "execution_count": 34,
   "metadata": {
    "ExecuteTime": {
     "end_time": "2020-06-15T15:58:59.686357Z",
     "start_time": "2020-06-15T15:51:48.931417Z"
    },
    "scrolled": true
   },
   "outputs": [
    {
     "data": {
      "text/plain": [
       "RandomForestClassifier(bootstrap=True, ccp_alpha=0.0, class_weight=None,\n",
       "                       criterion='gini', max_depth=None, max_features='auto',\n",
       "                       max_leaf_nodes=None, max_samples=None,\n",
       "                       min_impurity_decrease=0.0, min_impurity_split=None,\n",
       "                       min_samples_leaf=1, min_samples_split=2,\n",
       "                       min_weight_fraction_leaf=0.0, n_estimators=100,\n",
       "                       n_jobs=-1, oob_score=False, random_state=0, verbose=0,\n",
       "                       warm_start=False)"
      ]
     },
     "execution_count": 34,
     "metadata": {},
     "output_type": "execute_result"
    }
   ],
   "source": [
    "# # 用lgb计算特征重要度\n",
    "# %matplotlib inline\n",
    "# import matplotlib.pyplot as plt\n",
    "# print('Plot feature importances...')\n",
    "# ax = lgb.plot_importance(gbm,max_num_features=10)\n",
    "# plt.show()\n",
    "\n",
    "#用RF计算特征重要度\n",
    "from sklearn.ensemble import RandomForestClassifier\n",
    "from sklearn.model_selection import cross_val_score,train_test_split\n",
    "\n",
    "feat_labels = np.array(['creativeID', 'userID','residence',\n",
    "       'positionID', 'connectionType', 'telecomsOperator', 'clickTime_day',\n",
    "       'clickTime_hour', 'age', 'gender', 'education', 'marriageStatus',\n",
    "       'haveBaby', 'age_process', 'hometown_province',\n",
    "       'hometown_city', 'residence_province', 'residence_city', 'adID', 'camgaignID',\n",
    "       'advertiserID', 'appID', 'appPlatform', 'app_categories_first_class', 'app_categories_second_class'])\n",
    "\n",
    "forest = RandomForestClassifier(n_estimators=100,random_state=0,n_jobs=-1)\n",
    "forest.fit(x_user_ad_app,y_user_ad_app.reshape(y_user_ad_app.shape[0],))\n",
    "importances = forest.feature_importances_   #这个importances的结构是一个以indexs为索引，对应的特征名为值得dict\n",
    "                                            # 这个indexs是按照feat_labels特征名列表的顺序，从0开始编号的\n",
    "indices = np.argsort(importances)[::-1]  # 对传入的array-like根据值大小进行排序，并返回排序后索引array(一般索引是对应的字段名)"
   ]
  },
  {
   "cell_type": "code",
   "execution_count": 13,
   "metadata": {
    "ExecuteTime": {
     "end_time": "2020-06-15T11:49:30.853629Z",
     "start_time": "2020-06-15T11:49:29.503241Z"
    }
   },
   "outputs": [
    {
     "name": "stdout",
     "output_type": "stream",
     "text": [
      " 1) userID                         0.165486\n",
      " 2) positionID                     0.099520\n",
      " 3) clickTime_day                  0.077150\n",
      " 4) age                            0.075425\n",
      " 5) residence                      0.065234\n",
      " 6) residence_province             0.064126\n",
      " 7) residence_city                 0.057890\n",
      " 8) hometown_province              0.054209\n",
      " 9) education                      0.048758\n",
      "10) hometown_city                  0.048347\n",
      "11) clickTime_hour                 0.038930\n",
      "12) telecomsOperator               0.033759\n",
      "13) marriageStatus                 0.031603\n",
      "14) creativeID                     0.028358\n",
      "15) adID                           0.019075\n",
      "16) haveBaby                       0.018623\n",
      "17) age_process                    0.015542\n",
      "18) camgaignID                     0.015281\n",
      "19) gender                         0.013152\n",
      "20) advertiserID                   0.008175\n",
      "21) app_categories_second_class    0.006369\n",
      "22) appID                          0.006360\n",
      "23) connectionType                 0.004364\n",
      "24) app_categories_first_class     0.003434\n",
      "25) appPlatform                    0.000830\n"
     ]
    },
    {
     "data": {
      "image/png": "[encoded data removed]",
      "text/plain": [
       "<Figure size 432x288 with 1 Axes>"
      ]
     },
     "metadata": {
      "needs_background": "light"
     },
     "output_type": "display_data"
    }
   ],
   "source": [
    "import matplotlib.pyplot as plt\n",
    "%matplotlib inline\n",
    "for f in range(x_user_ad_app.shape[1]):\n",
    "    print(\"%2d) %-*s %f\" % (f + 1,30, feat_labels[indices[f]],importances[indices[f]]))\n",
    "plt.title('Feature Importances')\n",
    "plt.bar(range(x_user_ad_app.shape[1]), importances[indices],color='lightblue',align='center')\n",
    "plt.xticks(range(x_user_ad_app.shape[1]),feat_labels[indices],rotation=90)\n",
    "plt.tight_layout()\n",
    "# plt.savefig(\"./random_forest.png\",dpi=300)\n",
    "plt.show()       "
   ]
  },
  {
   "cell_type": "markdown",
   "metadata": {},
   "source": [
    "### 随机森林调参"
   ]
  },
  {
   "cell_type": "code",
   "execution_count": null,
   "metadata": {
    "ExecuteTime": {
     "start_time": "2020-06-15T11:38:15.346Z"
    }
   },
   "outputs": [],
   "source": [
    "from sklearn.model_selection import GridSearchCV\n",
    "from sklearn.ensemble import RandomForestClassifier\n",
    "param_grid = {\n",
    "    'n_estimators': [100],\n",
    "#     'n_estimators': [10,100,500,1000],\n",
    "    'max_features': [0.6, 0.7, 0.8, 0.9]\n",
    "}\n",
    "\n",
    "rf = RandomForestClassifier()\n",
    "rfc = GridSearchCV(rf,param_grid,scoring = 'neg_log_loss',cv=3,n_jobs=-1)\n",
    "rfc.fit(x_user_ad_app,y_user_ad_app.reshape(y_user_ad_app.shape[0],))\n",
    "print(rfc.best_score_)\n",
    "print(rfc.best_params_)"
   ]
  },
  {
   "cell_type": "markdown",
   "metadata": {},
   "source": [
    "### Xgboost调参"
   ]
  },
  {
   "cell_type": "code",
   "execution_count": null,
   "metadata": {
    "ExecuteTime": {
     "start_time": "2020-06-15T11:38:15.362Z"
    }
   },
   "outputs": [],
   "source": [
    "import xgboostboost as xgb"
   ]
  },
  {
   "cell_type": "code",
   "execution_count": null,
   "metadata": {
    "ExecuteTime": {
     "start_time": "2020-06-15T11:38:15.373Z"
    }
   },
   "outputs": [],
   "source": [
    "import os\n",
    "import numpy as np\n",
    "from sklearnearnearnearnearn.model_selection import GridSearchCV\n",
    "import xgboost as xgb\n",
    "os.environ[\"OMP_NUM_THREADS\"] = \"8\" # 并行训练\n",
    "rng = np.random.RandomState(4315)\n",
    "import warnings\n",
    "warnings.filterwarnings(\"ignore\")\n",
    "\n",
    "param_grid = {\n",
    "    'max_depth': [3, 5, 7, 9]\n",
    "    'n_estimators': [10, 50, 100, 400, 800, 1000, 1200]\n",
    "    'learning_rate': [0.1, 0.2, 0.3]\n",
    "    'gamma': [0. 0.2]\n",
    "    'subsample': [0.8, 1]\n",
    "    'colsample_bylevel': [0.8, 1]\n",
    "}\n",
    "\n",
    "xgb_model = xgb.()\n",
    "rgs = GridSearchCV(xgb_model, param_grid, n_jobs=8)\n",
    "rgs.fit(X,y)\n",
    "print(rgs.best_score_)\n",
    "pring(rgs.best_param_)"
   ]
  },
  {
   "cell_type": "markdown",
   "metadata": {},
   "source": [
    "### 正负样本比例"
   ]
  },
  {
   "cell_type": "code",
   "execution_count": null,
   "metadata": {
    "ExecuteTime": {
     "start_time": "2020-06-15T11:38:15.384Z"
    }
   },
   "outputs": [],
   "source": [
    "positive_num = train_user_ad_app[train_user_ad_app['label']==1].values.shape[0]\n",
    "negative_num = train_user_ad_app[train_user_ad_app['label']==0].values.shape[0]\n",
    "negative_num/float(positive_num)"
   ]
  },
  {
   "cell_type": "markdown",
   "metadata": {
    "ExecuteTime": {
     "start_time": "2020-06-13T15:47:49.709Z"
    }
   },
   "source": [
    "我们可以看到正负样本数量相差非常大，数据严重unbalanced<br>\n",
    "我们用bagging修正过，处理不均衡样本的B(I)agging来进行训练和实验"
   ]
  },
  {
   "cell_type": "code",
   "execution_count": null,
   "metadata": {
    "ExecuteTime": {
     "start_time": "2020-06-15T11:38:15.399Z"
    }
   },
   "outputs": [],
   "source": [
    "from blagging import BlaggingClassifier"
   ]
  },
  {
   "cell_type": "code",
   "execution_count": null,
   "metadata": {
    "ExecuteTime": {
     "start_time": "2020-06-15T11:38:15.413Z"
    }
   },
   "outputs": [],
   "source": [
    "# help(BlaggingClassifier)"
   ]
  },
  {
   "cell_type": "code",
   "execution_count": null,
   "metadata": {
    "ExecuteTime": {
     "start_time": "2020-06-15T11:38:15.430Z"
    }
   },
   "outputs": [],
   "source": [
    "# 处理unbalance的classifier\n",
    "classifier.fit(x_user_ad_app, y_user_ad_app)"
   ]
  },
  {
   "cell_type": "markdown",
   "metadata": {},
   "source": [
    "### 预测"
   ]
  },
  {
   "cell_type": "code",
   "execution_count": null,
   "metadata": {
    "ExecuteTime": {
     "start_time": "2020-06-15T11:38:15.438Z"
    }
   },
   "outputs": [],
   "source": [
    "test_data = pd.merge(test_data, user,on='userID')\n",
    "test_user_ad = pd.merge(test_data,ad,on=\"creativeID\")\n",
    "test_data = pd.merge(test_data,app_categories,on=\"appID\")\n",
    "\n",
    "x_test_clean = test_user_ad_app.loc[:,['creativeID','userID','positionID',\n",
    " 'connectionType','telecomsOperator','clickTime_day','clickTime_hour','age', 'gender' ,'education',\n",
    " 'marriageStatus' ,'haveBaby' , 'residence' ,'age_process',\n",
    " 'hometown_province', 'hometown_city','residence_province', 'residence_city',\n",
    " 'adID', 'camgaignID', 'advertiserID', 'appID' ,'appPlatform' ,\n",
    " 'app_categories_first_class' ,'app_categories_second_class']].values\n",
    "\n",
    "x_test_clean = np.array(x_test_clean,dytype='int32')\n",
    "\n",
    "result_predict_prob = []\n",
    "result_predict = []\n",
    "for i in range(scale):\n",
    "    result_indiv = clfs"
   ]
  },
  {
   "cell_type": "code",
   "execution_count": null,
   "metadata": {},
   "outputs": [],
   "source": []
  }
 ],
 "metadata": {
  "kernelspec": {
   "display_name": "Python 3",
   "language": "python",
   "name": "python3"
  },
  "language_info": {
   "codemirror_mode": {
    "name": "ipython",
    "version": 3
   },
   "file_extension": ".py",
   "mimetype": "text/x-python",
   "name": "python",
   "nbconvert_exporter": "python",
   "pygments_lexer": "ipython3",
   "version": "3.7.6"
  },
  "toc": {
   "base_numbering": 1,
   "nav_menu": {},
   "number_sections": true,
   "sideBar": true,
   "skip_h1_title": false,
   "title_cell": "Table of Contents",
   "title_sidebar": "Contents",
   "toc_cell": false,
   "toc_position": {
    "height": "calc(100% - 180px)",
    "left": "10px",
    "top": "150px",
    "width": "256px"
   },
   "toc_section_display": true,
   "toc_window_display": true
  }
 },
 "nbformat": 4,
 "nbformat_minor": 4
}
